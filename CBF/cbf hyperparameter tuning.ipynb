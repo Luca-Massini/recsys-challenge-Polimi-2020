{
 "cells": [
  {
   "cell_type": "markdown",
   "source": [
    "Hyperparameter tuning"
   ],
   "metadata": {
    "collapsed": false,
    "pycharm": {
     "name": "#%% md\n"
    }
   }
  },
  {
   "cell_type": "code",
   "execution_count": 1,
   "metadata": {
    "collapsed": true
   },
   "outputs": [],
   "source": [
    "from CBF.cbf_recommender import cbf_recommender\n",
    "from utils.evaluator.evaluator import evaluator\n",
    "from utils.submission_helper import submission_helper\n",
    "from utils.data_manager.data_manager import data_manager\n",
    "from utils.data_manager.splitter import splitter\n",
    "\n",
    "import matplotlib.pyplot as plt\n",
    "import numpy as np\n",
    "import pandas as pd"
   ]
  },
  {
   "cell_type": "markdown",
   "source": [
    "Now I'm trying to discover the best similarity heuristic and also if there is a dependency on the k parameter"
   ],
   "metadata": {
    "collapsed": false
   }
  },
  {
   "cell_type": "code",
   "execution_count": 2,
   "outputs": [],
   "source": [
    "training, validation, test = splitter().get_train_evaluation_test(percentage_of_training_data=0.6,\n",
    "                                                                  percentage_of_validation_data=0.2)"
   ],
   "metadata": {
    "collapsed": false,
    "pycharm": {
     "name": "#%%\n"
    }
   }
  },
  {
   "cell_type": "code",
   "execution_count": 3,
   "outputs": [
    {
     "name": "stdout",
     "output_type": "stream",
     "text": [
      "Similarity column 25975 ( 100 % ), 1571.95 column/sec, elapsed time 0.28 min\n",
      "Similarity column 25975 ( 100 % ), 1299.09 column/sec, elapsed time 0.33 min\n",
      "Similarity column 25975 ( 100 % ), 1507.73 column/sec, elapsed time 0.29 min\n",
      "Similarity column 25975 ( 100 % ), 1416.92 column/sec, elapsed time 0.31 min\n",
      "Similarity column 25975 ( 100 % ), 1363.16 column/sec, elapsed time 0.32 min\n",
      "Similarity column 25975 ( 100 % ), 1209.59 column/sec, elapsed time 0.36 min\n",
      "Similarity column 25975 ( 100 % ), 1271.35 column/sec, elapsed time 0.34 min\n",
      "Similarity column 25975 ( 100 % ), 882.18 column/sec, elapsed time 0.49 min\n",
      "Similarity column 25975 ( 100 % ), 1048.56 column/sec, elapsed time 0.41 min\n",
      "Similarity column 25975 ( 100 % ), 1207.63 column/sec, elapsed time 0.36 min\n",
      "Similarity column 25975 ( 100 % ), 1128.90 column/sec, elapsed time 0.38 min\n",
      "Similarity column 25975 ( 100 % ), 1389.93 column/sec, elapsed time 0.31 min\n",
      "Similarity column 25975 ( 100 % ), 1293.44 column/sec, elapsed time 0.33 min\n",
      "Similarity column 25975 ( 100 % ), 1250.00 column/sec, elapsed time 0.35 min\n",
      "Similarity column 25975 ( 100 % ), 1427.90 column/sec, elapsed time 0.30 min\n",
      "Similarity column 25975 ( 100 % ), 958.70 column/sec, elapsed time 0.45 min\n",
      "Similarity column 25975 ( 100 % ), 1419.55 column/sec, elapsed time 0.30 min\n",
      "Similarity column 25975 ( 100 % ), 1454.86 column/sec, elapsed time 0.30 min\n",
      "Similarity column 25975 ( 100 % ), 1476.11 column/sec, elapsed time 0.29 min\n",
      "Similarity column 25975 ( 100 % ), 1335.20 column/sec, elapsed time 0.32 min\n",
      "Similarity column 25975 ( 100 % ), 1181.86 column/sec, elapsed time 0.37 min\n",
      "Similarity column 25975 ( 100 % ), 1209.10 column/sec, elapsed time 0.36 min\n",
      "Similarity column 25975 ( 100 % ), 992.13 column/sec, elapsed time 0.44 min\n",
      "Similarity column 25975 ( 100 % ), 1028.55 column/sec, elapsed time 0.42 min\n",
      "k:  100 map:  [0.008307993399011488, 0.014405451876249252, 0.007886436543783258, 0.014405451876249252, 0.022733092382995052, 0.022733092382995052, 0.0227695168527594, 0.022733092382995052] similarities:  ['pearson', 'cosine', 'adjusted', 'asymmetric', 'jaccard', 'tanimoto', 'dice', 'tversky']\n",
      "k:  250 map:  [0.008630455821161951, 0.015134150088435112, 0.007861897970422731, 0.015134150088435112, 0.022078477100286813, 0.022078477100286813, 0.02213038343694224, 0.022078477100286813] similarities:  ['pearson', 'cosine', 'adjusted', 'asymmetric', 'jaccard', 'tanimoto', 'dice', 'tversky']\n",
      "k:  400 map:  [0.009048186466905308, 0.015103593802302235, 0.007840832472069417, 0.015103593802302235, 0.02179938936008653, 0.02179938936008653, 0.02188001772484875, 0.02179938936008653] similarities:  ['pearson', 'cosine', 'adjusted', 'asymmetric', 'jaccard', 'tanimoto', 'dice', 'tversky']\n"
     ]
    }
   ],
   "source": [
    "k = [100, 250, 400]\n",
    "similarities = ['pearson', 'cosine', 'adjusted', 'asymmetric', 'jaccard', 'tanimoto',\n",
    "                             'dice', 'tversky']\n",
    "map_vectors = []\n",
    "for chosen_k in k:\n",
    "    map_vector = []\n",
    "    for chosen_similarity in similarities:\n",
    "        recommender_ = cbf_recommender()\n",
    "        recommender_.fit(training, k=chosen_k, normalize=True, similarity=chosen_similarity)\n",
    "        map_vector.append(evaluator.evaluate_already_trained(recommender=recommender_)[2])\n",
    "    map_vectors.append(map_vector)\n",
    "index = 0\n",
    "for vector in map_vectors:\n",
    "    print(\"k: \", k[index], \"map: \", vector, \"similarities: \", similarities)\n",
    "    index+=1"
   ],
   "metadata": {
    "collapsed": false,
    "pycharm": {
     "name": "#%%\n"
    }
   }
  },
  {
   "cell_type": "code",
   "execution_count": null,
   "outputs": [
    {
     "name": "stdout",
     "output_type": "stream",
     "text": [
      "Similarity column 25975 ( 100 % ), 1227.78 column/sec, elapsed time 0.35 min\n",
      "Similarity column 25975 ( 100 % ), 1296.03 column/sec, elapsed time 0.33 min\n",
      "Similarity column 25975 ( 100 % ), 1248.38 column/sec, elapsed time 0.35 min\n",
      "Similarity column 25975 ( 100 % ), 1315.25 column/sec, elapsed time 0.33 min\n",
      "Similarity column 25975 ( 100 % ), 1302.00 column/sec, elapsed time 0.33 min\n",
      "Similarity column 25975 ( 100 % ), 1225.08 column/sec, elapsed time 0.35 min\n",
      "Similarity column 25975 ( 100 % ), 1148.83 column/sec, elapsed time 0.38 min\n",
      "Similarity column 25975 ( 100 % ), 1144.17 column/sec, elapsed time 0.38 min\n",
      "Similarity column 25975 ( 100 % ), 1326.88 column/sec, elapsed time 0.33 min\n",
      "Similarity column 25975 ( 100 % ), 1124.30 column/sec, elapsed time 0.39 min\n",
      "Similarity column 25975 ( 100 % ), 1146.19 column/sec, elapsed time 0.38 min\n",
      "Similarity column 25975 ( 100 % ), 1302.20 column/sec, elapsed time 0.33 min\n",
      "Similarity column 25975 ( 100 % ), 995.05 column/sec, elapsed time 0.44 min\n",
      "Similarity column 25975 ( 100 % ), 1251.92 column/sec, elapsed time 0.35 min\n"
     ]
    }
   ],
   "source": [
    "k_tested = [i for i in range(30,400,30)]\n",
    "k1 = [i for i in range(450, 700, 60)]\n",
    "k_tested = k_tested + k1\n",
    "map_=[]\n",
    "for k in k_tested:\n",
    "    recommender_k = cbf_recommender()\n",
    "    recommender_k.fit(training, k=k, normalize=True, similarity='jaccard')\n",
    "    map_.append(evaluator.evaluate_already_trained(recommender=recommender_k)[2])\n",
    "plt.plot(k_tested, map_)\n",
    "plt.ylabel('MAP')\n",
    "plt.xlabel('K')\n",
    "plt.show()"
   ],
   "metadata": {
    "collapsed": false,
    "pycharm": {
     "name": "#%%\n",
     "is_executing": true
    }
   }
  },
  {
   "cell_type": "code",
   "execution_count": null,
   "outputs": [],
   "source": [
    "k = k_tested[np.argmax(map_)]\n",
    "k"
   ],
   "metadata": {
    "collapsed": false,
    "pycharm": {
     "name": "#%%\n",
     "is_executing": true
    }
   }
  },
  {
   "cell_type": "code",
   "execution_count": null,
   "outputs": [],
   "source": [
    "shrinks = [i for i in range(6,400, 30)]\n",
    "map_=[]\n",
    "for s in shrinks:\n",
    "    recommender_shrink = cbf_recommender()\n",
    "    recommender_shrink.fit(training, k=90, shrink=s, normalize=True, similarity='jaccard')\n",
    "    map_.append(evaluator.evaluate_already_trained(recommender=recommender_shrink)[2])\n",
    "plt.plot(shrinks, map_)\n",
    "plt.ylabel('MAP')\n",
    "plt.xlabel('shrink')\n",
    "plt.show()"
   ],
   "metadata": {
    "collapsed": false,
    "pycharm": {
     "name": "#%%\n",
     "is_executing": true
    }
   }
  },
  {
   "cell_type": "code",
   "execution_count": null,
   "outputs": [],
   "source": [
    "shrink = shrinks[np.argmax(map_)]\n",
    "shrink\n"
   ],
   "metadata": {
    "collapsed": false,
    "pycharm": {
     "name": "#%%\n",
     "is_executing": true
    }
   }
  },
  {
   "cell_type": "code",
   "execution_count": null,
   "outputs": [],
   "source": [
    "shrinks = [i for i in range(10,60, 5)]\n",
    "map_=[]\n",
    "for s in shrinks:\n",
    "    recommender_s = cbf_recommender()\n",
    "    recommender_s.fit(training, k=90, shrink=s, normalize=True, similarity='jaccard')\n",
    "    map_.append(evaluator.evaluate_already_trained(recommender=recommender_s)[2])\n",
    "plt.plot(shrinks, map_)\n",
    "plt.ylabel('MAP')\n",
    "plt.xlabel('shrink')\n",
    "plt.show()"
   ],
   "metadata": {
    "collapsed": false,
    "pycharm": {
     "name": "#%%\n",
     "is_executing": true
    }
   }
  },
  {
   "cell_type": "code",
   "execution_count": null,
   "outputs": [],
   "source": [
    "shrink = shrinks[np.argmax(map_)]\n",
    "shrink"
   ],
   "metadata": {
    "collapsed": false,
    "pycharm": {
     "name": "#%%\n",
     "is_executing": true
    }
   }
  },
  {
   "cell_type": "code",
   "execution_count": null,
   "outputs": [],
   "source": [
    "from utils.IR_feature_weighting import okapi_BM_25\n",
    "ICM_BM25 = data_manager().get_icm().astype(np.float32)\n",
    "ICM_BM25 = okapi_BM_25(ICM_BM25)\n",
    "ICM_BM25 = ICM_BM25.tocsc()\n",
    "recommender_BM = cbf_recommender(icm=ICM_BM25)\n",
    "recommender_BM.fit(training_set=training, shrink=60, k=90, similarity='jaccard')\n",
    "map_ = evaluator.evaluate_already_trained(recommender=recommender_BM)[2]\n",
    "print(map_)"
   ],
   "metadata": {
    "collapsed": false,
    "pycharm": {
     "name": "#%%\n",
     "is_executing": true
    }
   }
  },
  {
   "cell_type": "code",
   "execution_count": null,
   "outputs": [],
   "source": [
    "from utils.IR_feature_weighting import TF_IDF\n",
    "import scipy.sparse as sparse\n",
    "icm = data_manager().get_icm()\n",
    "num_tot_items = icm.shape[0]\n",
    "items_per_feature = (icm>0).sum(axis=0)\n",
    "IDF = np.array(np.log(num_tot_items/items_per_feature))[0]\n",
    "icm_idf = icm.copy()\n",
    "col_nnz = np.diff(sparse.csc_matrix(icm_idf).indptr)\n",
    "icm_idf.data *= np.repeat(IDF, col_nnz)\n",
    "recommender_idf = cbf_recommender(icm=icm_idf)\n",
    "recommender_idf.fit(training_set=training, shrink=60, k =90, similarity='jaccard')\n",
    "map_ = evaluator.evaluate_already_trained(recommender=recommender_idf)[2]\n",
    "print(map_)\n",
    "\n"
   ],
   "metadata": {
    "collapsed": false,
    "pycharm": {
     "name": "#%%\n",
     "is_executing": true
    }
   }
  }
 ],
 "metadata": {
  "kernelspec": {
   "display_name": "Python 3",
   "language": "python",
   "name": "python3"
  },
  "language_info": {
   "codemirror_mode": {
    "name": "ipython",
    "version": 2
   },
   "file_extension": ".py",
   "mimetype": "text/x-python",
   "name": "python",
   "nbconvert_exporter": "python",
   "pygments_lexer": "ipython2",
   "version": "2.7.6"
  }
 },
 "nbformat": 4,
 "nbformat_minor": 0
}
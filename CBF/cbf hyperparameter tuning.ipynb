{
 "cells": [
  {
   "cell_type": "markdown",
   "source": [
    "Hyperparameter tuning"
   ],
   "metadata": {
    "collapsed": false,
    "pycharm": {
     "name": "#%% md\n"
    }
   }
  },
  {
   "cell_type": "code",
   "execution_count": 1,
   "metadata": {
    "collapsed": true
   },
   "outputs": [],
   "source": [
    "from CBF.cbf_recommender import cbf_recommender\n",
    "from utils.evaluator.evaluator import evaluator\n",
    "from utils.submission_helper import submission_helper\n",
    "from utils.data_manager.data_manager import data_manager\n",
    "from utils.data_manager.splitter import splitter\n",
    "\n",
    "import matplotlib.pyplot as plt\n",
    "import numpy as np\n",
    "import pandas as pd"
   ]
  },
  {
   "cell_type": "markdown",
   "source": [
    "Now I'm trying to discover the best similarity heuristic and also if there is a dependency on the k parameter"
   ],
   "metadata": {
    "collapsed": false
   }
  },
  {
   "cell_type": "code",
   "execution_count": 2,
   "outputs": [],
   "source": [
    "training, validation, test = splitter().get_train_evaluation_test(percentage_of_training_data=0.6,\n",
    "                                                                  percentage_of_validation_data=0.2)"
   ],
   "metadata": {
    "collapsed": false,
    "pycharm": {
     "name": "#%%\n"
    }
   }
  },
  {
   "cell_type": "code",
   "execution_count": 3,
   "outputs": [
    {
     "name": "stdout",
     "output_type": "stream",
     "text": [
      "Similarity column 25975 ( 100 % ), 1190.54 column/sec, elapsed time 0.36 min\n",
      "Similarity column 25975 ( 100 % ), 1349.54 column/sec, elapsed time 0.32 min\n",
      "Similarity column 25975 ( 100 % ), 1259.20 column/sec, elapsed time 0.34 min\n",
      "Similarity column 25975 ( 100 % ), 1344.53 column/sec, elapsed time 0.32 min\n",
      "Similarity column 25975 ( 100 % ), 1193.81 column/sec, elapsed time 0.36 min\n",
      "Similarity column 25975 ( 100 % ), 1086.71 column/sec, elapsed time 0.40 min\n",
      "Similarity column 25975 ( 100 % ), 1319.21 column/sec, elapsed time 0.33 min\n",
      "Similarity column 25975 ( 100 % ), 948.61 column/sec, elapsed time 0.46 min\n",
      "Similarity column 25975 ( 100 % ), 1273.36 column/sec, elapsed time 0.34 min\n",
      "Similarity column 25975 ( 100 % ), 1118.93 column/sec, elapsed time 0.39 min\n",
      "Similarity column 25975 ( 100 % ), 947.72 column/sec, elapsed time 0.46 min\n",
      "Similarity column 25975 ( 100 % ), 1237.85 column/sec, elapsed time 0.35 min\n",
      "Similarity column 25975 ( 100 % ), 1113.37 column/sec, elapsed time 0.39 min\n",
      "Similarity column 25975 ( 100 % ), 992.39 column/sec, elapsed time 0.44 min\n",
      "Similarity column 24100 ( 93 % ), 803.25 column/sec, elapsed time 0.50 min\n",
      "Similarity column 25975 ( 100 % ), 806.80 column/sec, elapsed time 0.54 min\n",
      "Similarity column 20200 ( 78 % ), 672.08 column/sec, elapsed time 0.50 min\n",
      "Similarity column 25975 ( 100 % ), 679.07 column/sec, elapsed time 0.64 min\n",
      "Similarity column 25975 ( 100 % ), 873.98 column/sec, elapsed time 0.50 min\n",
      "Similarity column 25975 ( 100 % ), 980.98 column/sec, elapsed time 0.44 min\n",
      "Similarity column 25975 ( 100 % ), 1154.39 column/sec, elapsed time 0.38 min\n",
      "Similarity column 25975 ( 100 % ), 1075.61 column/sec, elapsed time 0.40 min\n",
      "Similarity column 25975 ( 100 % ), 951.09 column/sec, elapsed time 0.46 min\n",
      "Similarity column 25975 ( 100 % ), 940.31 column/sec, elapsed time 0.46 min\n",
      "Similarity column 25975 ( 100 % ), 1038.17 column/sec, elapsed time 0.42 min\n",
      "Similarity column 17700 ( 68 % ), 589.16 column/sec, elapsed time 0.50 min\n",
      "Similarity column 25975 ( 100 % ), 593.18 column/sec, elapsed time 0.73 min\n",
      "k:  100 map:  [0.008307993399011488, 0.014405451876249252, 0.007886436543783258, 0.014405451876249252, 0.022733092382995052, 0.022733092382995052, 0.0227695168527594, 0.022733092382995052] similarities:  ['pearson', 'cosine', 'adjusted', 'asymmetric', 'jaccard', 'tanimoto', 'dice', 'tversky']\n",
      "k:  250 map:  [0.008630455821161951, 0.015134150088435112, 0.007861897970422731, 0.015134150088435112, 0.022078477100286813, 0.022078477100286813, 0.02213038343694224, 0.022078477100286813] similarities:  ['pearson', 'cosine', 'adjusted', 'asymmetric', 'jaccard', 'tanimoto', 'dice', 'tversky']\n",
      "k:  400 map:  [0.009048186466905308, 0.015103593802302235, 0.007840832472069417, 0.015103593802302235, 0.02179938936008653, 0.02179938936008653, 0.02188001772484875, 0.02179938936008653] similarities:  ['pearson', 'cosine', 'adjusted', 'asymmetric', 'jaccard', 'tanimoto', 'dice', 'tversky']\n"
     ]
    }
   ],
   "source": [
    "k = [100, 250, 400]\n",
    "similarities = ['pearson', 'cosine', 'adjusted', 'asymmetric', 'jaccard', 'tanimoto',\n",
    "                             'dice', 'tversky']\n",
    "map_vectors = []\n",
    "for chosen_k in k:\n",
    "    map_vector = []\n",
    "    for chosen_similarity in similarities:\n",
    "        recommender = cbf_recommender()\n",
    "        recommender.fit(training, k=chosen_k, normalize=True, similarity=chosen_similarity)\n",
    "        map_vector.append(evaluator.evaluate_already_trained(recommender=recommender)[2])\n",
    "    map_vectors.append(map_vector)\n",
    "index = 0\n",
    "for vector in map_vectors:\n",
    "    print(\"k: \", k[index], \"map: \", vector, \"similarities: \", similarities)\n",
    "    index+=1"
   ],
   "metadata": {
    "collapsed": false,
    "pycharm": {
     "name": "#%%\n"
    }
   }
  },
  {
   "cell_type": "code",
   "execution_count": 4,
   "outputs": [
    {
     "name": "stdout",
     "output_type": "stream",
     "text": [
      "Similarity column 25975 ( 100 % ), 992.93 column/sec, elapsed time 0.44 min\n",
      "Similarity column 25975 ( 100 % ), 896.71 column/sec, elapsed time 0.48 min\n",
      "Similarity column 25975 ( 100 % ), 1012.72 column/sec, elapsed time 0.43 min\n",
      "Similarity column 25975 ( 100 % ), 868.81 column/sec, elapsed time 0.50 min\n",
      "Similarity column 23900 ( 92 % ), 796.58 column/sec, elapsed time 0.50 min\n",
      "Similarity column 25975 ( 100 % ), 797.58 column/sec, elapsed time 0.54 min\n",
      "Similarity column 25975 ( 100 % ), 948.38 column/sec, elapsed time 0.46 min\n",
      "Similarity column 25975 ( 100 % ), 936.75 column/sec, elapsed time 0.46 min\n",
      "Similarity column 25975 ( 100 % ), 904.67 column/sec, elapsed time 0.48 min\n",
      "Similarity column 25975 ( 100 % ), 909.35 column/sec, elapsed time 0.48 min\n",
      "Similarity column 25300 ( 97 % ), 842.66 column/sec, elapsed time 0.50 min\n",
      "Similarity column 25975 ( 100 % ), 841.67 column/sec, elapsed time 0.51 min\n",
      "Similarity column 24200 ( 93 % ), 804.52 column/sec, elapsed time 0.50 min\n",
      "Similarity column 25975 ( 100 % ), 814.87 column/sec, elapsed time 0.53 min\n",
      "Similarity column 23900 ( 92 % ), 795.94 column/sec, elapsed time 0.50 min\n",
      "Similarity column 25975 ( 100 % ), 804.77 column/sec, elapsed time 0.54 min\n",
      "Similarity column 25975 ( 100 % ), 911.63 column/sec, elapsed time 0.47 min\n",
      "Similarity column 19900 ( 77 % ), 659.81 column/sec, elapsed time 0.50 min\n",
      "Similarity column 25975 ( 100 % ), 661.57 column/sec, elapsed time 0.65 min\n",
      "Similarity column 25975 ( 100 % ), 991.73 column/sec, elapsed time 0.44 min\n",
      "Similarity column 25975 ( 100 % ), 978.30 column/sec, elapsed time 0.44 min\n",
      "Similarity column 25200 ( 97 % ), 838.07 column/sec, elapsed time 0.50 min\n",
      "Similarity column 25975 ( 100 % ), 833.82 column/sec, elapsed time 0.52 min\n",
      "Similarity column 24400 ( 94 % ), 812.88 column/sec, elapsed time 0.50 min\n",
      "Similarity column 25975 ( 100 % ), 805.15 column/sec, elapsed time 0.54 min\n"
     ]
    },
    {
     "data": {
      "text/plain": "<Figure size 432x288 with 1 Axes>",
      "image/png": "[encoded data removed]"
     },
     "metadata": {
      "needs_background": "light"
     },
     "output_type": "display_data"
    }
   ],
   "source": [
    "k_tested = [i for i in range(30,400,30)]\n",
    "k1 = [i for i in range(450, 700, 60)]\n",
    "k_tested = k_tested + k1\n",
    "map_=[]\n",
    "for k in k_tested:\n",
    "    recommender = cbf_recommender()\n",
    "    recommender.fit(training, k=k, normalize=True, similarity='jaccard')\n",
    "    map_.append(evaluator.evaluate_already_trained(recommender=recommender)[2])\n",
    "plt.plot(k_tested, map_)\n",
    "plt.ylabel('MAP')\n",
    "plt.xlabel('K')\n",
    "plt.show()"
   ],
   "metadata": {
    "collapsed": false,
    "pycharm": {
     "name": "#%%\n"
    }
   }
  },
  {
   "cell_type": "code",
   "execution_count": 5,
   "outputs": [
    {
     "data": {
      "text/plain": "90"
     },
     "execution_count": 5,
     "metadata": {},
     "output_type": "execute_result"
    }
   ],
   "source": [
    "k = k_tested[np.argmax(map_)]\n",
    "k"
   ],
   "metadata": {
    "collapsed": false,
    "pycharm": {
     "name": "#%%\n"
    }
   }
  },
  {
   "cell_type": "code",
   "execution_count": 6,
   "outputs": [
    {
     "name": "stdout",
     "output_type": "stream",
     "text": [
      "Similarity column 25975 ( 100 % ), 935.01 column/sec, elapsed time 0.46 min\n"
     ]
    }
   ],
   "source": [
    "recommender_to_test = cbf_recommender()\n",
    "recommender_to_test.fit(training_set=data_manager().get_urm(), k=90, shrink=100)\n",
    "submission_helper(recommender=recommender_to_test, name_of_the_file=\"first_cbf\").build_submission()"
   ],
   "metadata": {
    "collapsed": false,
    "pycharm": {
     "name": "#%%\n"
    }
   }
  }
 ],
 "metadata": {
  "kernelspec": {
   "display_name": "Python 3",
   "language": "python",
   "name": "python3"
  },
  "language_info": {
   "codemirror_mode": {
    "name": "ipython",
    "version": 2
   },
   "file_extension": ".py",
   "mimetype": "text/x-python",
   "name": "python",
   "nbconvert_exporter": "python",
   "pygments_lexer": "ipython2",
   "version": "2.7.6"
  }
 },
 "nbformat": 4,
 "nbformat_minor": 0
}
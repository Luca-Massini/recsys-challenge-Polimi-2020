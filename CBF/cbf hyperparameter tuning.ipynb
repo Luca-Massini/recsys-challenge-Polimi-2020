{
 "cells": [
  {
   "cell_type": "markdown",
   "source": [
    "Hyperparameter tuning"
   ],
   "metadata": {
    "collapsed": false,
    "pycharm": {
     "name": "#%% md\n"
    }
   }
  },
  {
   "cell_type": "code",
   "execution_count": 6,
   "metadata": {
    "collapsed": true
   },
   "outputs": [],
   "source": [
    "from CBF.cbf_recommender import cbf_recommender\n",
    "from utils.evaluator.evaluator import evaluator\n",
    "from utils.submission_helper import submission_helper\n",
    "from utils.data_manager.data_manager import data_manager\n",
    "from utils.data_manager.splitter import splitter\n",
    "\n",
    "import matplotlib.pyplot as plt\n",
    "import numpy as np\n",
    "import pandas as pd"
   ]
  },
  {
   "cell_type": "markdown",
   "source": [
    "Now I'm trying to discover the best similarity heuristic and also if there is a dependency on the k parameter"
   ],
   "metadata": {
    "collapsed": false
   }
  },
  {
   "cell_type": "code",
   "execution_count": 7,
   "outputs": [],
   "source": [
    "training, validation, test = splitter().get_train_evaluation_test(percentage_of_training_data=0.6,\n",
    "                                                                  percentage_of_validation_data=0.2)"
   ],
   "metadata": {
    "collapsed": false,
    "pycharm": {
     "name": "#%%\n"
    }
   }
  },
  {
   "cell_type": "code",
   "execution_count": 3,
   "outputs": [
    {
     "name": "stdout",
     "output_type": "stream",
     "text": [
      "Similarity column 25975 ( 100 % ), 1190.54 column/sec, elapsed time 0.36 min\n",
      "Similarity column 25975 ( 100 % ), 1349.54 column/sec, elapsed time 0.32 min\n",
      "Similarity column 25975 ( 100 % ), 1259.20 column/sec, elapsed time 0.34 min\n",
      "Similarity column 25975 ( 100 % ), 1344.53 column/sec, elapsed time 0.32 min\n",
      "Similarity column 25975 ( 100 % ), 1193.81 column/sec, elapsed time 0.36 min\n",
      "Similarity column 25975 ( 100 % ), 1086.71 column/sec, elapsed time 0.40 min\n",
      "Similarity column 25975 ( 100 % ), 1319.21 column/sec, elapsed time 0.33 min\n",
      "Similarity column 25975 ( 100 % ), 948.61 column/sec, elapsed time 0.46 min\n",
      "Similarity column 25975 ( 100 % ), 1273.36 column/sec, elapsed time 0.34 min\n",
      "Similarity column 25975 ( 100 % ), 1118.93 column/sec, elapsed time 0.39 min\n",
      "Similarity column 25975 ( 100 % ), 947.72 column/sec, elapsed time 0.46 min\n",
      "Similarity column 25975 ( 100 % ), 1237.85 column/sec, elapsed time 0.35 min\n",
      "Similarity column 25975 ( 100 % ), 1113.37 column/sec, elapsed time 0.39 min\n",
      "Similarity column 25975 ( 100 % ), 992.39 column/sec, elapsed time 0.44 min\n",
      "Similarity column 24100 ( 93 % ), 803.25 column/sec, elapsed time 0.50 min\n",
      "Similarity column 25975 ( 100 % ), 806.80 column/sec, elapsed time 0.54 min\n",
      "Similarity column 20200 ( 78 % ), 672.08 column/sec, elapsed time 0.50 min\n",
      "Similarity column 25975 ( 100 % ), 679.07 column/sec, elapsed time 0.64 min\n",
      "Similarity column 25975 ( 100 % ), 873.98 column/sec, elapsed time 0.50 min\n",
      "Similarity column 25975 ( 100 % ), 980.98 column/sec, elapsed time 0.44 min\n",
      "Similarity column 25975 ( 100 % ), 1154.39 column/sec, elapsed time 0.38 min\n",
      "Similarity column 25975 ( 100 % ), 1075.61 column/sec, elapsed time 0.40 min\n",
      "Similarity column 25975 ( 100 % ), 951.09 column/sec, elapsed time 0.46 min\n",
      "Similarity column 25975 ( 100 % ), 940.31 column/sec, elapsed time 0.46 min\n",
      "Similarity column 25975 ( 100 % ), 1038.17 column/sec, elapsed time 0.42 min\n",
      "Similarity column 17700 ( 68 % ), 589.16 column/sec, elapsed time 0.50 min\n",
      "Similarity column 25975 ( 100 % ), 593.18 column/sec, elapsed time 0.73 min\n",
      "k:  100 map:  [0.008307993399011488, 0.014405451876249252, 0.007886436543783258, 0.014405451876249252, 0.022733092382995052, 0.022733092382995052, 0.0227695168527594, 0.022733092382995052] similarities:  ['pearson', 'cosine', 'adjusted', 'asymmetric', 'jaccard', 'tanimoto', 'dice', 'tversky']\n",
      "k:  250 map:  [0.008630455821161951, 0.015134150088435112, 0.007861897970422731, 0.015134150088435112, 0.022078477100286813, 0.022078477100286813, 0.02213038343694224, 0.022078477100286813] similarities:  ['pearson', 'cosine', 'adjusted', 'asymmetric', 'jaccard', 'tanimoto', 'dice', 'tversky']\n",
      "k:  400 map:  [0.009048186466905308, 0.015103593802302235, 0.007840832472069417, 0.015103593802302235, 0.02179938936008653, 0.02179938936008653, 0.02188001772484875, 0.02179938936008653] similarities:  ['pearson', 'cosine', 'adjusted', 'asymmetric', 'jaccard', 'tanimoto', 'dice', 'tversky']\n"
     ]
    }
   ],
   "source": [
    "k = [100, 250, 400]\n",
    "similarities = ['pearson', 'cosine', 'adjusted', 'asymmetric', 'jaccard', 'tanimoto',\n",
    "                             'dice', 'tversky']\n",
    "map_vectors = []\n",
    "for chosen_k in k:\n",
    "    map_vector = []\n",
    "    for chosen_similarity in similarities:\n",
    "        recommender = cbf_recommender()\n",
    "        recommender.fit(training, k=chosen_k, normalize=True, similarity=chosen_similarity)\n",
    "        map_vector.append(evaluator.evaluate_already_trained(recommender=recommender)[2])\n",
    "    map_vectors.append(map_vector)\n",
    "index = 0\n",
    "for vector in map_vectors:\n",
    "    print(\"k: \", k[index], \"map: \", vector, \"similarities: \", similarities)\n",
    "    index+=1"
   ],
   "metadata": {
    "collapsed": false,
    "pycharm": {
     "name": "#%%\n"
    }
   }
  },
  {
   "cell_type": "code",
   "execution_count": 5,
   "outputs": [
    {
     "ename": "KeyboardInterrupt",
     "evalue": "",
     "output_type": "error",
     "traceback": [
      "\u001B[1;31m---------------------------------------------------------------------------\u001B[0m",
      "\u001B[1;31mKeyboardInterrupt\u001B[0m                         Traceback (most recent call last)",
      "\u001B[1;32m<ipython-input-5-a79e1dc5eb99>\u001B[0m in \u001B[0;36m<module>\u001B[1;34m\u001B[0m\n\u001B[0;32m      5\u001B[0m \u001B[1;32mfor\u001B[0m \u001B[0mk\u001B[0m \u001B[1;32min\u001B[0m \u001B[0mk_tested\u001B[0m\u001B[1;33m:\u001B[0m\u001B[1;33m\u001B[0m\u001B[1;33m\u001B[0m\u001B[0m\n\u001B[0;32m      6\u001B[0m     \u001B[0mrecommender\u001B[0m \u001B[1;33m=\u001B[0m \u001B[0mcbf_recommender\u001B[0m\u001B[1;33m(\u001B[0m\u001B[1;33m)\u001B[0m\u001B[1;33m\u001B[0m\u001B[1;33m\u001B[0m\u001B[0m\n\u001B[1;32m----> 7\u001B[1;33m     \u001B[0mrecommender\u001B[0m\u001B[1;33m.\u001B[0m\u001B[0mfit\u001B[0m\u001B[1;33m(\u001B[0m\u001B[0mtraining\u001B[0m\u001B[1;33m,\u001B[0m \u001B[0mk\u001B[0m\u001B[1;33m=\u001B[0m\u001B[0mk\u001B[0m\u001B[1;33m,\u001B[0m \u001B[0mnormalize\u001B[0m\u001B[1;33m=\u001B[0m\u001B[1;32mTrue\u001B[0m\u001B[1;33m,\u001B[0m \u001B[0msimilarity\u001B[0m\u001B[1;33m=\u001B[0m\u001B[1;34m'jaccard'\u001B[0m\u001B[1;33m)\u001B[0m\u001B[1;33m\u001B[0m\u001B[1;33m\u001B[0m\u001B[0m\n\u001B[0m\u001B[0;32m      8\u001B[0m     \u001B[0mmap_\u001B[0m\u001B[1;33m.\u001B[0m\u001B[0mappend\u001B[0m\u001B[1;33m(\u001B[0m\u001B[0mevaluator\u001B[0m\u001B[1;33m.\u001B[0m\u001B[0mevaluate_already_trained\u001B[0m\u001B[1;33m(\u001B[0m\u001B[0mrecommender\u001B[0m\u001B[1;33m=\u001B[0m\u001B[0mrecommender\u001B[0m\u001B[1;33m)\u001B[0m\u001B[1;33m[\u001B[0m\u001B[1;36m2\u001B[0m\u001B[1;33m]\u001B[0m\u001B[1;33m)\u001B[0m\u001B[1;33m\u001B[0m\u001B[1;33m\u001B[0m\u001B[0m\n\u001B[0;32m      9\u001B[0m \u001B[0mplt\u001B[0m\u001B[1;33m.\u001B[0m\u001B[0mplot\u001B[0m\u001B[1;33m(\u001B[0m\u001B[0mk_tested\u001B[0m\u001B[1;33m,\u001B[0m \u001B[0mmap_\u001B[0m\u001B[1;33m)\u001B[0m\u001B[1;33m\u001B[0m\u001B[1;33m\u001B[0m\u001B[0m\n",
      "\u001B[1;32m~\\PycharmProjects\\recsys-challenge-Polimi-2020\\CBF\\cbf_recommender.py\u001B[0m in \u001B[0;36mfit\u001B[1;34m(self, training_set, k, shrink, normalize, similarity)\u001B[0m\n\u001B[0;32m     19\u001B[0m                                                       similarity=similarity)\n\u001B[0;32m     20\u001B[0m \u001B[1;33m\u001B[0m\u001B[0m\n\u001B[1;32m---> 21\u001B[1;33m         \u001B[0mself\u001B[0m\u001B[1;33m.\u001B[0m\u001B[0m__similarity_matrix\u001B[0m \u001B[1;33m=\u001B[0m \u001B[0msimilarity_object\u001B[0m\u001B[1;33m.\u001B[0m\u001B[0mcompute_similarity\u001B[0m\u001B[1;33m(\u001B[0m\u001B[1;33m)\u001B[0m\u001B[1;33m\u001B[0m\u001B[1;33m\u001B[0m\u001B[0m\n\u001B[0m\u001B[0;32m     22\u001B[0m \u001B[1;33m\u001B[0m\u001B[0m\n\u001B[0;32m     23\u001B[0m     \u001B[1;32mdef\u001B[0m \u001B[0mrecommend\u001B[0m\u001B[1;33m(\u001B[0m\u001B[0mself\u001B[0m\u001B[1;33m,\u001B[0m \u001B[0muserId\u001B[0m\u001B[1;33m,\u001B[0m \u001B[0mat\u001B[0m\u001B[1;33m=\u001B[0m\u001B[1;36m10\u001B[0m\u001B[1;33m,\u001B[0m \u001B[0mexclude_seen\u001B[0m\u001B[1;33m=\u001B[0m\u001B[1;32mTrue\u001B[0m\u001B[1;33m)\u001B[0m\u001B[1;33m:\u001B[0m\u001B[1;33m\u001B[0m\u001B[1;33m\u001B[0m\u001B[0m\n",
      "\u001B[1;32m~\\PycharmProjects\\recsys-challenge-Polimi-2020\\utils\\Similarity\\Compute_Similarity_Python.py\u001B[0m in \u001B[0;36mcompute_similarity\u001B[1;34m(self, start_col, end_col, block_size)\u001B[0m\n\u001B[0;32m    257\u001B[0m             \u001B[1;32melse\u001B[0m\u001B[1;33m:\u001B[0m\u001B[1;33m\u001B[0m\u001B[1;33m\u001B[0m\u001B[0m\n\u001B[0;32m    258\u001B[0m                 \u001B[1;31m# Compute item similarities\u001B[0m\u001B[1;33m\u001B[0m\u001B[1;33m\u001B[0m\u001B[1;33m\u001B[0m\u001B[0m\n\u001B[1;32m--> 259\u001B[1;33m                 \u001B[0mthis_block_weights\u001B[0m \u001B[1;33m=\u001B[0m \u001B[0mself\u001B[0m\u001B[1;33m.\u001B[0m\u001B[0mdataMatrix\u001B[0m\u001B[1;33m.\u001B[0m\u001B[0mT\u001B[0m\u001B[1;33m.\u001B[0m\u001B[0mdot\u001B[0m\u001B[1;33m(\u001B[0m\u001B[0mitem_data\u001B[0m\u001B[1;33m)\u001B[0m\u001B[1;33m\u001B[0m\u001B[1;33m\u001B[0m\u001B[0m\n\u001B[0m\u001B[0;32m    260\u001B[0m \u001B[1;33m\u001B[0m\u001B[0m\n\u001B[0;32m    261\u001B[0m             \u001B[1;32mfor\u001B[0m \u001B[0mcol_index_in_block\u001B[0m \u001B[1;32min\u001B[0m \u001B[0mrange\u001B[0m\u001B[1;33m(\u001B[0m\u001B[0mthis_block_size\u001B[0m\u001B[1;33m)\u001B[0m\u001B[1;33m:\u001B[0m\u001B[1;33m\u001B[0m\u001B[1;33m\u001B[0m\u001B[0m\n",
      "\u001B[1;32m~\\anaconda3\\envs\\recsys-challenge-Polimi-2020\\lib\\site-packages\\scipy\\sparse\\base.py\u001B[0m in \u001B[0;36mdot\u001B[1;34m(self, other)\u001B[0m\n\u001B[0;32m    357\u001B[0m \u001B[1;33m\u001B[0m\u001B[0m\n\u001B[0;32m    358\u001B[0m         \"\"\"\n\u001B[1;32m--> 359\u001B[1;33m         \u001B[1;32mreturn\u001B[0m \u001B[0mself\u001B[0m \u001B[1;33m*\u001B[0m \u001B[0mother\u001B[0m\u001B[1;33m\u001B[0m\u001B[1;33m\u001B[0m\u001B[0m\n\u001B[0m\u001B[0;32m    360\u001B[0m \u001B[1;33m\u001B[0m\u001B[0m\n\u001B[0;32m    361\u001B[0m     \u001B[1;32mdef\u001B[0m \u001B[0mpower\u001B[0m\u001B[1;33m(\u001B[0m\u001B[0mself\u001B[0m\u001B[1;33m,\u001B[0m \u001B[0mn\u001B[0m\u001B[1;33m,\u001B[0m \u001B[0mdtype\u001B[0m\u001B[1;33m=\u001B[0m\u001B[1;32mNone\u001B[0m\u001B[1;33m)\u001B[0m\u001B[1;33m:\u001B[0m\u001B[1;33m\u001B[0m\u001B[1;33m\u001B[0m\u001B[0m\n",
      "\u001B[1;32m~\\anaconda3\\envs\\recsys-challenge-Polimi-2020\\lib\\site-packages\\scipy\\sparse\\base.py\u001B[0m in \u001B[0;36m__mul__\u001B[1;34m(self, other)\u001B[0m\n\u001B[0;32m    469\u001B[0m                 \u001B[1;32mreturn\u001B[0m \u001B[0mself\u001B[0m\u001B[1;33m.\u001B[0m\u001B[0m_mul_vector\u001B[0m\u001B[1;33m(\u001B[0m\u001B[0mother\u001B[0m\u001B[1;33m.\u001B[0m\u001B[0mravel\u001B[0m\u001B[1;33m(\u001B[0m\u001B[1;33m)\u001B[0m\u001B[1;33m)\u001B[0m\u001B[1;33m.\u001B[0m\u001B[0mreshape\u001B[0m\u001B[1;33m(\u001B[0m\u001B[0mM\u001B[0m\u001B[1;33m,\u001B[0m \u001B[1;36m1\u001B[0m\u001B[1;33m)\u001B[0m\u001B[1;33m\u001B[0m\u001B[1;33m\u001B[0m\u001B[0m\n\u001B[0;32m    470\u001B[0m             \u001B[1;32melif\u001B[0m \u001B[0mother\u001B[0m\u001B[1;33m.\u001B[0m\u001B[0mndim\u001B[0m \u001B[1;33m==\u001B[0m \u001B[1;36m2\u001B[0m \u001B[1;32mand\u001B[0m \u001B[0mother\u001B[0m\u001B[1;33m.\u001B[0m\u001B[0mshape\u001B[0m\u001B[1;33m[\u001B[0m\u001B[1;36m0\u001B[0m\u001B[1;33m]\u001B[0m \u001B[1;33m==\u001B[0m \u001B[0mN\u001B[0m\u001B[1;33m:\u001B[0m\u001B[1;33m\u001B[0m\u001B[1;33m\u001B[0m\u001B[0m\n\u001B[1;32m--> 471\u001B[1;33m                 \u001B[1;32mreturn\u001B[0m \u001B[0mself\u001B[0m\u001B[1;33m.\u001B[0m\u001B[0m_mul_multivector\u001B[0m\u001B[1;33m(\u001B[0m\u001B[0mother\u001B[0m\u001B[1;33m)\u001B[0m\u001B[1;33m\u001B[0m\u001B[1;33m\u001B[0m\u001B[0m\n\u001B[0m\u001B[0;32m    472\u001B[0m \u001B[1;33m\u001B[0m\u001B[0m\n\u001B[0;32m    473\u001B[0m         \u001B[1;32mif\u001B[0m \u001B[0misscalarlike\u001B[0m\u001B[1;33m(\u001B[0m\u001B[0mother\u001B[0m\u001B[1;33m)\u001B[0m\u001B[1;33m:\u001B[0m\u001B[1;33m\u001B[0m\u001B[1;33m\u001B[0m\u001B[0m\n",
      "\u001B[1;32m~\\anaconda3\\envs\\recsys-challenge-Polimi-2020\\lib\\site-packages\\scipy\\sparse\\compressed.py\u001B[0m in \u001B[0;36m_mul_multivector\u001B[1;34m(self, other)\u001B[0m\n\u001B[0;32m    488\u001B[0m         \u001B[0mfn\u001B[0m \u001B[1;33m=\u001B[0m \u001B[0mgetattr\u001B[0m\u001B[1;33m(\u001B[0m\u001B[0m_sparsetools\u001B[0m\u001B[1;33m,\u001B[0m \u001B[0mself\u001B[0m\u001B[1;33m.\u001B[0m\u001B[0mformat\u001B[0m \u001B[1;33m+\u001B[0m \u001B[1;34m'_matvecs'\u001B[0m\u001B[1;33m)\u001B[0m\u001B[1;33m\u001B[0m\u001B[1;33m\u001B[0m\u001B[0m\n\u001B[0;32m    489\u001B[0m         fn(M, N, n_vecs, self.indptr, self.indices, self.data,\n\u001B[1;32m--> 490\u001B[1;33m            other.ravel(), result.ravel())\n\u001B[0m\u001B[0;32m    491\u001B[0m \u001B[1;33m\u001B[0m\u001B[0m\n\u001B[0;32m    492\u001B[0m         \u001B[1;32mreturn\u001B[0m \u001B[0mresult\u001B[0m\u001B[1;33m\u001B[0m\u001B[1;33m\u001B[0m\u001B[0m\n",
      "\u001B[1;31mKeyboardInterrupt\u001B[0m: "
     ]
    }
   ],
   "source": [
    "k_tested = [i for i in range(30,400,30)]\n",
    "k1 = [i for i in range(450, 700, 60)]\n",
    "k_tested = k_tested + k1\n",
    "map_=[]\n",
    "for k in k_tested:\n",
    "    recommender = cbf_recommender()\n",
    "    recommender.fit(training, k=k, normalize=True, similarity='jaccard')\n",
    "    map_.append(evaluator.evaluate_already_trained(recommender=recommender)[2])\n",
    "plt.plot(k_tested, map_)\n",
    "plt.ylabel('MAP')\n",
    "plt.xlabel('K')\n",
    "plt.show()"
   ],
   "metadata": {
    "collapsed": false,
    "pycharm": {
     "name": "#%%\n"
    }
   }
  },
  {
   "cell_type": "code",
   "execution_count": 5,
   "outputs": [
    {
     "data": {
      "text/plain": "90"
     },
     "execution_count": 5,
     "metadata": {},
     "output_type": "execute_result"
    }
   ],
   "source": [
    "k = k_tested[np.argmax(map_)]\n",
    "k"
   ],
   "metadata": {
    "collapsed": false,
    "pycharm": {
     "name": "#%%\n"
    }
   }
  },
  {
   "cell_type": "code",
   "execution_count": 6,
   "outputs": [
    {
     "name": "stdout",
     "output_type": "stream",
     "text": [
      "Similarity column 25975 ( 100 % ), 935.01 column/sec, elapsed time 0.46 min\n"
     ]
    }
   ],
   "source": [
    "recommender_to_test = cbf_recommender()\n",
    "recommender_to_test.fit(training_set=data_manager().get_urm(), k=90, shrink=100)\n",
    "submission_helper(recommender=recommender_to_test, name_of_the_file=\"first_cbf\").build_submission()"
   ],
   "metadata": {
    "collapsed": false,
    "pycharm": {
     "name": "#%%\n"
    }
   }
  },
  {
   "cell_type": "code",
   "execution_count": 8,
   "outputs": [
    {
     "name": "stdout",
     "output_type": "stream",
     "text": [
      "Similarity column 25975 ( 100 % ), 1215.62 column/sec, elapsed time 0.36 min\n",
      "Similarity column 25975 ( 100 % ), 1182.92 column/sec, elapsed time 0.37 min\n",
      "Similarity column 25975 ( 100 % ), 1092.03 column/sec, elapsed time 0.40 min\n",
      "Similarity column 25975 ( 100 % ), 1094.98 column/sec, elapsed time 0.40 min\n",
      "Similarity column 25975 ( 100 % ), 1110.56 column/sec, elapsed time 0.39 min\n",
      "Similarity column 25975 ( 100 % ), 1065.33 column/sec, elapsed time 0.41 min\n",
      "Similarity column 25975 ( 100 % ), 1095.01 column/sec, elapsed time 0.40 min\n",
      "Similarity column 25975 ( 100 % ), 1016.86 column/sec, elapsed time 0.43 min\n",
      "Similarity column 25975 ( 100 % ), 976.90 column/sec, elapsed time 0.44 min\n",
      "Similarity column 25975 ( 100 % ), 1026.31 column/sec, elapsed time 0.42 min\n",
      "Similarity column 25975 ( 100 % ), 917.86 column/sec, elapsed time 0.47 min\n",
      "Similarity column 25975 ( 100 % ), 997.01 column/sec, elapsed time 0.43 min\n",
      "Similarity column 25975 ( 100 % ), 1041.68 column/sec, elapsed time 0.42 min\n",
      "Similarity column 25975 ( 100 % ), 981.47 column/sec, elapsed time 0.44 min\n"
     ]
    },
    {
     "data": {
      "text/plain": "<Figure size 432x288 with 1 Axes>",
      "image/png": "[encoded data removed]"
     },
     "metadata": {
      "needs_background": "light"
     },
     "output_type": "display_data"
    }
   ],
   "source": [
    "shrinks = [i for i in range(6,400, 30)]\n",
    "map_=[]\n",
    "for s in shrinks:\n",
    "    recommender = cbf_recommender()\n",
    "    recommender.fit(training, k=90, shrink=s, normalize=True, similarity='jaccard')\n",
    "    map_.append(evaluator.evaluate_already_trained(recommender=recommender)[2])\n",
    "plt.plot(shrinks, map_)\n",
    "plt.ylabel('MAP')\n",
    "plt.xlabel('shrink')\n",
    "plt.show()"
   ],
   "metadata": {
    "collapsed": false,
    "pycharm": {
     "name": "#%%\n"
    }
   }
  },
  {
   "cell_type": "code",
   "execution_count": 9,
   "outputs": [
    {
     "data": {
      "text/plain": "36"
     },
     "execution_count": 9,
     "metadata": {},
     "output_type": "execute_result"
    }
   ],
   "source": [
    "shrink = shrinks[np.argmax(map_)]\n",
    "shrink\n"
   ],
   "metadata": {
    "collapsed": false,
    "pycharm": {
     "name": "#%%\n"
    }
   }
  },
  {
   "cell_type": "code",
   "execution_count": 10,
   "outputs": [
    {
     "name": "stdout",
     "output_type": "stream",
     "text": [
      "Similarity column 25975 ( 100 % ), 894.84 column/sec, elapsed time 0.48 min\n",
      "Similarity column 25975 ( 100 % ), 1155.37 column/sec, elapsed time 0.37 min\n",
      "Similarity column 25975 ( 100 % ), 1101.89 column/sec, elapsed time 0.39 min\n",
      "Similarity column 25975 ( 100 % ), 1096.02 column/sec, elapsed time 0.39 min\n",
      "Similarity column 25975 ( 100 % ), 926.45 column/sec, elapsed time 0.47 min\n",
      "Similarity column 25975 ( 100 % ), 971.28 column/sec, elapsed time 0.45 min\n",
      "Similarity column 25975 ( 100 % ), 1033.51 column/sec, elapsed time 0.42 min\n",
      "Similarity column 25975 ( 100 % ), 1002.24 column/sec, elapsed time 0.43 min\n",
      "Similarity column 25975 ( 100 % ), 990.57 column/sec, elapsed time 0.44 min\n",
      "Similarity column 25975 ( 100 % ), 977.87 column/sec, elapsed time 0.44 min\n"
     ]
    },
    {
     "data": {
      "text/plain": "<Figure size 432x288 with 1 Axes>",
      "image/png": "[encoded data removed]"
     },
     "metadata": {
      "needs_background": "light"
     },
     "output_type": "display_data"
    }
   ],
   "source": [
    "shrinks = [i for i in range(10,60, 5)]\n",
    "map_=[]\n",
    "for s in shrinks:\n",
    "    recommender = cbf_recommender()\n",
    "    recommender.fit(training, k=90, shrink=s, normalize=True, similarity='jaccard')\n",
    "    map_.append(evaluator.evaluate_already_trained(recommender=recommender)[2])\n",
    "plt.plot(shrinks, map_)\n",
    "plt.ylabel('MAP')\n",
    "plt.xlabel('shrink')\n",
    "plt.show()"
   ],
   "metadata": {
    "collapsed": false,
    "pycharm": {
     "name": "#%%\n"
    }
   }
  },
  {
   "cell_type": "code",
   "execution_count": 12,
   "outputs": [
    {
     "data": {
      "text/plain": "55"
     },
     "execution_count": 12,
     "metadata": {},
     "output_type": "execute_result"
    }
   ],
   "source": [
    "shrink = shrinks[np.argmax(map_)]\n",
    "shrink"
   ],
   "metadata": {
    "collapsed": false,
    "pycharm": {
     "name": "#%%\n"
    }
   }
  },
  {
   "cell_type": "code",
   "execution_count": 13,
   "outputs": [
    {
     "name": "stdout",
     "output_type": "stream",
     "text": [
      "Similarity column 25975 ( 100 % ), 1114.79 column/sec, elapsed time 0.39 min\n"
     ]
    }
   ],
   "source": [
    "recommender_to_test = cbf_recommender()\n",
    "recommender_to_test.fit(training_set=data_manager().get_urm(), k=90, shrink=60)\n",
    "submission_helper(recommender=recommender_to_test, name_of_the_file=\"second_cbf\").build_submission()\n"
   ],
   "metadata": {
    "collapsed": false,
    "pycharm": {
     "name": "#%%\n"
    }
   }
  }
 ],
 "metadata": {
  "kernelspec": {
   "display_name": "Python 3",
   "language": "python",
   "name": "python3"
  },
  "language_info": {
   "codemirror_mode": {
    "name": "ipython",
    "version": 2
   },
   "file_extension": ".py",
   "mimetype": "text/x-python",
   "name": "python",
   "nbconvert_exporter": "python",
   "pygments_lexer": "ipython2",
   "version": "2.7.6"
  }
 },
 "nbformat": 4,
 "nbformat_minor": 0
}
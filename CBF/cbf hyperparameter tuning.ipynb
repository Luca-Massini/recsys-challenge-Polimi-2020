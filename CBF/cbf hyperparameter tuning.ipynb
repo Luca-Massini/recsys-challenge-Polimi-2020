{
 "cells": [
  {
   "cell_type": "markdown",
   "source": [
    "Hyperparameter tuning"
   ],
   "metadata": {
    "collapsed": false,
    "pycharm": {
     "name": "#%% md\n"
    }
   }
  },
  {
   "cell_type": "code",
   "execution_count": 2,
   "metadata": {
    "collapsed": true
   },
   "outputs": [],
   "source": [
    "from CBF.cbf_recommender import cbf_recommender\n",
    "from utils.evaluator.evaluator import evaluator\n",
    "from utils.submission_helper import submission_helper\n",
    "from utils.data_manager.data_manager import data_manager\n",
    "from utils.data_manager.splitter import splitter\n",
    "\n",
    "import matplotlib.pyplot as plt\n",
    "import numpy as np\n",
    "import pandas as pd"
   ]
  },
  {
   "cell_type": "markdown",
   "source": [
    "Now I'm trying to discover the best similarity heuristic and also if there is a dependency on the k parameter"
   ],
   "metadata": {
    "collapsed": false
   }
  },
  {
   "cell_type": "code",
   "execution_count": 3,
   "outputs": [],
   "source": [
    "training, validation, test = splitter().get_train_evaluation_test(percentage_of_training_data=0.6,\n",
    "                                                                  percentage_of_validation_data=0.2)"
   ],
   "metadata": {
    "collapsed": false,
    "pycharm": {
     "name": "#%%\n"
    }
   }
  },
  {
   "cell_type": "code",
   "execution_count": 3,
   "outputs": [
    {
     "name": "stdout",
     "output_type": "stream",
     "text": [
      "Similarity column 25975 ( 100 % ), 1786.00 column/sec, elapsed time 0.24 min\n",
      "Similarity column 25975 ( 100 % ), 1750.37 column/sec, elapsed time 0.25 min\n",
      "Similarity column 25975 ( 100 % ), 1878.82 column/sec, elapsed time 0.23 min\n",
      "Similarity column 25975 ( 100 % ), 1278.19 column/sec, elapsed time 0.34 min\n",
      "Similarity column 25975 ( 100 % ), 1345.32 column/sec, elapsed time 0.32 min\n",
      "Similarity column 25975 ( 100 % ), 1155.31 column/sec, elapsed time 0.37 min\n",
      "Similarity column 25975 ( 100 % ), 1530.08 column/sec, elapsed time 0.28 min\n",
      "Similarity column 25975 ( 100 % ), 982.48 column/sec, elapsed time 0.44 min\n",
      "Similarity column 25975 ( 100 % ), 1351.02 column/sec, elapsed time 0.32 min\n",
      "Similarity column 25975 ( 100 % ), 1395.25 column/sec, elapsed time 0.31 min\n",
      "Similarity column 25975 ( 100 % ), 1251.66 column/sec, elapsed time 0.35 min\n",
      "Similarity column 25975 ( 100 % ), 1431.29 column/sec, elapsed time 0.30 min\n",
      "Similarity column 25975 ( 100 % ), 1094.68 column/sec, elapsed time 0.40 min\n",
      "Similarity column 25975 ( 100 % ), 1148.89 column/sec, elapsed time 0.38 min\n",
      "Similarity column 25975 ( 100 % ), 1378.51 column/sec, elapsed time 0.31 min\n",
      "Similarity column 25975 ( 100 % ), 938.94 column/sec, elapsed time 0.46 min\n",
      "Similarity column 25975 ( 100 % ), 1219.97 column/sec, elapsed time 0.35 min\n",
      "Similarity column 25975 ( 100 % ), 1207.86 column/sec, elapsed time 0.36 min\n",
      "Similarity column 25975 ( 100 % ), 1302.27 column/sec, elapsed time 0.33 min\n",
      "Similarity column 25975 ( 100 % ), 1234.74 column/sec, elapsed time 0.35 min\n",
      "Similarity column 25975 ( 100 % ), 1119.57 column/sec, elapsed time 0.39 min\n",
      "Similarity column 25975 ( 100 % ), 989.99 column/sec, elapsed time 0.44 min\n",
      "Similarity column 25975 ( 100 % ), 1133.01 column/sec, elapsed time 0.38 min\n",
      "Similarity column 25975 ( 100 % ), 927.37 column/sec, elapsed time 0.47 min\n",
      "k:  100 map:  [0.008307993399011488, 0.014405451876249252, 0.007886436543783258, 0.014405451876249252, 0.022733092382995052, 0.022733092382995052, 0.0227695168527594, 0.022733092382995052] similarities:  ['pearson', 'cosine', 'adjusted', 'asymmetric', 'jaccard', 'tanimoto', 'dice', 'tversky']\n",
      "k:  250 map:  [0.008630455821161951, 0.015134150088435112, 0.007861897970422731, 0.015134150088435112, 0.022078477100286813, 0.022078477100286813, 0.02213038343694224, 0.022078477100286813] similarities:  ['pearson', 'cosine', 'adjusted', 'asymmetric', 'jaccard', 'tanimoto', 'dice', 'tversky']\n",
      "k:  400 map:  [0.009048186466905308, 0.015103593802302235, 0.007840832472069417, 0.015103593802302235, 0.02179938936008653, 0.02179938936008653, 0.02188001772484875, 0.02179938936008653] similarities:  ['pearson', 'cosine', 'adjusted', 'asymmetric', 'jaccard', 'tanimoto', 'dice', 'tversky']\n"
     ]
    }
   ],
   "source": [
    "k = [100, 250, 400]\n",
    "similarities = ['pearson', 'cosine', 'adjusted', 'asymmetric', 'jaccard', 'tanimoto',\n",
    "                             'dice', 'tversky']\n",
    "map_vectors = []\n",
    "for chosen_k in k:\n",
    "    map_vector = []\n",
    "    for chosen_similarity in similarities:\n",
    "        recommender_ = cbf_recommender()\n",
    "        recommender_.fit(training, k=chosen_k, normalize=True, similarity=chosen_similarity)\n",
    "        map_vector.append(evaluator.evaluate_already_trained(recommender=recommender_)[2])\n",
    "    map_vectors.append(map_vector)\n",
    "index = 0\n",
    "for vector in map_vectors:\n",
    "    print(\"k: \", k[index], \"map: \", vector, \"similarities: \", similarities)\n",
    "    index+=1"
   ],
   "metadata": {
    "collapsed": false,
    "pycharm": {
     "name": "#%%\n"
    }
   }
  },
  {
   "cell_type": "code",
   "execution_count": 4,
   "outputs": [
    {
     "name": "stdout",
     "output_type": "stream",
     "text": [
      "Similarity column 25975 ( 100 % ), 1399.97 column/sec, elapsed time 0.31 min\n",
      "Similarity column 25975 ( 100 % ), 1334.52 column/sec, elapsed time 0.32 min\n",
      "Similarity column 25975 ( 100 % ), 1225.60 column/sec, elapsed time 0.35 min\n",
      "Similarity column 25975 ( 100 % ), 1141.72 column/sec, elapsed time 0.38 min\n",
      "Similarity column 25975 ( 100 % ), 1112.47 column/sec, elapsed time 0.39 min\n",
      "Similarity column 25975 ( 100 % ), 992.88 column/sec, elapsed time 0.44 min\n",
      "Similarity column 25975 ( 100 % ), 1286.34 column/sec, elapsed time 0.34 min\n",
      "Similarity column 25975 ( 100 % ), 1100.29 column/sec, elapsed time 0.39 min\n",
      "Similarity column 25975 ( 100 % ), 1184.67 column/sec, elapsed time 0.37 min\n",
      "Similarity column 25975 ( 100 % ), 1034.44 column/sec, elapsed time 0.42 min\n",
      "Similarity column 25975 ( 100 % ), 1238.58 column/sec, elapsed time 0.35 min\n",
      "Similarity column 25975 ( 100 % ), 980.42 column/sec, elapsed time 0.44 min\n",
      "Similarity column 25975 ( 100 % ), 956.37 column/sec, elapsed time 0.45 min\n",
      "Similarity column 25975 ( 100 % ), 1009.18 column/sec, elapsed time 0.43 min\n",
      "Similarity column 25975 ( 100 % ), 1005.01 column/sec, elapsed time 0.43 min\n",
      "Similarity column 25975 ( 100 % ), 1014.20 column/sec, elapsed time 0.43 min\n",
      "Similarity column 25975 ( 100 % ), 935.09 column/sec, elapsed time 0.46 min\n",
      "Similarity column 19500 ( 75 % ), 648.72 column/sec, elapsed time 0.50 min\n",
      "Similarity column 25975 ( 100 % ), 657.41 column/sec, elapsed time 0.66 min\n"
     ]
    },
    {
     "data": {
      "text/plain": "<Figure size 432x288 with 1 Axes>",
      "image/png": "[encoded data removed]"
     },
     "metadata": {
      "needs_background": "light"
     },
     "output_type": "display_data"
    }
   ],
   "source": [
    "k_tested = [i for i in range(30,400,30)]\n",
    "k1 = [i for i in range(450, 700, 60)]\n",
    "k_tested = k_tested + k1\n",
    "map_=[]\n",
    "for k in k_tested:\n",
    "    recommender_k = cbf_recommender()\n",
    "    recommender_k.fit(training, k=k, normalize=True, similarity='jaccard')\n",
    "    map_.append(evaluator.evaluate_already_trained(recommender=recommender_k)[2])\n",
    "plt.plot(k_tested, map_)\n",
    "plt.ylabel('MAP')\n",
    "plt.xlabel('K')\n",
    "plt.show()"
   ],
   "metadata": {
    "collapsed": false,
    "pycharm": {
     "name": "#%%\n"
    }
   }
  },
  {
   "cell_type": "code",
   "execution_count": 5,
   "outputs": [
    {
     "data": {
      "text/plain": "90"
     },
     "execution_count": 5,
     "metadata": {},
     "output_type": "execute_result"
    }
   ],
   "source": [
    "k = k_tested[np.argmax(map_)]\n",
    "k"
   ],
   "metadata": {
    "collapsed": false,
    "pycharm": {
     "name": "#%%\n"
    }
   }
  },
  {
   "cell_type": "code",
   "execution_count": 6,
   "outputs": [
    {
     "name": "stdout",
     "output_type": "stream",
     "text": [
      "Similarity column 25975 ( 100 % ), 866.91 column/sec, elapsed time 0.50 min\n",
      "Similarity column 25975 ( 100 % ), 914.98 column/sec, elapsed time 0.47 min\n",
      "Similarity column 25975 ( 100 % ), 904.72 column/sec, elapsed time 0.48 min\n",
      "Similarity column 25975 ( 100 % ), 895.35 column/sec, elapsed time 0.48 min\n",
      "Similarity column 25900 ( 100 % ), 862.42 column/sec, elapsed time 0.50 min\n",
      "Similarity column 25975 ( 100 % ), 862.42 column/sec, elapsed time 0.50 min\n",
      "Similarity column 24300 ( 94 % ), 808.11 column/sec, elapsed time 0.50 min\n",
      "Similarity column 25975 ( 100 % ), 780.11 column/sec, elapsed time 0.55 min\n",
      "Similarity column 20100 ( 77 % ), 669.41 column/sec, elapsed time 0.50 min\n",
      "Similarity column 25975 ( 100 % ), 692.27 column/sec, elapsed time 0.63 min\n",
      "Similarity column 20500 ( 79 % ), 680.19 column/sec, elapsed time 0.50 min\n",
      "Similarity column 25975 ( 100 % ), 665.93 column/sec, elapsed time 0.65 min\n",
      "Similarity column 18100 ( 70 % ), 602.71 column/sec, elapsed time 0.50 min\n",
      "Similarity column 25975 ( 100 % ), 651.19 column/sec, elapsed time 0.66 min\n",
      "Similarity column 23300 ( 90 % ), 775.02 column/sec, elapsed time 0.50 min\n",
      "Similarity column 25975 ( 100 % ), 780.95 column/sec, elapsed time 0.55 min\n",
      "Similarity column 25600 ( 99 % ), 850.37 column/sec, elapsed time 0.50 min\n",
      "Similarity column 25975 ( 100 % ), 850.17 column/sec, elapsed time 0.51 min\n",
      "Similarity column 25975 ( 100 % ), 873.00 column/sec, elapsed time 0.50 min\n",
      "Similarity column 25975 ( 100 % ), 880.02 column/sec, elapsed time 0.49 min\n",
      "Similarity column 25975 ( 100 % ), 875.55 column/sec, elapsed time 0.49 min\n"
     ]
    },
    {
     "data": {
      "text/plain": "<Figure size 432x288 with 1 Axes>",
      "image/png": "[encoded data removed]"
     },
     "metadata": {
      "needs_background": "light"
     },
     "output_type": "display_data"
    }
   ],
   "source": [
    "shrinks = [i for i in range(6,400, 30)]\n",
    "map_=[]\n",
    "for s in shrinks:\n",
    "    recommender_shrink = cbf_recommender()\n",
    "    recommender_shrink.fit(training, k=90, shrink=s, normalize=True, similarity='jaccard')\n",
    "    map_.append(evaluator.evaluate_already_trained(recommender=recommender_shrink)[2])\n",
    "plt.plot(shrinks, map_)\n",
    "plt.ylabel('MAP')\n",
    "plt.xlabel('shrink')\n",
    "plt.show()"
   ],
   "metadata": {
    "collapsed": false,
    "pycharm": {
     "name": "#%%\n"
    }
   }
  },
  {
   "cell_type": "code",
   "execution_count": 7,
   "outputs": [
    {
     "data": {
      "text/plain": "36"
     },
     "execution_count": 7,
     "metadata": {},
     "output_type": "execute_result"
    }
   ],
   "source": [
    "shrink = shrinks[np.argmax(map_)]\n",
    "shrink\n"
   ],
   "metadata": {
    "collapsed": false,
    "pycharm": {
     "name": "#%%\n"
    }
   }
  },
  {
   "cell_type": "code",
   "execution_count": 8,
   "outputs": [
    {
     "name": "stdout",
     "output_type": "stream",
     "text": [
      "Similarity column 23700 ( 91 % ), 789.06 column/sec, elapsed time 0.50 min\n",
      "Similarity column 25975 ( 100 % ), 789.83 column/sec, elapsed time 0.55 min\n",
      "Similarity column 18100 ( 70 % ), 601.95 column/sec, elapsed time 0.50 min\n",
      "Similarity column 25975 ( 100 % ), 586.57 column/sec, elapsed time 0.74 min\n",
      "Similarity column 23400 ( 90 % ), 779.23 column/sec, elapsed time 0.50 min\n",
      "Similarity column 25975 ( 100 % ), 778.64 column/sec, elapsed time 0.56 min\n",
      "Similarity column 21900 ( 84 % ), 728.83 column/sec, elapsed time 0.50 min\n",
      "Similarity column 25975 ( 100 % ), 728.56 column/sec, elapsed time 0.59 min\n",
      "Similarity column 22900 ( 88 % ), 761.62 column/sec, elapsed time 0.50 min\n",
      "Similarity column 25975 ( 100 % ), 750.73 column/sec, elapsed time 0.58 min\n",
      "Similarity column 21600 ( 83 % ), 716.76 column/sec, elapsed time 0.50 min\n",
      "Similarity column 25975 ( 100 % ), 728.31 column/sec, elapsed time 0.59 min\n",
      "Similarity column 21800 ( 84 % ), 726.42 column/sec, elapsed time 0.50 min\n",
      "Similarity column 25975 ( 100 % ), 718.10 column/sec, elapsed time 0.60 min\n",
      "Similarity column 22300 ( 86 % ), 742.07 column/sec, elapsed time 0.50 min\n",
      "Similarity column 25975 ( 100 % ), 744.06 column/sec, elapsed time 0.58 min\n",
      "Similarity column 21400 ( 82 % ), 711.11 column/sec, elapsed time 0.50 min\n",
      "Similarity column 25975 ( 100 % ), 726.84 column/sec, elapsed time 0.60 min\n",
      "Similarity column 22600 ( 87 % ), 752.09 column/sec, elapsed time 0.50 min\n",
      "Similarity column 25975 ( 100 % ), 750.69 column/sec, elapsed time 0.58 min\n"
     ]
    },
    {
     "data": {
      "text/plain": "<Figure size 432x288 with 1 Axes>",
      "image/png": "[encoded data removed]"
     },
     "metadata": {
      "needs_background": "light"
     },
     "output_type": "display_data"
    }
   ],
   "source": [
    "shrinks = [i for i in range(10,60, 5)]\n",
    "map_=[]\n",
    "for s in shrinks:\n",
    "    recommender_s = cbf_recommender()\n",
    "    recommender_s.fit(training, k=90, shrink=s, normalize=True, similarity='jaccard')\n",
    "    map_.append(evaluator.evaluate_already_trained(recommender=recommender_s)[2])\n",
    "plt.plot(shrinks, map_)\n",
    "plt.ylabel('MAP')\n",
    "plt.xlabel('shrink')\n",
    "plt.show()"
   ],
   "metadata": {
    "collapsed": false,
    "pycharm": {
     "name": "#%%\n"
    }
   }
  },
  {
   "cell_type": "code",
   "execution_count": 9,
   "outputs": [
    {
     "data": {
      "text/plain": "55"
     },
     "execution_count": 9,
     "metadata": {},
     "output_type": "execute_result"
    }
   ],
   "source": [
    "shrink = shrinks[np.argmax(map_)]\n",
    "shrink"
   ],
   "metadata": {
    "collapsed": false,
    "pycharm": {
     "name": "#%%\n"
    }
   }
  },
  {
   "cell_type": "code",
   "execution_count": 10,
   "outputs": [
    {
     "name": "stdout",
     "output_type": "stream",
     "text": [
      "Similarity column 23200 ( 89 % ), 770.38 column/sec, elapsed time 0.50 min\n",
      "Similarity column 25975 ( 100 % ), 767.66 column/sec, elapsed time 0.56 min\n",
      "0.023148312571047568\n"
     ]
    }
   ],
   "source": [
    "from utils.IR_feature_weighting import okapi_BM_25\n",
    "ICM_BM25 = data_manager().get_icm().astype(np.float32)\n",
    "ICM_BM25 = okapi_BM_25(ICM_BM25)\n",
    "ICM_BM25 = ICM_BM25.tocsc()\n",
    "recommender_BM = cbf_recommender(icm=ICM_BM25)\n",
    "recommender_BM.fit(training_set=training, shrink=60, k=90, similarity='jaccard')\n",
    "map_ = evaluator.evaluate_already_trained(recommender=recommender_BM)[2]\n",
    "print(map_)"
   ],
   "metadata": {
    "collapsed": false,
    "pycharm": {
     "name": "#%%\n"
    }
   }
  },
  {
   "cell_type": "code",
   "execution_count": 11,
   "outputs": [
    {
     "name": "stderr",
     "output_type": "stream",
     "text": [
      "C:\\Users\\Luca Massini\\anaconda3\\envs\\recsys-challenge-Polimi-2020\\lib\\site-packages\\ipykernel_launcher.py:6: RuntimeWarning: divide by zero encountered in true_divide\n",
      "  \n"
     ]
    },
    {
     "name": "stdout",
     "output_type": "stream",
     "text": [
      "Similarity column 22900 ( 88 % ), 762.49 column/sec, elapsed time 0.50 min\n",
      "Similarity column 25975 ( 100 % ), 764.47 column/sec, elapsed time 0.57 min\n",
      "0.023148312571047568\n"
     ]
    }
   ],
   "source": [
    "from utils.IR_feature_weighting import TF_IDF\n",
    "import scipy.sparse as sparse\n",
    "icm = data_manager().get_icm()\n",
    "num_tot_items = icm.shape[0]\n",
    "items_per_feature = (icm>0).sum(axis=0)\n",
    "IDF = np.array(np.log(num_tot_items/items_per_feature))[0]\n",
    "icm_idf = icm.copy()\n",
    "col_nnz = np.diff(sparse.csc_matrix(icm_idf).indptr)\n",
    "icm_idf.data *= np.repeat(IDF, col_nnz)\n",
    "recommender_idf = cbf_recommender(icm=icm_idf)\n",
    "recommender_idf.fit(training_set=training, shrink=60, k =90, similarity='jaccard')\n",
    "map_ = evaluator.evaluate_already_trained(recommender=recommender_idf)[2]\n",
    "print(map_)\n"
   ],
   "metadata": {
    "collapsed": false,
    "pycharm": {
     "name": "#%%\n"
    }
   }
  },
  {
   "cell_type": "code",
   "execution_count": 4,
   "outputs": [
    {
     "name": "stdout",
     "output_type": "stream",
     "text": [
      "Similarity column 25975 ( 100 % ), 1679.89 column/sec, elapsed time 0.26 min\n",
      "Similarity column 25975 ( 100 % ), 1538.86 column/sec, elapsed time 0.28 min\n",
      "Similarity column 25975 ( 100 % ), 1509.41 column/sec, elapsed time 0.29 min\n",
      "Similarity column 25975 ( 100 % ), 1688.11 column/sec, elapsed time 0.26 min\n",
      "Similarity column 25975 ( 100 % ), 1205.11 column/sec, elapsed time 0.36 min\n",
      "map:  [0.014688755860382444, 0.023319707839602855, 0.023319707839602855, 0.02329373422341659, 0.023319707839602855] similarity : ['asymmetric', 'jaccard', 'tanimoto', 'dice', 'tversky']\n"
     ]
    }
   ],
   "source": [
    "similarity_vector = ['asymmetric', 'jaccard', 'tanimoto', 'dice', 'tversky']\n",
    "map_rec = []\n",
    "for similarity in similarity_vector:\n",
    "    recommender_test = cbf_recommender()\n",
    "    recommender_test.fit(training_set=training, shrink=55, k=90, similarity=similarity)\n",
    "    map_rec.append(evaluator.evaluate_already_trained(recommender=recommender_test)[2])\n",
    "print(\"map: \",map_rec, \"similarity :\", similarity_vector)"
   ],
   "metadata": {
    "collapsed": false,
    "pycharm": {
     "name": "#%%\n"
    }
   }
  },
  {
   "cell_type": "code",
   "execution_count": 8,
   "outputs": [
    {
     "name": "stdout",
     "output_type": "stream",
     "text": [
      "Similarity column 25975 ( 100 % ), 1474.04 column/sec, elapsed time 0.29 min\n"
     ]
    }
   ],
   "source": [
    "recommender_submission = cbf_recommender()\n",
    "recommender_submission.fit(training_set=data_manager().get_urm(),\n",
    "                           shrink=55,\n",
    "                           k=90,\n",
    "                           similarity='dice')\n",
    "s=submission_helper(name_of_the_file='dice',\n",
    "                  recommender=recommender_submission)\n",
    "s.build_submission()"
   ],
   "metadata": {
    "collapsed": false,
    "pycharm": {
     "name": "#%%\n"
    }
   }
  },
  {
   "cell_type": "code",
   "execution_count": null,
   "outputs": [],
   "source": [],
   "metadata": {
    "collapsed": false,
    "pycharm": {
     "name": "#%%\n"
    }
   }
  }
 ],
 "metadata": {
  "kernelspec": {
   "display_name": "Python 3",
   "language": "python",
   "name": "python3"
  },
  "language_info": {
   "codemirror_mode": {
    "name": "ipython",
    "version": 2
   },
   "file_extension": ".py",
   "mimetype": "text/x-python",
   "name": "python",
   "nbconvert_exporter": "python",
   "pygments_lexer": "ipython2",
   "version": "2.7.6"
  }
 },
 "nbformat": 4,
 "nbformat_minor": 0
}
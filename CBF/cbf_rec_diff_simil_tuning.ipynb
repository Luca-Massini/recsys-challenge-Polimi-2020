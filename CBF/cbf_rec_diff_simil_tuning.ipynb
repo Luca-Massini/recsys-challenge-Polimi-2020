{
 "cells": [
  {
   "cell_type": "code",
   "execution_count": 1,
   "outputs": [],
   "source": [
    "from CBF.cbf_recommender_different_similarities import cbf_recommender_different_similarities\n",
    "from utils.evaluator.evaluator import evaluator\n",
    "from utils.submission_helper import submission_helper\n",
    "from utils.data_manager.data_manager import data_manager\n",
    "from utils.data_manager.splitter import splitter\n",
    "import matplotlib.pyplot as plt\n",
    "import numpy as np\n",
    "import pandas as pd"
   ],
   "metadata": {
    "collapsed": false,
    "pycharm": {
     "name": "#%%\n"
    }
   }
  },
  {
   "cell_type": "code",
   "execution_count": 2,
   "outputs": [],
   "source": [
    "training, validation, test = splitter().get_train_evaluation_test(percentage_of_training_data=0.6,\n",
    "                                                                  percentage_of_validation_data=0.2)\n"
   ],
   "metadata": {
    "collapsed": false,
    "pycharm": {
     "name": "#%%\n"
    }
   }
  },
  {
   "cell_type": "code",
   "execution_count": 3,
   "outputs": [
    {
     "name": "stdout",
     "output_type": "stream",
     "text": [
      "Similarity column 25975 ( 100 % ), 1650.77 column/sec, elapsed time 0.26 min\n",
      "Similarity column 25975 ( 100 % ), 1278.43 column/sec, elapsed time 0.34 min\n",
      "0.023354368906414173\n",
      "Similarity column 25975 ( 100 % ), 1649.75 column/sec, elapsed time 0.26 min\n",
      "Similarity column 25975 ( 100 % ), 1265.37 column/sec, elapsed time 0.34 min\n",
      "0.02335101169169106\n",
      "Similarity column 25975 ( 100 % ), 1731.24 column/sec, elapsed time 0.25 min\n",
      "Similarity column 25975 ( 100 % ), 1259.04 column/sec, elapsed time 0.34 min\n",
      "0.02336215973540992\n",
      "Similarity column 25975 ( 100 % ), 1699.90 column/sec, elapsed time 0.25 min\n",
      "Similarity column 25975 ( 100 % ), 1251.91 column/sec, elapsed time 0.35 min\n",
      "0.0233386386250259\n",
      "Similarity column 25975 ( 100 % ), 1707.90 column/sec, elapsed time 0.25 min\n",
      "Similarity column 25975 ( 100 % ), 1219.98 column/sec, elapsed time 0.35 min\n",
      "0.023307992373605535\n",
      "Similarity column 25975 ( 100 % ), 1634.85 column/sec, elapsed time 0.26 min\n",
      "Similarity column 25975 ( 100 % ), 1234.51 column/sec, elapsed time 0.35 min\n",
      "0.02331350009879888\n",
      "Similarity column 25975 ( 100 % ), 1716.86 column/sec, elapsed time 0.25 min\n",
      "Similarity column 25975 ( 100 % ), 1245.11 column/sec, elapsed time 0.35 min\n",
      "0.02328943878160188\n",
      "Similarity column 25975 ( 100 % ), 1625.44 column/sec, elapsed time 0.27 min\n",
      "Similarity column 25975 ( 100 % ), 1228.12 column/sec, elapsed time 0.35 min\n",
      "0.023289513104387743\n",
      "Similarity column 25975 ( 100 % ), 1662.84 column/sec, elapsed time 0.26 min\n",
      "Similarity column 25975 ( 100 % ), 1226.42 column/sec, elapsed time 0.35 min\n",
      "0.023280336802599298\n"
     ]
    },
    {
     "data": {
      "text/plain": "[0.023354368906414173,\n 0.02335101169169106,\n 0.02336215973540992,\n 0.0233386386250259,\n 0.023307992373605535,\n 0.02331350009879888,\n 0.02328943878160188,\n 0.023289513104387743,\n 0.023280336802599298]"
     },
     "execution_count": 3,
     "metadata": {},
     "output_type": "execute_result"
    }
   ],
   "source": [
    "weights = [0.1, 0.2, 0.3, 0.4, 0.5, 0.6, 0.7, 0.8, 0.9]\n",
    "map_vector = []\n",
    "for w1 in weights:\n",
    "    for w2 in weights:\n",
    "        if w1+w2 == 1:\n",
    "            recommender = cbf_recommender_different_similarities(weights=[w1,w2])\n",
    "            recommender.fit(training_set=training.copy(),\n",
    "                            k1=90,\n",
    "                            shrink1=55,\n",
    "                            similarity1='dice',\n",
    "                            k2=90,\n",
    "                            shrink2=55,\n",
    "                            similarity2='tversky',\n",
    "                            normalize=True)\n",
    "            map_ = evaluator.evaluate_already_trained(recommender=recommender)[2]\n",
    "            print(map_)\n",
    "            map_vector.append(map_)\n",
    "map_vector"
   ],
   "metadata": {
    "collapsed": false,
    "pycharm": {
     "name": "#%%\n"
    }
   }
  },
  {
   "cell_type": "code",
   "execution_count": 4,
   "outputs": [
    {
     "data": {
      "text/plain": "[0.3, 0.7]"
     },
     "execution_count": 4,
     "metadata": {},
     "output_type": "execute_result"
    }
   ],
   "source": [
    "w = []\n",
    "for w1 in weights:\n",
    "    for w2 in weights:\n",
    "        if w1+w2 ==1:\n",
    "            w.append([w1,w2])\n",
    "chosen_weights = w[np.argmax(map_vector)]\n",
    "chosen_weights"
   ],
   "metadata": {
    "collapsed": false,
    "pycharm": {
     "name": "#%%\n"
    }
   }
  },
  {
   "cell_type": "code",
   "execution_count": 3,
   "outputs": [
    {
     "name": "stdout",
     "output_type": "stream",
     "text": [
      "Similarity column 25975 ( 100 % ), 1682.41 column/sec, elapsed time 0.26 min\n",
      "Similarity column 25975 ( 100 % ), 1288.95 column/sec, elapsed time 0.34 min\n",
      "0.021111228959587395\n",
      "Similarity column 25975 ( 100 % ), 1365.25 column/sec, elapsed time 0.32 min\n",
      "Similarity column 25975 ( 100 % ), 1191.93 column/sec, elapsed time 0.36 min\n",
      "0.021945352275788803\n",
      "Similarity column 25975 ( 100 % ), 1703.65 column/sec, elapsed time 0.25 min\n",
      "Similarity column 25975 ( 100 % ), 1204.34 column/sec, elapsed time 0.36 min\n",
      "0.02278413974222046\n",
      "Similarity column 25975 ( 100 % ), 1674.10 column/sec, elapsed time 0.26 min\n",
      "Similarity column 25975 ( 100 % ), 1215.53 column/sec, elapsed time 0.36 min\n",
      "0.022865586684330762\n",
      "Similarity column 25975 ( 100 % ), 1653.63 column/sec, elapsed time 0.26 min\n",
      "Similarity column 25975 ( 100 % ), 1191.19 column/sec, elapsed time 0.36 min\n",
      "0.02336215973540992\n",
      "Similarity column 25975 ( 100 % ), 1746.69 column/sec, elapsed time 0.25 min\n",
      "Similarity column 25975 ( 100 % ), 1222.75 column/sec, elapsed time 0.35 min\n",
      "0.021111228959587395\n",
      "Similarity column 25975 ( 100 % ), 1723.06 column/sec, elapsed time 0.25 min\n",
      "Similarity column 25975 ( 100 % ), 1237.79 column/sec, elapsed time 0.35 min\n",
      "0.021945352275788803\n",
      "Similarity column 25975 ( 100 % ), 1716.67 column/sec, elapsed time 0.25 min\n",
      "Similarity column 25975 ( 100 % ), 1219.71 column/sec, elapsed time 0.35 min\n",
      "0.02278413974222046\n",
      "Similarity column 25975 ( 100 % ), 1709.22 column/sec, elapsed time 0.25 min\n",
      "Similarity column 25975 ( 100 % ), 1242.17 column/sec, elapsed time 0.35 min\n",
      "0.022865586684330762\n",
      "Similarity column 25975 ( 100 % ), 1683.52 column/sec, elapsed time 0.26 min\n",
      "Similarity column 25975 ( 100 % ), 1228.65 column/sec, elapsed time 0.35 min\n",
      "0.02336215973540992\n",
      "Similarity column 25975 ( 100 % ), 1781.91 column/sec, elapsed time 0.24 min\n",
      "Similarity column 25975 ( 100 % ), 1248.62 column/sec, elapsed time 0.35 min\n",
      "0.021111228959587395\n",
      "Similarity column 25975 ( 100 % ), 1760.06 column/sec, elapsed time 0.25 min\n",
      "Similarity column 25975 ( 100 % ), 1196.95 column/sec, elapsed time 0.36 min\n",
      "0.021945352275788803\n",
      "Similarity column 25975 ( 100 % ), 1640.51 column/sec, elapsed time 0.26 min\n",
      "Similarity column 25975 ( 100 % ), 1221.63 column/sec, elapsed time 0.35 min\n",
      "0.02278413974222046\n",
      "Similarity column 25975 ( 100 % ), 1727.06 column/sec, elapsed time 0.25 min\n",
      "Similarity column 25975 ( 100 % ), 1222.87 column/sec, elapsed time 0.35 min\n",
      "0.022865586684330762\n",
      "Similarity column 25975 ( 100 % ), 1653.83 column/sec, elapsed time 0.26 min\n",
      "Similarity column 25975 ( 100 % ), 1189.22 column/sec, elapsed time 0.36 min\n",
      "0.02336215973540992\n",
      "Similarity column 25975 ( 100 % ), 1332.85 column/sec, elapsed time 0.32 min\n",
      "Similarity column 25975 ( 100 % ), 1035.19 column/sec, elapsed time 0.42 min\n",
      "0.021111228959587395\n",
      "Similarity column 25975 ( 100 % ), 1667.23 column/sec, elapsed time 0.26 min\n",
      "Similarity column 25975 ( 100 % ), 1063.38 column/sec, elapsed time 0.41 min\n",
      "0.021945352275788803\n",
      "Similarity column 25975 ( 100 % ), 1687.76 column/sec, elapsed time 0.26 min\n",
      "Similarity column 25975 ( 100 % ), 1247.59 column/sec, elapsed time 0.35 min\n",
      "0.02278413974222046\n",
      "Similarity column 25975 ( 100 % ), 1725.44 column/sec, elapsed time 0.25 min\n",
      "Similarity column 25975 ( 100 % ), 1105.41 column/sec, elapsed time 0.39 min\n",
      "0.022865586684330762\n",
      "Similarity column 25975 ( 100 % ), 1649.17 column/sec, elapsed time 0.26 min\n",
      "Similarity column 25975 ( 100 % ), 1188.24 column/sec, elapsed time 0.36 min\n",
      "0.02336215973540992\n",
      "Similarity column 25975 ( 100 % ), 1703.82 column/sec, elapsed time 0.25 min\n",
      "Similarity column 25975 ( 100 % ), 1176.61 column/sec, elapsed time 0.37 min\n",
      "0.021111228959587395\n",
      "Similarity column 25975 ( 100 % ), 1692.19 column/sec, elapsed time 0.26 min\n",
      "Similarity column 25975 ( 100 % ), 1045.26 column/sec, elapsed time 0.41 min\n",
      "0.021945352275788803\n",
      "Similarity column 25975 ( 100 % ), 1383.67 column/sec, elapsed time 0.31 min\n",
      "Similarity column 25975 ( 100 % ), 895.46 column/sec, elapsed time 0.48 min\n",
      "0.02278413974222046\n",
      "Similarity column 25975 ( 100 % ), 1415.64 column/sec, elapsed time 0.31 min\n",
      "Similarity column 25975 ( 100 % ), 1176.72 column/sec, elapsed time 0.37 min\n",
      "0.022865586684330762\n",
      "Similarity column 25975 ( 100 % ), 1356.62 column/sec, elapsed time 0.32 min\n",
      "Similarity column 25975 ( 100 % ), 1007.83 column/sec, elapsed time 0.43 min\n",
      "0.02336215973540992\n"
     ]
    },
    {
     "data": {
      "text/plain": "[0.021111228959587395,\n 0.021945352275788803,\n 0.02278413974222046,\n 0.022865586684330762,\n 0.02336215973540992,\n 0.021111228959587395,\n 0.021945352275788803,\n 0.02278413974222046,\n 0.022865586684330762,\n 0.02336215973540992,\n 0.021111228959587395,\n 0.021945352275788803,\n 0.02278413974222046,\n 0.022865586684330762,\n 0.02336215973540992,\n 0.021111228959587395,\n 0.021945352275788803,\n 0.02278413974222046,\n 0.022865586684330762,\n 0.02336215973540992,\n 0.021111228959587395,\n 0.021945352275788803,\n 0.02278413974222046,\n 0.022865586684330762,\n 0.02336215973540992]"
     },
     "execution_count": 3,
     "metadata": {},
     "output_type": "execute_result"
    }
   ],
   "source": [
    "k = [10,20,30,50,90]\n",
    "map_vector = []\n",
    "k_vector = []\n",
    "for k1 in k:\n",
    "    for k2 in k:\n",
    "        k_vector.append([k1,k2])\n",
    "        recommender = cbf_recommender_different_similarities(weights=[0.3, 0.7])\n",
    "        recommender.fit(training_set=training.copy(),\n",
    "                            k1=k2,\n",
    "                            shrink1=55,\n",
    "                            similarity1='dice',\n",
    "                            k2=k2,\n",
    "                            shrink2=55,\n",
    "                            similarity2='tversky',\n",
    "                            normalize=True)\n",
    "        map_ = evaluator.evaluate_already_trained(recommender=recommender)[2]\n",
    "        print(map_)\n",
    "        map_vector.append(map_)\n",
    "map_vector"
   ],
   "metadata": {
    "collapsed": false,
    "pycharm": {
     "name": "#%%\n"
    }
   }
  },
  {
   "cell_type": "code",
   "execution_count": 4,
   "outputs": [
    {
     "data": {
      "text/plain": "[10, 90]"
     },
     "execution_count": 4,
     "metadata": {},
     "output_type": "execute_result"
    }
   ],
   "source": [
    "chosen_k_couple = k_vector[np.argmax(map_vector)]\n",
    "chosen_k_couple"
   ],
   "metadata": {
    "collapsed": false,
    "pycharm": {
     "name": "#%%\n"
    }
   }
  },
  {
   "cell_type": "code",
   "execution_count": 5,
   "outputs": [
    {
     "name": "stdout",
     "output_type": "stream",
     "text": [
      "Similarity column 25975 ( 100 % ), 1601.76 column/sec, elapsed time 0.27 min\n",
      "Similarity column 25975 ( 100 % ), 1067.28 column/sec, elapsed time 0.41 min\n",
      "0.023476941733567753\n",
      "Similarity column 25975 ( 100 % ), 1569.36 column/sec, elapsed time 0.28 min\n",
      "Similarity column 25975 ( 100 % ), 1184.49 column/sec, elapsed time 0.37 min\n",
      "0.023364066783477272\n",
      "Similarity column 25975 ( 100 % ), 1560.07 column/sec, elapsed time 0.28 min\n",
      "Similarity column 16600 ( 64 % ), 553.19 column/sec, elapsed time 0.50 min\n",
      "Similarity column 25975 ( 100 % ), 677.49 column/sec, elapsed time 0.64 min\n",
      "0.02333232796093999\n",
      "Similarity column 25975 ( 100 % ), 1688.55 column/sec, elapsed time 0.26 min\n",
      "Similarity column 23100 ( 89 % ), 769.21 column/sec, elapsed time 0.50 min\n",
      "Similarity column 25975 ( 100 % ), 757.78 column/sec, elapsed time 0.57 min\n",
      "0.023421297459242374\n",
      "Similarity column 25975 ( 100 % ), 1492.41 column/sec, elapsed time 0.29 min\n",
      "Similarity column 25975 ( 100 % ), 1015.66 column/sec, elapsed time 0.43 min\n",
      "0.02333780160817338\n",
      "Similarity column 25975 ( 100 % ), 1607.50 column/sec, elapsed time 0.27 min\n",
      "Similarity column 25975 ( 100 % ), 1106.70 column/sec, elapsed time 0.39 min\n",
      "0.02361583557681786\n",
      "Similarity column 25975 ( 100 % ), 1607.89 column/sec, elapsed time 0.27 min\n",
      "Similarity column 25975 ( 100 % ), 1119.85 column/sec, elapsed time 0.39 min\n",
      "0.023422042411452702\n",
      "Similarity column 25975 ( 100 % ), 1595.40 column/sec, elapsed time 0.27 min\n",
      "Similarity column 25975 ( 100 % ), 1085.24 column/sec, elapsed time 0.40 min\n",
      "0.023406276376879007\n",
      "Similarity column 25975 ( 100 % ), 1592.66 column/sec, elapsed time 0.27 min\n",
      "Similarity column 25975 ( 100 % ), 1122.17 column/sec, elapsed time 0.39 min\n",
      "0.02338916660100177\n",
      "Similarity column 25975 ( 100 % ), 1600.08 column/sec, elapsed time 0.27 min\n",
      "Similarity column 25975 ( 100 % ), 1144.77 column/sec, elapsed time 0.38 min\n",
      "0.02340471127801737\n",
      "Similarity column 25975 ( 100 % ), 1680.37 column/sec, elapsed time 0.26 min\n",
      "Similarity column 25975 ( 100 % ), 1149.47 column/sec, elapsed time 0.38 min\n",
      "0.023440651138383607\n",
      "Similarity column 25975 ( 100 % ), 1655.53 column/sec, elapsed time 0.26 min\n",
      "Similarity column 25975 ( 100 % ), 1127.48 column/sec, elapsed time 0.38 min\n",
      "0.023266678709054724\n",
      "Similarity column 25975 ( 100 % ), 1676.87 column/sec, elapsed time 0.26 min\n",
      "Similarity column 25975 ( 100 % ), 1129.97 column/sec, elapsed time 0.38 min\n",
      "0.023265466511795018\n",
      "Similarity column 25975 ( 100 % ), 1648.88 column/sec, elapsed time 0.26 min\n",
      "Similarity column 25975 ( 100 % ), 1136.03 column/sec, elapsed time 0.38 min\n",
      "0.023300679018848827\n",
      "Similarity column 25975 ( 100 % ), 1670.15 column/sec, elapsed time 0.26 min\n",
      "Similarity column 25975 ( 100 % ), 1142.20 column/sec, elapsed time 0.38 min\n",
      "0.023126767560776914\n",
      "Similarity column 25975 ( 100 % ), 1608.28 column/sec, elapsed time 0.27 min\n",
      "Similarity column 25975 ( 100 % ), 1071.31 column/sec, elapsed time 0.40 min\n",
      "0.023412494923568908\n",
      "Similarity column 25975 ( 100 % ), 1584.29 column/sec, elapsed time 0.27 min\n",
      "Similarity column 25975 ( 100 % ), 1143.93 column/sec, elapsed time 0.38 min\n",
      "0.023269787074944696\n",
      "Similarity column 25975 ( 100 % ), 1646.35 column/sec, elapsed time 0.26 min\n",
      "Similarity column 25975 ( 100 % ), 1090.22 column/sec, elapsed time 0.40 min\n",
      "0.02331012083008405\n",
      "Similarity column 25975 ( 100 % ), 1163.91 column/sec, elapsed time 0.37 min\n",
      "Similarity column 25975 ( 100 % ), 895.56 column/sec, elapsed time 0.48 min\n",
      "0.02321686243936528\n",
      "Similarity column 25975 ( 100 % ), 1388.03 column/sec, elapsed time 0.31 min\n",
      "Similarity column 25975 ( 100 % ), 959.20 column/sec, elapsed time 0.45 min\n",
      "0.02307443468497119\n",
      "Similarity column 25975 ( 100 % ), 1658.80 column/sec, elapsed time 0.26 min\n",
      "Similarity column 25975 ( 100 % ), 1127.43 column/sec, elapsed time 0.38 min\n",
      "0.023529272170520095\n",
      "Similarity column 25975 ( 100 % ), 1652.78 column/sec, elapsed time 0.26 min\n",
      "Similarity column 25975 ( 100 % ), 1046.99 column/sec, elapsed time 0.41 min\n",
      "0.023447511826145937\n",
      "Similarity column 25975 ( 100 % ), 1482.77 column/sec, elapsed time 0.29 min\n",
      "Similarity column 25975 ( 100 % ), 969.05 column/sec, elapsed time 0.45 min\n",
      "0.023303232407163543\n",
      "Similarity column 25975 ( 100 % ), 1539.82 column/sec, elapsed time 0.28 min\n",
      "Similarity column 25975 ( 100 % ), 886.26 column/sec, elapsed time 0.49 min\n",
      "0.02333236360179695\n",
      "Similarity column 25975 ( 100 % ), 1630.25 column/sec, elapsed time 0.27 min\n",
      "Similarity column 25975 ( 100 % ), 1019.29 column/sec, elapsed time 0.42 min\n",
      "0.023225677476391572\n"
     ]
    },
    {
     "data": {
      "text/plain": "[0.023476941733567753,\n 0.023364066783477272,\n 0.02333232796093999,\n 0.023421297459242374,\n 0.02333780160817338,\n 0.02361583557681786,\n 0.023422042411452702,\n 0.023406276376879007,\n 0.02338916660100177,\n 0.02340471127801737,\n 0.023440651138383607,\n 0.023266678709054724,\n 0.023265466511795018,\n 0.023300679018848827,\n 0.023126767560776914,\n 0.023412494923568908,\n 0.023269787074944696,\n 0.02331012083008405,\n 0.02321686243936528,\n 0.02307443468497119,\n 0.023529272170520095,\n 0.023447511826145937,\n 0.023303232407163543,\n 0.02333236360179695,\n 0.023225677476391572]"
     },
     "execution_count": 5,
     "metadata": {},
     "output_type": "execute_result"
    }
   ],
   "source": [
    "shrinks = [50, 70,110,150,200]\n",
    "map_vector = []\n",
    "shrink_vector = []\n",
    "for shrink1 in shrinks:\n",
    "    for shrink2  in shrinks:\n",
    "        shrink_vector.append([shrink1,shrink2])\n",
    "        recommender = cbf_recommender_different_similarities(weights=[0.3, 0.7])\n",
    "        recommender.fit(training_set=training.copy(),\n",
    "                            k1=10,\n",
    "                            shrink1=shrink1,\n",
    "                            similarity1='dice',\n",
    "                            k2=90,\n",
    "                            shrink2=shrink2,\n",
    "                            similarity2='tversky',\n",
    "                            normalize=True)\n",
    "        map_ = evaluator.evaluate_already_trained(recommender=recommender)[2]\n",
    "        print(map_)\n",
    "        map_vector.append(map_)\n",
    "map_vector"
   ],
   "metadata": {
    "collapsed": false,
    "pycharm": {
     "name": "#%%\n"
    }
   }
  },
  {
   "cell_type": "code",
   "execution_count": 6,
   "outputs": [
    {
     "data": {
      "text/plain": "[70, 50]"
     },
     "execution_count": 6,
     "metadata": {},
     "output_type": "execute_result"
    }
   ],
   "source": [
    "chosen_shrinks = shrink_vector[np.argmax(map_vector)]\n",
    "chosen_shrinks"
   ],
   "metadata": {
    "collapsed": false,
    "pycharm": {
     "name": "#%%\n"
    }
   }
  },
  {
   "cell_type": "code",
   "execution_count": 7,
   "outputs": [
    {
     "data": {
      "text/plain": "0.02361583557681786"
     },
     "execution_count": 7,
     "metadata": {},
     "output_type": "execute_result"
    }
   ],
   "source": [
    "np.max(map_vector)"
   ],
   "metadata": {
    "collapsed": false,
    "pycharm": {
     "name": "#%%\n"
    }
   }
  }
 ],
 "metadata": {
  "kernelspec": {
   "display_name": "Python 3",
   "language": "python",
   "name": "python3"
  },
  "language_info": {
   "codemirror_mode": {
    "name": "ipython",
    "version": 2
   },
   "file_extension": ".py",
   "mimetype": "text/x-python",
   "name": "python",
   "nbconvert_exporter": "python",
   "pygments_lexer": "ipython2",
   "version": "2.7.6"
  }
 },
 "nbformat": 4,
 "nbformat_minor": 0
}
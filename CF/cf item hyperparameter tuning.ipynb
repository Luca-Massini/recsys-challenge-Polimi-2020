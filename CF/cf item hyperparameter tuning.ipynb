{
 "cells": [
  {
   "cell_type": "code",
   "execution_count": 1,
   "metadata": {
    "collapsed": true
   },
   "outputs": [],
   "source": [
    "from CF.cf_recommender_item import cf_recommender_item\n",
    "from utils.evaluator.evaluator import evaluator\n",
    "from utils.submission_helper import submission_helper\n",
    "from utils.data_manager.data_manager import data_manager\n",
    "from utils.data_manager.splitter import splitter\n",
    "import matplotlib.pyplot as plt\n",
    "import numpy as np\n",
    "import pandas as pd"
   ]
  },
  {
   "cell_type": "code",
   "execution_count": 2,
   "outputs": [],
   "source": [
    "training, validation, test = splitter().get_train_evaluation_test(percentage_of_training_data=0.6,\n",
    "                                                                  percentage_of_validation_data=0.2)"
   ],
   "metadata": {
    "collapsed": false,
    "pycharm": {
     "name": "#%%\n"
    }
   }
  },
  {
   "cell_type": "code",
   "execution_count": 3,
   "outputs": [
    {
     "name": "stdout",
     "output_type": "stream",
     "text": [
      "Similarity column 25975 ( 100 % ), 3661.05 column/sec, elapsed time 0.12 min\n",
      "Similarity column 25975 ( 100 % ), 3233.23 column/sec, elapsed time 0.13 min\n",
      "Similarity column 25975 ( 100 % ), 3668.13 column/sec, elapsed time 0.12 min\n",
      "Similarity column 25975 ( 100 % ), 3373.05 column/sec, elapsed time 0.13 min\n",
      "Similarity column 25975 ( 100 % ), 2199.27 column/sec, elapsed time 0.20 min\n",
      "Similarity column 25975 ( 100 % ), 2542.24 column/sec, elapsed time 0.17 min\n",
      "Similarity column 25975 ( 100 % ), 3127.73 column/sec, elapsed time 0.14 min\n",
      "Similarity column 25975 ( 100 % ), 1915.75 column/sec, elapsed time 0.23 min\n",
      "Similarity column 25975 ( 100 % ), 2812.76 column/sec, elapsed time 0.15 min\n",
      "Similarity column 25975 ( 100 % ), 2750.76 column/sec, elapsed time 0.16 min\n",
      "Similarity column 25975 ( 100 % ), 3258.09 column/sec, elapsed time 0.13 min\n",
      "Similarity column 25975 ( 100 % ), 2819.64 column/sec, elapsed time 0.15 min\n",
      "Similarity column 25975 ( 100 % ), 2544.39 column/sec, elapsed time 0.17 min\n",
      "Similarity column 25975 ( 100 % ), 2285.89 column/sec, elapsed time 0.19 min\n",
      "Similarity column 25975 ( 100 % ), 3010.37 column/sec, elapsed time 0.14 min\n",
      "Similarity column 25975 ( 100 % ), 1698.78 column/sec, elapsed time 0.25 min\n",
      "Similarity column 25975 ( 100 % ), 3187.08 column/sec, elapsed time 0.14 min\n",
      "Similarity column 25975 ( 100 % ), 2887.24 column/sec, elapsed time 0.15 min\n",
      "Similarity column 25975 ( 100 % ), 3297.58 column/sec, elapsed time 0.13 min\n",
      "Similarity column 25975 ( 100 % ), 2951.66 column/sec, elapsed time 0.15 min\n",
      "Similarity column 25975 ( 100 % ), 2436.67 column/sec, elapsed time 0.18 min\n",
      "Similarity column 25975 ( 100 % ), 2364.92 column/sec, elapsed time 0.18 min\n",
      "Similarity column 25975 ( 100 % ), 2520.70 column/sec, elapsed time 0.17 min\n",
      "Similarity column 25975 ( 100 % ), 1651.62 column/sec, elapsed time 0.26 min\n",
      "Similarity column 25975 ( 100 % ), 3156.49 column/sec, elapsed time 0.14 min\n",
      "Similarity column 25975 ( 100 % ), 2795.84 column/sec, elapsed time 0.15 min\n",
      "Similarity column 25975 ( 100 % ), 2476.08 column/sec, elapsed time 0.17 min\n",
      "Similarity column 25975 ( 100 % ), 2558.25 column/sec, elapsed time 0.17 min\n",
      "Similarity column 25975 ( 100 % ), 1933.25 column/sec, elapsed time 0.22 min\n",
      "Similarity column 25975 ( 100 % ), 2171.59 column/sec, elapsed time 0.20 min\n",
      "Similarity column 25975 ( 100 % ), 2569.95 column/sec, elapsed time 0.17 min\n",
      "Similarity column 25975 ( 100 % ), 1458.34 column/sec, elapsed time 0.30 min\n",
      "k:  60 map:  [6.401535021202868e-05, 0.024022055384571146, 6.401535021202868e-05, 0.024022055384571146, 0.024075154873791242, 0.024075154873791242, 0.023954614211089676, 0.024075154873791242] similarities:  ['pearson', 'cosine', 'adjusted', 'asymmetric', 'jaccard', 'tanimoto', 'dice', 'tversky']\n",
      "k:  100 map:  [6.401535021202868e-05, 0.024275761406660663, 6.401535021202868e-05, 0.024275761406660663, 0.023703109043034312, 0.023703109043034312, 0.023751345476230132, 0.023703109043034312] similarities:  ['pearson', 'cosine', 'adjusted', 'asymmetric', 'jaccard', 'tanimoto', 'dice', 'tversky']\n",
      "k:  250 map:  [6.401535021202868e-05, 0.024497406486071616, 6.401535021202868e-05, 0.024497406486071616, 0.023724713304576466, 0.023724713304576466, 0.02371174444827176, 0.023724713304576466] similarities:  ['pearson', 'cosine', 'adjusted', 'asymmetric', 'jaccard', 'tanimoto', 'dice', 'tversky']\n",
      "k:  400 map:  [6.401535021202868e-05, 0.024557557300372162, 6.401535021202868e-05, 0.024557557300372162, 0.023792947236068594, 0.023792947236068594, 0.023709857001316458, 0.023792947236068594] similarities:  ['pearson', 'cosine', 'adjusted', 'asymmetric', 'jaccard', 'tanimoto', 'dice', 'tversky']\n"
     ]
    }
   ],
   "source": [
    "k = [60, 100, 250, 400]\n",
    "similarities = ['pearson', 'cosine', 'adjusted', 'asymmetric', 'jaccard', 'tanimoto',\n",
    "                             'dice', 'tversky']\n",
    "map_vectors = []\n",
    "for chosen_k in k:\n",
    "    map_vector = []\n",
    "    for chosen_similarity in similarities:\n",
    "        recommender_ = cf_recommender_item()\n",
    "        recommender_.fit(training, k=chosen_k, normalize=True, similarity=chosen_similarity)\n",
    "        map_vector.append(evaluator.evaluate_already_trained(recommender=recommender_)[2])\n",
    "    map_vectors.append(map_vector)\n",
    "index = 0\n",
    "for vector in map_vectors:\n",
    "    print(\"k: \", k[index], \"map: \", vector, \"similarities: \", similarities)\n",
    "    index+=1"
   ],
   "metadata": {
    "collapsed": false,
    "pycharm": {
     "name": "#%%\n"
    }
   }
  },
  {
   "cell_type": "code",
   "execution_count": 4,
   "outputs": [
    {
     "name": "stdout",
     "output_type": "stream",
     "text": [
      "Similarity column 25975 ( 100 % ), 3190.41 column/sec, elapsed time 0.14 min\n",
      "Similarity column 25975 ( 100 % ), 2916.78 column/sec, elapsed time 0.15 min\n",
      "Similarity column 25975 ( 100 % ), 2828.00 column/sec, elapsed time 0.15 min\n",
      "Similarity column 25975 ( 100 % ), 2728.80 column/sec, elapsed time 0.16 min\n",
      "Similarity column 25975 ( 100 % ), 2820.01 column/sec, elapsed time 0.15 min\n",
      "Similarity column 25975 ( 100 % ), 2801.40 column/sec, elapsed time 0.15 min\n",
      "Similarity column 25975 ( 100 % ), 2298.85 column/sec, elapsed time 0.19 min\n",
      "Similarity column 25975 ( 100 % ), 2886.26 column/sec, elapsed time 0.15 min\n",
      "Similarity column 25975 ( 100 % ), 2633.45 column/sec, elapsed time 0.16 min\n",
      "Similarity column 25975 ( 100 % ), 2745.43 column/sec, elapsed time 0.16 min\n",
      "Similarity column 25975 ( 100 % ), 2691.06 column/sec, elapsed time 0.16 min\n",
      "Similarity column 25975 ( 100 % ), 2639.70 column/sec, elapsed time 0.16 min\n",
      "Similarity column 25975 ( 100 % ), 2358.95 column/sec, elapsed time 0.18 min\n",
      "Similarity column 25975 ( 100 % ), 2600.84 column/sec, elapsed time 0.17 min\n",
      "Similarity column 25975 ( 100 % ), 2556.60 column/sec, elapsed time 0.17 min\n",
      "Similarity column 25975 ( 100 % ), 2445.69 column/sec, elapsed time 0.18 min\n",
      "Similarity column 25975 ( 100 % ), 2575.62 column/sec, elapsed time 0.17 min\n",
      "Similarity column 25975 ( 100 % ), 2565.93 column/sec, elapsed time 0.17 min\n",
      "Similarity column 25975 ( 100 % ), 2282.08 column/sec, elapsed time 0.19 min\n",
      "Similarity column 25975 ( 100 % ), 2630.67 column/sec, elapsed time 0.16 min\n",
      "Similarity column 25975 ( 100 % ), 2535.57 column/sec, elapsed time 0.17 min\n",
      "Similarity column 25975 ( 100 % ), 2515.24 column/sec, elapsed time 0.17 min\n",
      "Similarity column 25975 ( 100 % ), 2382.38 column/sec, elapsed time 0.18 min\n",
      "Similarity column 25975 ( 100 % ), 2526.22 column/sec, elapsed time 0.17 min\n"
     ]
    },
    {
     "data": {
      "text/plain": "<Figure size 432x288 with 1 Axes>",
      "image/png": "[encoded data removed]"
     },
     "metadata": {
      "needs_background": "light"
     },
     "output_type": "display_data"
    }
   ],
   "source": [
    "k_tested = [i for i in range(30,400,20)]\n",
    "k1 = [i for i in range(450, 700, 60)]\n",
    "k_tested = k_tested + k1\n",
    "map_=[]\n",
    "for k in k_tested:\n",
    "    recommender_k = cf_recommender_item()\n",
    "    recommender_k.fit(training, k=k, normalize=True, similarity='asymmetric')\n",
    "    map_.append(evaluator.evaluate_already_trained(recommender=recommender_k)[2])\n",
    "plt.plot(k_tested, map_)\n",
    "plt.ylabel('MAP')\n",
    "plt.xlabel('K')\n",
    "plt.show()"
   ],
   "metadata": {
    "collapsed": false,
    "pycharm": {
     "name": "#%%\n"
    }
   }
  },
  {
   "cell_type": "code",
   "execution_count": 5,
   "outputs": [
    {
     "data": {
      "text/plain": "310"
     },
     "execution_count": 5,
     "metadata": {},
     "output_type": "execute_result"
    }
   ],
   "source": [
    "k = k_tested[np.argmax(map_)]\n",
    "k"
   ],
   "metadata": {
    "collapsed": false,
    "pycharm": {
     "name": "#%%\n"
    }
   }
  },
  {
   "cell_type": "code",
   "execution_count": 6,
   "outputs": [
    {
     "name": "stdout",
     "output_type": "stream",
     "text": [
      "Similarity column 25975 ( 100 % ), 2972.95 column/sec, elapsed time 0.15 min\n",
      "Similarity column 25975 ( 100 % ), 2793.55 column/sec, elapsed time 0.15 min\n",
      "Similarity column 25975 ( 100 % ), 2903.92 column/sec, elapsed time 0.15 min\n",
      "Similarity column 25975 ( 100 % ), 2872.57 column/sec, elapsed time 0.15 min\n",
      "Similarity column 25975 ( 100 % ), 2630.36 column/sec, elapsed time 0.16 min\n",
      "Similarity column 25975 ( 100 % ), 2100.18 column/sec, elapsed time 0.21 min\n",
      "Similarity column 25975 ( 100 % ), 2481.81 column/sec, elapsed time 0.17 min\n",
      "Similarity column 25975 ( 100 % ), 2273.65 column/sec, elapsed time 0.19 min\n",
      "Similarity column 25975 ( 100 % ), 2459.60 column/sec, elapsed time 0.18 min\n",
      "Similarity column 25975 ( 100 % ), 2634.55 column/sec, elapsed time 0.16 min\n",
      "Similarity column 25975 ( 100 % ), 2645.53 column/sec, elapsed time 0.16 min\n",
      "Similarity column 25975 ( 100 % ), 2461.92 column/sec, elapsed time 0.18 min\n",
      "Similarity column 25975 ( 100 % ), 2688.48 column/sec, elapsed time 0.16 min\n",
      "Similarity column 25975 ( 100 % ), 2715.46 column/sec, elapsed time 0.16 min\n"
     ]
    },
    {
     "data": {
      "text/plain": "<Figure size 432x288 with 1 Axes>",
      "image/png": "[encoded data removed]"
     },
     "metadata": {
      "needs_background": "light"
     },
     "output_type": "display_data"
    }
   ],
   "source": [
    "shrinks = [i for i in range(6,400, 30)]\n",
    "map_=[]\n",
    "for s in shrinks:\n",
    "    recommender_shrink = cf_recommender_item()\n",
    "    recommender_shrink.fit(training, k=310, shrink=s, normalize=True, similarity='asymmetric')\n",
    "    map_.append(evaluator.evaluate_already_trained(recommender=recommender_shrink)[2])\n",
    "plt.plot(shrinks, map_)\n",
    "plt.ylabel('MAP')\n",
    "plt.xlabel('shrink')\n",
    "plt.show()"
   ],
   "metadata": {
    "collapsed": false,
    "pycharm": {
     "name": "#%%\n"
    }
   }
  },
  {
   "cell_type": "code",
   "execution_count": 7,
   "outputs": [
    {
     "data": {
      "text/plain": "246"
     },
     "execution_count": 7,
     "metadata": {},
     "output_type": "execute_result"
    }
   ],
   "source": [
    "shrink = shrinks[np.argmax(map_)]\n",
    "shrink\n"
   ],
   "metadata": {
    "collapsed": false,
    "pycharm": {
     "name": "#%%\n"
    }
   }
  },
  {
   "cell_type": "code",
   "execution_count": 8,
   "outputs": [
    {
     "name": "stdout",
     "output_type": "stream",
     "text": [
      "Similarity column 25975 ( 100 % ), 3083.83 column/sec, elapsed time 0.14 min\n",
      "Similarity column 25975 ( 100 % ), 2580.17 column/sec, elapsed time 0.17 min\n",
      "Similarity column 25975 ( 100 % ), 2154.83 column/sec, elapsed time 0.20 min\n",
      "Similarity column 25975 ( 100 % ), 2634.43 column/sec, elapsed time 0.16 min\n",
      "Similarity column 25975 ( 100 % ), 2094.09 column/sec, elapsed time 0.21 min\n",
      "Similarity column 25975 ( 100 % ), 2535.20 column/sec, elapsed time 0.17 min\n",
      "Similarity column 25975 ( 100 % ), 2577.48 column/sec, elapsed time 0.17 min\n",
      "Similarity column 25975 ( 100 % ), 2624.92 column/sec, elapsed time 0.16 min\n"
     ]
    },
    {
     "data": {
      "text/plain": "<Figure size 432x288 with 1 Axes>",
      "image/png": "[encoded data removed]"
     },
     "metadata": {
      "needs_background": "light"
     },
     "output_type": "display_data"
    }
   ],
   "source": [
    "shrinks = [i for i in range(300,800, 70)]\n",
    "map_=[]\n",
    "for s in shrinks:\n",
    "    recommender_shrink = cf_recommender_item()\n",
    "    recommender_shrink.fit(training, k=310, shrink=s, normalize=True, similarity='asymmetric')\n",
    "    map_.append(evaluator.evaluate_already_trained(recommender=recommender_shrink)[2])\n",
    "plt.plot(shrinks, map_)\n",
    "plt.ylabel('MAP')\n",
    "plt.xlabel('shrink')\n",
    "plt.show()\n"
   ],
   "metadata": {
    "collapsed": false,
    "pycharm": {
     "name": "#%%\n"
    }
   }
  },
  {
   "cell_type": "code",
   "execution_count": 9,
   "outputs": [
    {
     "name": "stdout",
     "output_type": "stream",
     "text": [
      "Similarity column 25975 ( 100 % ), 2510.54 column/sec, elapsed time 0.17 min\n"
     ]
    }
   ],
   "source": [
    "rec = cf_recommender_item()\n",
    "rec.fit(training_set=data_manager().get_urm(), k=310, shrink=246, similarity='asymmetric')\n",
    "s = submission_helper(name_of_the_file='cf_item_first', recommender=rec)\n",
    "s.build_submission()"
   ],
   "metadata": {
    "collapsed": false,
    "pycharm": {
     "name": "#%%\n"
    }
   }
  }
 ],
 "metadata": {
  "kernelspec": {
   "display_name": "Python 3",
   "language": "python",
   "name": "python3"
  },
  "language_info": {
   "codemirror_mode": {
    "name": "ipython",
    "version": 2
   },
   "file_extension": ".py",
   "mimetype": "text/x-python",
   "name": "python",
   "nbconvert_exporter": "python",
   "pygments_lexer": "ipython2",
   "version": "2.7.6"
  }
 },
 "nbformat": 4,
 "nbformat_minor": 0
}
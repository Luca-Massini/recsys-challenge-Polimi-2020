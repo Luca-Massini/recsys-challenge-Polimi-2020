{
 "cells": [
  {
   "cell_type": "code",
   "execution_count": 1,
   "outputs": [],
   "source": [
    "\n",
    "from CF.cf_item_different_similarities import item_cf_different_similarities\n",
    "from utils.evaluator.evaluator import evaluator\n",
    "from utils.submission_helper import submission_helper\n",
    "from utils.data_manager.data_manager import data_manager\n",
    "from utils.data_manager.splitter import splitter\n",
    "import matplotlib.pyplot as plt\n",
    "import numpy as np\n",
    "import pandas as pd"
   ],
   "metadata": {
    "collapsed": false,
    "pycharm": {
     "name": "#%%\n"
    }
   }
  },
  {
   "cell_type": "code",
   "execution_count": 2,
   "outputs": [],
   "source": [
    "training, validation, test = splitter().get_train_evaluation_test(percentage_of_training_data=0.6,\n",
    "                                                                  percentage_of_validation_data=0.2)\n"
   ],
   "metadata": {
    "collapsed": false,
    "pycharm": {
     "name": "#%%\n"
    }
   }
  },
  {
   "cell_type": "code",
   "execution_count": 4,
   "outputs": [
    {
     "name": "stdout",
     "output_type": "stream",
     "text": [
      "Similarity column 25975 ( 100 % ), 3247.16 column/sec, elapsed time 0.13 min\n",
      "Similarity column 25975 ( 100 % ), 2352.63 column/sec, elapsed time 0.18 min\n",
      "0.024330148770320564\n",
      "Similarity column 25975 ( 100 % ), 3176.38 column/sec, elapsed time 0.14 min\n",
      "Similarity column 25975 ( 100 % ), 2506.58 column/sec, elapsed time 0.17 min\n",
      "0.024422876589304397\n",
      "Similarity column 25975 ( 100 % ), 3298.47 column/sec, elapsed time 0.13 min\n",
      "Similarity column 25975 ( 100 % ), 2435.54 column/sec, elapsed time 0.18 min\n",
      "0.024448979082305023\n",
      "Similarity column 25975 ( 100 % ), 3359.13 column/sec, elapsed time 0.13 min\n",
      "Similarity column 25975 ( 100 % ), 2511.78 column/sec, elapsed time 0.17 min\n",
      "0.024523894233839865\n",
      "Similarity column 25975 ( 100 % ), 3291.25 column/sec, elapsed time 0.13 min\n",
      "Similarity column 25975 ( 100 % ), 2495.03 column/sec, elapsed time 0.17 min\n",
      "0.024637195929042895\n",
      "Similarity column 25975 ( 100 % ), 2726.31 column/sec, elapsed time 0.16 min\n",
      "Similarity column 25975 ( 100 % ), 2424.47 column/sec, elapsed time 0.18 min\n",
      "0.024800006392419742\n",
      "Similarity column 25975 ( 100 % ), 3301.75 column/sec, elapsed time 0.13 min\n",
      "Similarity column 25975 ( 100 % ), 2498.33 column/sec, elapsed time 0.17 min\n",
      "0.024763309007784444\n",
      "Similarity column 25975 ( 100 % ), 3311.07 column/sec, elapsed time 0.13 min\n",
      "Similarity column 25975 ( 100 % ), 2396.02 column/sec, elapsed time 0.18 min\n",
      "0.02471129554276423\n",
      "Similarity column 25975 ( 100 % ), 2814.45 column/sec, elapsed time 0.15 min\n",
      "Similarity column 25975 ( 100 % ), 2127.35 column/sec, elapsed time 0.20 min\n",
      "0.024748125455696768\n"
     ]
    },
    {
     "data": {
      "text/plain": "[0.024330148770320564,\n 0.024422876589304397,\n 0.024448979082305023,\n 0.024523894233839865,\n 0.024637195929042895,\n 0.024800006392419742,\n 0.024763309007784444,\n 0.02471129554276423,\n 0.024748125455696768]"
     },
     "execution_count": 4,
     "metadata": {},
     "output_type": "execute_result"
    }
   ],
   "source": [
    "weights = [0.1, 0.2, 0.3, 0.4, 0.5, 0.6, 0.7, 0.8, 0.9]\n",
    "map_vector = []\n",
    "for w1 in weights:\n",
    "    for w2 in weights:\n",
    "        if w1+w2 == 1:\n",
    "            recommender = item_cf_different_similarities(weights=[w1,w2])\n",
    "            recommender.fit(training_set=training.copy(),\n",
    "                            k1=310,\n",
    "                            shrink1=246,\n",
    "                            similarity1='cosine',\n",
    "                            k2=310,\n",
    "                            shrink2=246,\n",
    "                            similarity2='jaccard',\n",
    "                            normalize=True)\n",
    "            map_ = evaluator.evaluate_already_trained(recommender=recommender)[2]\n",
    "            print(map_)\n",
    "            map_vector.append(map_)\n",
    "map_vector"
   ],
   "metadata": {
    "collapsed": false,
    "pycharm": {
     "name": "#%%\n"
    }
   }
  },
  {
   "cell_type": "code",
   "execution_count": 5,
   "outputs": [
    {
     "data": {
      "text/plain": "[0.6, 0.4]"
     },
     "execution_count": 5,
     "metadata": {},
     "output_type": "execute_result"
    }
   ],
   "source": [
    "w = []\n",
    "for w1 in weights:\n",
    "    for w2 in weights:\n",
    "        if w1+w2 ==1:\n",
    "            w.append([w1,w2])\n",
    "chosen_weights = w[np.argmax(map_vector)]\n",
    "chosen_weights"
   ],
   "metadata": {
    "collapsed": false,
    "pycharm": {
     "name": "#%%\n"
    }
   }
  },
  {
   "cell_type": "code",
   "execution_count": 7,
   "outputs": [
    {
     "name": "stdout",
     "output_type": "stream",
     "text": [
      "Similarity column 25975 ( 100 % ), 3111.08 column/sec, elapsed time 0.14 min\n",
      "Similarity column 25975 ( 100 % ), 2198.79 column/sec, elapsed time 0.20 min\n",
      "0.023954086233390365\n",
      "Similarity column 25975 ( 100 % ), 3308.35 column/sec, elapsed time 0.13 min\n",
      "Similarity column 25975 ( 100 % ), 2471.50 column/sec, elapsed time 0.18 min\n",
      "0.02437136380441896\n",
      "Similarity column 25975 ( 100 % ), 3504.15 column/sec, elapsed time 0.12 min\n",
      "Similarity column 25975 ( 100 % ), 2482.13 column/sec, elapsed time 0.17 min\n",
      "0.02427993400438169\n",
      "Similarity column 25975 ( 100 % ), 2734.65 column/sec, elapsed time 0.16 min\n",
      "Similarity column 25975 ( 100 % ), 2061.77 column/sec, elapsed time 0.21 min\n",
      "0.02439555558255905\n",
      "Similarity column 25975 ( 100 % ), 3383.71 column/sec, elapsed time 0.13 min\n",
      "Similarity column 25975 ( 100 % ), 2334.09 column/sec, elapsed time 0.19 min\n",
      "0.024543507822938414\n",
      "Similarity column 25975 ( 100 % ), 3357.82 column/sec, elapsed time 0.13 min\n",
      "Similarity column 25975 ( 100 % ), 2381.11 column/sec, elapsed time 0.18 min\n",
      "0.024152516137065646\n",
      "Similarity column 25975 ( 100 % ), 3382.18 column/sec, elapsed time 0.13 min\n",
      "Similarity column 25975 ( 100 % ), 2473.83 column/sec, elapsed time 0.17 min\n",
      "0.024763031742020103\n",
      "Similarity column 25975 ( 100 % ), 3335.40 column/sec, elapsed time 0.13 min\n",
      "Similarity column 25975 ( 100 % ), 2426.71 column/sec, elapsed time 0.18 min\n",
      "0.024705574433061164\n",
      "Similarity column 25975 ( 100 % ), 3413.74 column/sec, elapsed time 0.13 min\n",
      "Similarity column 25975 ( 100 % ), 2347.51 column/sec, elapsed time 0.18 min\n",
      "0.024800968743686553\n",
      "Similarity column 25975 ( 100 % ), 3328.77 column/sec, elapsed time 0.13 min\n",
      "Similarity column 25975 ( 100 % ), 2308.04 column/sec, elapsed time 0.19 min\n",
      "0.024631876268297027\n",
      "Similarity column 25975 ( 100 % ), 3418.04 column/sec, elapsed time 0.13 min\n",
      "Similarity column 25975 ( 100 % ), 2491.15 column/sec, elapsed time 0.17 min\n",
      "0.024256760003831805\n",
      "Similarity column 25975 ( 100 % ), 3291.24 column/sec, elapsed time 0.13 min\n",
      "Similarity column 25975 ( 100 % ), 2277.41 column/sec, elapsed time 0.19 min\n",
      "0.024754720413526415\n",
      "Similarity column 25975 ( 100 % ), 3333.69 column/sec, elapsed time 0.13 min\n",
      "Similarity column 25975 ( 100 % ), 2058.90 column/sec, elapsed time 0.21 min\n",
      "0.024677525596242866\n",
      "Similarity column 25975 ( 100 % ), 3288.31 column/sec, elapsed time 0.13 min\n",
      "Similarity column 25975 ( 100 % ), 2131.60 column/sec, elapsed time 0.20 min\n",
      "0.02439434601576482\n",
      "Similarity column 25975 ( 100 % ), 3260.65 column/sec, elapsed time 0.13 min\n",
      "Similarity column 25975 ( 100 % ), 2239.75 column/sec, elapsed time 0.19 min\n",
      "0.02450101157219983\n",
      "Similarity column 25975 ( 100 % ), 3254.94 column/sec, elapsed time 0.13 min\n",
      "Similarity column 25975 ( 100 % ), 2422.56 column/sec, elapsed time 0.18 min\n",
      "0.024375179995388387\n",
      "Similarity column 25975 ( 100 % ), 3162.97 column/sec, elapsed time 0.14 min\n",
      "Similarity column 25975 ( 100 % ), 2432.49 column/sec, elapsed time 0.18 min\n",
      "0.02482522912190438\n",
      "Similarity column 25975 ( 100 % ), 3320.41 column/sec, elapsed time 0.13 min\n",
      "Similarity column 25975 ( 100 % ), 2379.66 column/sec, elapsed time 0.18 min\n",
      "0.02484570171891798\n",
      "Similarity column 25975 ( 100 % ), 3243.09 column/sec, elapsed time 0.13 min\n",
      "Similarity column 25975 ( 100 % ), 2390.52 column/sec, elapsed time 0.18 min\n",
      "0.024632685694007107\n",
      "Similarity column 25975 ( 100 % ), 3160.38 column/sec, elapsed time 0.14 min\n",
      "Similarity column 25975 ( 100 % ), 2318.57 column/sec, elapsed time 0.19 min\n",
      "0.024752791211389426\n",
      "Similarity column 25975 ( 100 % ), 3166.57 column/sec, elapsed time 0.14 min\n",
      "Similarity column 25975 ( 100 % ), 2332.63 column/sec, elapsed time 0.19 min\n",
      "0.02441872039862613\n",
      "Similarity column 25975 ( 100 % ), 3146.94 column/sec, elapsed time 0.14 min\n",
      "Similarity column 25975 ( 100 % ), 2287.40 column/sec, elapsed time 0.19 min\n",
      "0.02489835203597182\n",
      "Similarity column 25975 ( 100 % ), 3160.09 column/sec, elapsed time 0.14 min\n",
      "Similarity column 25975 ( 100 % ), 2230.57 column/sec, elapsed time 0.19 min\n",
      "0.024732044597994628\n",
      "Similarity column 25975 ( 100 % ), 2860.93 column/sec, elapsed time 0.15 min\n",
      "Similarity column 25975 ( 100 % ), 2349.48 column/sec, elapsed time 0.18 min\n",
      "0.024974951991661935\n",
      "Similarity column 25975 ( 100 % ), 3129.87 column/sec, elapsed time 0.14 min\n",
      "Similarity column 25975 ( 100 % ), 2314.10 column/sec, elapsed time 0.19 min\n",
      "0.024899634736971377\n"
     ]
    },
    {
     "data": {
      "text/plain": "[0.023954086233390365,\n 0.02437136380441896,\n 0.02427993400438169,\n 0.02439555558255905,\n 0.024543507822938414,\n 0.024152516137065646,\n 0.024763031742020103,\n 0.024705574433061164,\n 0.024800968743686553,\n 0.024631876268297027,\n 0.024256760003831805,\n 0.024754720413526415,\n 0.024677525596242866,\n 0.02439434601576482,\n 0.02450101157219983,\n 0.024375179995388387,\n 0.02482522912190438,\n 0.02484570171891798,\n 0.024632685694007107,\n 0.024752791211389426,\n 0.02441872039862613,\n 0.02489835203597182,\n 0.024732044597994628,\n 0.024974951991661935,\n 0.024899634736971377]"
     },
     "execution_count": 7,
     "metadata": {},
     "output_type": "execute_result"
    }
   ],
   "source": [
    "k = [50,100,150,250,400]\n",
    "map_vector = []\n",
    "k_vector = []\n",
    "for k1 in k:\n",
    "    for k2 in k:\n",
    "        k_vector.append([k1,k2])\n",
    "        recommender = item_cf_different_similarities(weights=[0.6, 0.4])\n",
    "        recommender.fit(training_set=training.copy(),\n",
    "                            k1=k1,\n",
    "                            shrink1=246,\n",
    "                            similarity1='cosine',\n",
    "                            k2=k2,\n",
    "                            shrink2=246,\n",
    "                            similarity2='jaccard',\n",
    "                            normalize=True)\n",
    "        map_ = evaluator.evaluate_already_trained(recommender=recommender)[2]\n",
    "        print(map_)\n",
    "        map_vector.append(map_)\n",
    "map_vector\n"
   ],
   "metadata": {
    "collapsed": false,
    "pycharm": {
     "name": "#%%\n"
    }
   }
  },
  {
   "cell_type": "code",
   "execution_count": 8,
   "outputs": [
    {
     "data": {
      "text/plain": "[400, 250]"
     },
     "execution_count": 8,
     "metadata": {},
     "output_type": "execute_result"
    }
   ],
   "source": [
    "chosen_k_couple = k_vector[np.argmax(map_vector)]\n",
    "chosen_k_couple"
   ],
   "metadata": {
    "collapsed": false,
    "pycharm": {
     "name": "#%%\n"
    }
   }
  },
  {
   "cell_type": "code",
   "execution_count": 11,
   "outputs": [
    {
     "name": "stdout",
     "output_type": "stream",
     "text": [
      "Similarity column 25975 ( 100 % ), 3440.38 column/sec, elapsed time 0.13 min\n",
      "Similarity column 25975 ( 100 % ), 2620.55 column/sec, elapsed time 0.17 min\n",
      "0.02439533857442205\n",
      "Similarity column 25975 ( 100 % ), 3450.43 column/sec, elapsed time 0.13 min\n",
      "Similarity column 25975 ( 100 % ), 2468.17 column/sec, elapsed time 0.18 min\n",
      "0.024478959440378586\n",
      "Similarity column 25975 ( 100 % ), 3374.23 column/sec, elapsed time 0.13 min\n",
      "Similarity column 25975 ( 100 % ), 2406.64 column/sec, elapsed time 0.18 min\n",
      "0.024633656913843997\n",
      "Similarity column 25975 ( 100 % ), 3355.49 column/sec, elapsed time 0.13 min\n",
      "Similarity column 25975 ( 100 % ), 2447.69 column/sec, elapsed time 0.18 min\n",
      "0.024779120363788036\n",
      "Similarity column 25975 ( 100 % ), 3341.25 column/sec, elapsed time 0.13 min\n",
      "Similarity column 25975 ( 100 % ), 2440.12 column/sec, elapsed time 0.18 min\n",
      "0.024965199053588058\n",
      "Similarity column 25975 ( 100 % ), 3245.64 column/sec, elapsed time 0.13 min\n",
      "Similarity column 25975 ( 100 % ), 2406.64 column/sec, elapsed time 0.18 min\n",
      "0.02439533857442205\n",
      "Similarity column 25975 ( 100 % ), 3305.13 column/sec, elapsed time 0.13 min\n",
      "Similarity column 25975 ( 100 % ), 2379.53 column/sec, elapsed time 0.18 min\n",
      "0.024478959440378586\n",
      "Similarity column 25975 ( 100 % ), 3264.38 column/sec, elapsed time 0.13 min\n",
      "Similarity column 25975 ( 100 % ), 2367.38 column/sec, elapsed time 0.18 min\n",
      "0.024633656913843997\n",
      "Similarity column 25975 ( 100 % ), 3264.83 column/sec, elapsed time 0.13 min\n",
      "Similarity column 25975 ( 100 % ), 2301.93 column/sec, elapsed time 0.19 min\n",
      "0.024779120363788036\n",
      "Similarity column 25975 ( 100 % ), 3268.51 column/sec, elapsed time 0.13 min\n",
      "Similarity column 25975 ( 100 % ), 2357.94 column/sec, elapsed time 0.18 min\n",
      "0.024965199053588058\n",
      "Similarity column 25975 ( 100 % ), 3233.92 column/sec, elapsed time 0.13 min\n",
      "Similarity column 25975 ( 100 % ), 2296.65 column/sec, elapsed time 0.19 min\n",
      "0.024396764467026162\n",
      "Similarity column 25975 ( 100 % ), 3186.33 column/sec, elapsed time 0.14 min\n",
      "Similarity column 25975 ( 100 % ), 2304.79 column/sec, elapsed time 0.19 min\n",
      "0.024478959440378586\n",
      "Similarity column 25975 ( 100 % ), 3214.34 column/sec, elapsed time 0.13 min\n",
      "Similarity column 25975 ( 100 % ), 2311.35 column/sec, elapsed time 0.19 min\n",
      "0.024635521115843773\n",
      "Similarity column 25975 ( 100 % ), 3184.78 column/sec, elapsed time 0.14 min\n",
      "Similarity column 25975 ( 100 % ), 2320.03 column/sec, elapsed time 0.19 min\n",
      "0.024779120363788036\n",
      "Similarity column 25975 ( 100 % ), 3122.76 column/sec, elapsed time 0.14 min\n",
      "Similarity column 25975 ( 100 % ), 2304.38 column/sec, elapsed time 0.19 min\n",
      "0.02497789892565718\n",
      "Similarity column 25975 ( 100 % ), 3212.34 column/sec, elapsed time 0.13 min\n",
      "Similarity column 25975 ( 100 % ), 2288.55 column/sec, elapsed time 0.19 min\n",
      "0.02439533857442205\n",
      "Similarity column 25975 ( 100 % ), 3125.38 column/sec, elapsed time 0.14 min\n",
      "Similarity column 25975 ( 100 % ), 2326.88 column/sec, elapsed time 0.19 min\n",
      "0.024478959440378586\n",
      "Similarity column 25975 ( 100 % ), 3204.03 column/sec, elapsed time 0.14 min\n",
      "Similarity column 25975 ( 100 % ), 2273.72 column/sec, elapsed time 0.19 min\n",
      "0.024633656913843997\n",
      "Similarity column 25975 ( 100 % ), 3016.13 column/sec, elapsed time 0.14 min\n",
      "Similarity column 25975 ( 100 % ), 2223.51 column/sec, elapsed time 0.19 min\n",
      "0.024779120363788036\n",
      "Similarity column 25975 ( 100 % ), 3196.54 column/sec, elapsed time 0.14 min\n",
      "Similarity column 25975 ( 100 % ), 2299.69 column/sec, elapsed time 0.19 min\n",
      "0.024965199053588058\n",
      "Similarity column 25975 ( 100 % ), 3200.87 column/sec, elapsed time 0.14 min\n",
      "Similarity column 25975 ( 100 % ), 2264.01 column/sec, elapsed time 0.19 min\n",
      "0.024396764467026162\n",
      "Similarity column 25975 ( 100 % ), 3123.48 column/sec, elapsed time 0.14 min\n",
      "Similarity column 25975 ( 100 % ), 2300.50 column/sec, elapsed time 0.19 min\n",
      "0.024478959440378586\n",
      "Similarity column 25975 ( 100 % ), 2660.55 column/sec, elapsed time 0.16 min\n",
      "Similarity column 25975 ( 100 % ), 2169.46 column/sec, elapsed time 0.20 min\n",
      "0.024635055065347713\n",
      "Similarity column 25975 ( 100 % ), 3171.56 column/sec, elapsed time 0.14 min\n",
      "Similarity column 25975 ( 100 % ), 2272.34 column/sec, elapsed time 0.19 min\n",
      "0.024779586414284096\n",
      "Similarity column 25975 ( 100 % ), 3167.68 column/sec, elapsed time 0.14 min\n",
      "Similarity column 25975 ( 100 % ), 2274.52 column/sec, elapsed time 0.19 min\n",
      "0.02496752930606835\n"
     ]
    },
    {
     "data": {
      "text/plain": "[0.02439533857442205,\n 0.024478959440378586,\n 0.024633656913843997,\n 0.024779120363788036,\n 0.024965199053588058,\n 0.02439533857442205,\n 0.024478959440378586,\n 0.024633656913843997,\n 0.024779120363788036,\n 0.024965199053588058,\n 0.024396764467026162,\n 0.024478959440378586,\n 0.024635521115843773,\n 0.024779120363788036,\n 0.02497789892565718,\n 0.02439533857442205,\n 0.024478959440378586,\n 0.024633656913843997,\n 0.024779120363788036,\n 0.024965199053588058,\n 0.024396764467026162,\n 0.024478959440378586,\n 0.024635055065347713,\n 0.024779586414284096,\n 0.02496752930606835]"
     },
     "execution_count": 11,
     "metadata": {},
     "output_type": "execute_result"
    }
   ],
   "source": [
    "shrinks = [50,100,150,200,250]\n",
    "map_vector = []\n",
    "shrink_vector = []\n",
    "for shrink1 in shrinks:\n",
    "    for shrink2  in shrinks:\n",
    "        shrink_vector.append([shrink1,shrink2])\n",
    "        recommender = item_cf_different_similarities(weights=[0.6, 0.4])\n",
    "        recommender.fit(training_set=training.copy(),\n",
    "                        k1=400,\n",
    "                        shrink1=shrink1,\n",
    "                        similarity1='cosine',\n",
    "                        k2=250,\n",
    "                        shrink2=shrink2,\n",
    "                        similarity2='jaccard',\n",
    "                        normalize=True)\n",
    "        map_ = evaluator.evaluate_already_trained(recommender=recommender)[2]\n",
    "        print(map_)\n",
    "        map_vector.append(map_)\n",
    "map_vector"
   ],
   "metadata": {
    "collapsed": false,
    "pycharm": {
     "name": "#%%\n"
    }
   }
  },
  {
   "cell_type": "code",
   "execution_count": 12,
   "outputs": [
    {
     "data": {
      "text/plain": "[150, 250]"
     },
     "execution_count": 12,
     "metadata": {},
     "output_type": "execute_result"
    }
   ],
   "source": [
    "chosen_shrinks = shrink_vector[np.argmax(map_vector)]\n",
    "chosen_shrinks"
   ],
   "metadata": {
    "collapsed": false,
    "pycharm": {
     "name": "#%%\n"
    }
   }
  },
  {
   "cell_type": "code",
   "execution_count": 13,
   "outputs": [
    {
     "data": {
      "text/plain": "0.02497789892565718"
     },
     "execution_count": 13,
     "metadata": {},
     "output_type": "execute_result"
    }
   ],
   "source": [
    "np.max(map_vector)"
   ],
   "metadata": {
    "collapsed": false,
    "pycharm": {
     "name": "#%%\n"
    }
   }
  }
 ],
 "metadata": {
  "kernelspec": {
   "display_name": "Python 3",
   "language": "python",
   "name": "python3"
  },
  "language_info": {
   "codemirror_mode": {
    "name": "ipython",
    "version": 2
   },
   "file_extension": ".py",
   "mimetype": "text/x-python",
   "name": "python",
   "nbconvert_exporter": "python",
   "pygments_lexer": "ipython2",
   "version": "2.7.6"
  }
 },
 "nbformat": 4,
 "nbformat_minor": 0
}
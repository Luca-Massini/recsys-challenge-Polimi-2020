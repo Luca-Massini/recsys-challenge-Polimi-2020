{
 "cells": [
  {
   "cell_type": "code",
   "execution_count": 1,
   "outputs": [],
   "source": [
    "from CF.cf_recommender_user import cf_recommender_user\n",
    "from utils.evaluator.evaluator import evaluator\n",
    "from utils.submission_helper import submission_helper\n",
    "from utils.data_manager.data_manager import data_manager\n",
    "from utils.data_manager.splitter import splitter\n",
    "import matplotlib.pyplot as plt\n",
    "import numpy as np\n",
    "import pandas as pd"
   ],
   "metadata": {
    "collapsed": false,
    "pycharm": {
     "name": "#%%\n"
    }
   }
  },
  {
   "cell_type": "code",
   "execution_count": 2,
   "outputs": [],
   "source": [
    "training, validation, test = splitter().get_train_evaluation_test(percentage_of_training_data=0.6,\n",
    "                                                                  percentage_of_validation_data=0.2)"
   ],
   "metadata": {
    "collapsed": false,
    "pycharm": {
     "name": "#%%\n"
    }
   }
  },
  {
   "cell_type": "code",
   "execution_count": 3,
   "outputs": [
    {
     "name": "stdout",
     "output_type": "stream",
     "text": [
      "Similarity column 7947 ( 100 % ), 2922.35 column/sec, elapsed time 0.05 min\n",
      "Similarity column 7947 ( 100 % ), 3135.16 column/sec, elapsed time 0.04 min\n",
      "Similarity column 7947 ( 100 % ), 3134.45 column/sec, elapsed time 0.04 min\n",
      "Similarity column 7947 ( 100 % ), 3043.33 column/sec, elapsed time 0.04 min\n",
      "Similarity column 7947 ( 100 % ), 2910.20 column/sec, elapsed time 0.05 min\n",
      "Similarity column 7947 ( 100 % ), 2851.12 column/sec, elapsed time 0.05 min\n",
      "Similarity column 7947 ( 100 % ), 3086.09 column/sec, elapsed time 0.04 min\n",
      "Similarity column 7947 ( 100 % ), 2467.75 column/sec, elapsed time 0.05 min\n",
      "Similarity column 7947 ( 100 % ), 3218.13 column/sec, elapsed time 0.04 min\n",
      "Similarity column 7947 ( 100 % ), 3039.00 column/sec, elapsed time 0.04 min\n",
      "Similarity column 7947 ( 100 % ), 3155.69 column/sec, elapsed time 0.04 min\n",
      "Similarity column 7947 ( 100 % ), 2984.37 column/sec, elapsed time 0.04 min\n",
      "Similarity column 7947 ( 100 % ), 2743.00 column/sec, elapsed time 0.05 min\n",
      "Similarity column 7947 ( 100 % ), 2871.73 column/sec, elapsed time 0.05 min\n",
      "Similarity column 7947 ( 100 % ), 3023.04 column/sec, elapsed time 0.04 min\n",
      "Similarity column 7947 ( 100 % ), 2479.46 column/sec, elapsed time 0.05 min\n",
      "Similarity column 7947 ( 100 % ), 3192.98 column/sec, elapsed time 0.04 min\n",
      "Similarity column 7947 ( 100 % ), 2957.69 column/sec, elapsed time 0.04 min\n",
      "Similarity column 7947 ( 100 % ), 3076.50 column/sec, elapsed time 0.04 min\n",
      "Similarity column 7947 ( 100 % ), 3064.79 column/sec, elapsed time 0.04 min\n",
      "Similarity column 7947 ( 100 % ), 2770.87 column/sec, elapsed time 0.05 min\n",
      "Similarity column 7947 ( 100 % ), 2794.69 column/sec, elapsed time 0.05 min\n",
      "Similarity column 7947 ( 100 % ), 2952.60 column/sec, elapsed time 0.04 min\n",
      "Similarity column 7947 ( 100 % ), 2416.93 column/sec, elapsed time 0.05 min\n",
      "Similarity column 7947 ( 100 % ), 3114.40 column/sec, elapsed time 0.04 min\n",
      "Similarity column 7947 ( 100 % ), 2935.37 column/sec, elapsed time 0.05 min\n",
      "Similarity column 7947 ( 100 % ), 3150.73 column/sec, elapsed time 0.04 min\n",
      "Similarity column 7947 ( 100 % ), 2935.02 column/sec, elapsed time 0.05 min\n",
      "Similarity column 7947 ( 100 % ), 2593.42 column/sec, elapsed time 0.05 min\n",
      "Similarity column 7947 ( 100 % ), 2806.49 column/sec, elapsed time 0.05 min\n",
      "Similarity column 7947 ( 100 % ), 2864.07 column/sec, elapsed time 0.05 min\n",
      "Similarity column 7947 ( 100 % ), 2355.35 column/sec, elapsed time 0.06 min\n",
      "k:  60 map:  [6.401535021202868e-05, 0.02400387659477099, 6.401535021202868e-05, 0.02400387659477099, 0.024557135169060725, 0.024557135169060725, 0.024548335976113406, 0.024557135169060725] similarities:  ['pearson', 'cosine', 'adjusted', 'asymmetric', 'jaccard', 'tanimoto', 'dice', 'tversky']\n",
      "k:  100 map:  [6.401535021202868e-05, 0.025811983352269894, 6.401535021202868e-05, 0.025811983352269894, 0.02656596456551152, 0.02656596456551152, 0.026499406405484826, 0.02656596456551152] similarities:  ['pearson', 'cosine', 'adjusted', 'asymmetric', 'jaccard', 'tanimoto', 'dice', 'tversky']\n",
      "k:  250 map:  [6.401535021202868e-05, 0.026596413352829057, 6.401535021202868e-05, 0.026596413352829057, 0.02692019672663808, 0.02692019672663808, 0.02684033317329001, 0.02692019672663808] similarities:  ['pearson', 'cosine', 'adjusted', 'asymmetric', 'jaccard', 'tanimoto', 'dice', 'tversky']\n",
      "k:  400 map:  [6.401535021202868e-05, 0.026233133344381123, 6.401535021202868e-05, 0.026233133344381123, 0.026746989383737693, 0.026746989383737693, 0.026687470325139195, 0.026746989383737693] similarities:  ['pearson', 'cosine', 'adjusted', 'asymmetric', 'jaccard', 'tanimoto', 'dice', 'tversky']\n"
     ]
    }
   ],
   "source": [
    "k = [60, 100, 250, 400]\n",
    "similarities = ['pearson', 'cosine', 'adjusted', 'asymmetric', 'jaccard', 'tanimoto',\n",
    "                             'dice', 'tversky']\n",
    "map_vectors = []\n",
    "for chosen_k in k:\n",
    "    map_vector = []\n",
    "    for chosen_similarity in similarities:\n",
    "        recommender_ = cf_recommender_user()\n",
    "        recommender_.fit(training, k=chosen_k, normalize=True, similarity=chosen_similarity)\n",
    "        map_vector.append(evaluator.evaluate_already_trained(recommender=recommender_)[2])\n",
    "    map_vectors.append(map_vector)\n",
    "index = 0\n",
    "for vector in map_vectors:\n",
    "    print(\"k: \", k[index], \"map: \", vector, \"similarities: \", similarities)\n",
    "    index+=1"
   ],
   "metadata": {
    "collapsed": false,
    "pycharm": {
     "name": "#%%\n"
    }
   }
  },
  {
   "cell_type": "code",
   "execution_count": 4,
   "outputs": [
    {
     "name": "stdout",
     "output_type": "stream",
     "text": [
      "Similarity column 7947 ( 100 % ), 2125.13 column/sec, elapsed time 0.06 min\n",
      "Similarity column 7947 ( 100 % ), 2985.38 column/sec, elapsed time 0.04 min\n",
      "Similarity column 7947 ( 100 % ), 2703.75 column/sec, elapsed time 0.05 min\n",
      "Similarity column 7947 ( 100 % ), 2861.32 column/sec, elapsed time 0.05 min\n",
      "Similarity column 7947 ( 100 % ), 2715.97 column/sec, elapsed time 0.05 min\n",
      "Similarity column 7947 ( 100 % ), 2927.83 column/sec, elapsed time 0.05 min\n",
      "Similarity column 7947 ( 100 % ), 2945.56 column/sec, elapsed time 0.04 min\n",
      "Similarity column 7947 ( 100 % ), 2956.41 column/sec, elapsed time 0.04 min\n",
      "Similarity column 7947 ( 100 % ), 2936.75 column/sec, elapsed time 0.05 min\n",
      "Similarity column 7947 ( 100 % ), 2926.66 column/sec, elapsed time 0.05 min\n",
      "Similarity column 7947 ( 100 % ), 2873.16 column/sec, elapsed time 0.05 min\n",
      "Similarity column 7947 ( 100 % ), 2914.30 column/sec, elapsed time 0.05 min\n",
      "Similarity column 7947 ( 100 % ), 2464.74 column/sec, elapsed time 0.05 min\n",
      "Similarity column 7947 ( 100 % ), 2850.12 column/sec, elapsed time 0.05 min\n",
      "Similarity column 7947 ( 100 % ), 2874.99 column/sec, elapsed time 0.05 min\n",
      "Similarity column 7947 ( 100 % ), 2929.09 column/sec, elapsed time 0.05 min\n",
      "Similarity column 7947 ( 100 % ), 2652.06 column/sec, elapsed time 0.05 min\n",
      "Similarity column 7947 ( 100 % ), 2748.64 column/sec, elapsed time 0.05 min\n",
      "Similarity column 7947 ( 100 % ), 2834.44 column/sec, elapsed time 0.05 min\n",
      "Similarity column 7947 ( 100 % ), 2847.31 column/sec, elapsed time 0.05 min\n",
      "Similarity column 7947 ( 100 % ), 2800.77 column/sec, elapsed time 0.05 min\n",
      "Similarity column 7947 ( 100 % ), 2953.34 column/sec, elapsed time 0.04 min\n",
      "Similarity column 7947 ( 100 % ), 2363.07 column/sec, elapsed time 0.06 min\n",
      "Similarity column 7947 ( 100 % ), 2699.39 column/sec, elapsed time 0.05 min\n"
     ]
    },
    {
     "data": {
      "text/plain": "<Figure size 432x288 with 1 Axes>",
      "image/png": "[encoded data removed]"
     },
     "metadata": {
      "needs_background": "light"
     },
     "output_type": "display_data"
    }
   ],
   "source": [
    "k_tested = [i for i in range(30,400,20)]\n",
    "k1 = [i for i in range(450, 700, 60)]\n",
    "k_tested = k_tested + k1\n",
    "map_=[]\n",
    "for k in k_tested:\n",
    "    recommender_k = cf_recommender_user()\n",
    "    recommender_k.fit(training, k=k, normalize=True, similarity='tanimoto')\n",
    "    map_.append(evaluator.evaluate_already_trained(recommender=recommender_k)[2])\n",
    "plt.plot(k_tested, map_)\n",
    "plt.ylabel('MAP')\n",
    "plt.xlabel('K')\n",
    "plt.show()"
   ],
   "metadata": {
    "collapsed": false,
    "pycharm": {
     "name": "#%%\n"
    }
   }
  },
  {
   "cell_type": "code",
   "execution_count": 5,
   "outputs": [
    {
     "data": {
      "text/plain": "190"
     },
     "execution_count": 5,
     "metadata": {},
     "output_type": "execute_result"
    }
   ],
   "source": [
    "k = k_tested[np.argmax(map_)]\n",
    "k"
   ],
   "metadata": {
    "collapsed": false,
    "pycharm": {
     "name": "#%%\n"
    }
   }
  },
  {
   "cell_type": "code",
   "execution_count": 3,
   "outputs": [
    {
     "name": "stdout",
     "output_type": "stream",
     "text": [
      "Similarity column 7947 ( 100 % ), 2295.67 column/sec, elapsed time 0.06 min\n",
      "Similarity column 7947 ( 100 % ), 2872.16 column/sec, elapsed time 0.05 min\n",
      "Similarity column 7947 ( 100 % ), 2898.15 column/sec, elapsed time 0.05 min\n",
      "Similarity column 7947 ( 100 % ), 2588.99 column/sec, elapsed time 0.05 min\n",
      "Similarity column 7947 ( 100 % ), 2775.88 column/sec, elapsed time 0.05 min\n",
      "Similarity column 7947 ( 100 % ), 2849.08 column/sec, elapsed time 0.05 min\n",
      "Similarity column 7947 ( 100 % ), 2813.86 column/sec, elapsed time 0.05 min\n",
      "Similarity column 7947 ( 100 % ), 2929.87 column/sec, elapsed time 0.05 min\n",
      "Similarity column 7947 ( 100 % ), 2757.91 column/sec, elapsed time 0.05 min\n",
      "Similarity column 7947 ( 100 % ), 2723.94 column/sec, elapsed time 0.05 min\n",
      "Similarity column 7947 ( 100 % ), 2853.05 column/sec, elapsed time 0.05 min\n",
      "Similarity column 7947 ( 100 % ), 2710.13 column/sec, elapsed time 0.05 min\n",
      "Similarity column 7947 ( 100 % ), 2744.37 column/sec, elapsed time 0.05 min\n",
      "Similarity column 7947 ( 100 % ), 2813.96 column/sec, elapsed time 0.05 min\n",
      "Similarity column 7947 ( 100 % ), 2855.99 column/sec, elapsed time 0.05 min\n",
      "Similarity column 7947 ( 100 % ), 2864.70 column/sec, elapsed time 0.05 min\n"
     ]
    },
    {
     "data": {
      "text/plain": "<Figure size 432x288 with 1 Axes>",
      "image/png": "[encoded data removed]"
     },
     "metadata": {
      "needs_background": "light"
     },
     "output_type": "display_data"
    }
   ],
   "source": [
    "shrinks = [i for i in range(6,460, 30)]\n",
    "map_=[]\n",
    "for s in shrinks:\n",
    "    recommender_shrink = cf_recommender_user()\n",
    "    recommender_shrink.fit(training, k=190, shrink=s, normalize=True, similarity='tanimoto')\n",
    "    map_.append(evaluator.evaluate_already_trained(recommender=recommender_shrink)[2])\n",
    "plt.plot(shrinks, map_)\n",
    "plt.ylabel('MAP')\n",
    "plt.xlabel('shrink')\n",
    "plt.show()"
   ],
   "metadata": {
    "collapsed": false,
    "pycharm": {
     "name": "#%%\n"
    }
   }
  },
  {
   "cell_type": "code",
   "execution_count": 4,
   "outputs": [
    {
     "data": {
      "text/plain": "6"
     },
     "execution_count": 4,
     "metadata": {},
     "output_type": "execute_result"
    }
   ],
   "source": [
    "shrink = shrinks[np.argmax(map_)]\n",
    "shrink"
   ],
   "metadata": {
    "collapsed": false,
    "pycharm": {
     "name": "#%%\n"
    }
   }
  }
 ],
 "metadata": {
  "kernelspec": {
   "display_name": "Python 3",
   "language": "python",
   "name": "python3"
  },
  "language_info": {
   "codemirror_mode": {
    "name": "ipython",
    "version": 2
   },
   "file_extension": ".py",
   "mimetype": "text/x-python",
   "name": "python",
   "nbconvert_exporter": "python",
   "pygments_lexer": "ipython2",
   "version": "2.7.6"
  }
 },
 "nbformat": 4,
 "nbformat_minor": 0
}
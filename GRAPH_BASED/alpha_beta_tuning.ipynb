{
 "cells": [
  {
   "cell_type": "code",
   "execution_count": 1,
   "outputs": [],
   "source": [
    "from GRAPH_BASED.graph_based_recommender_alpha_beta import graph_based_recommender_alpha_beta\n",
    "from utils.evaluator.evaluator import evaluator\n",
    "from utils.submission_helper import submission_helper\n",
    "from utils.data_manager.data_manager import data_manager\n",
    "from utils.data_manager.splitter import splitter\n",
    "import matplotlib.pyplot as plt\n",
    "import numpy as np\n",
    "import pandas as pd"
   ],
   "metadata": {
    "collapsed": false,
    "pycharm": {
     "name": "#%%\n"
    }
   }
  },
  {
   "cell_type": "code",
   "execution_count": 2,
   "outputs": [],
   "source": [
    "training, validation, test = splitter().get_train_evaluation_test(percentage_of_training_data=0.6,\n",
    "                                                                  percentage_of_validation_data=0.2)"
   ],
   "metadata": {
    "collapsed": false,
    "pycharm": {
     "name": "#%%\n"
    }
   }
  },
  {
   "cell_type": "code",
   "execution_count": 7,
   "outputs": [
    {
     "name": "stdout",
     "output_type": "stream",
     "text": [
      "RP3betaRecommender: URM Detected 461 (5.80 %) cold users.\n",
      "RP3betaRecommender: URM Detected 5495 (21.15 %) cold items.\n",
      "k= 50  map= 0.023112159755872188\n",
      "RP3betaRecommender: URM Detected 461 (5.80 %) cold users.\n",
      "RP3betaRecommender: URM Detected 5495 (21.15 %) cold items.\n",
      "k= 100  map= 0.02266135550567102\n",
      "RP3betaRecommender: URM Detected 461 (5.80 %) cold users.\n",
      "RP3betaRecommender: URM Detected 5495 (21.15 %) cold items.\n",
      "k= 150  map= 0.023177563472281983\n",
      "RP3betaRecommender: URM Detected 461 (5.80 %) cold users.\n",
      "RP3betaRecommender: URM Detected 5495 (21.15 %) cold items.\n",
      "k= 200  map= 0.023349942857255477\n",
      "RP3betaRecommender: URM Detected 461 (5.80 %) cold users.\n",
      "RP3betaRecommender: URM Detected 5495 (21.15 %) cold items.\n",
      "k= 250  map= 0.023011949509703377\n",
      "RP3betaRecommender: URM Detected 461 (5.80 %) cold users.\n",
      "RP3betaRecommender: URM Detected 5495 (21.15 %) cold items.\n",
      "k= 300  map= 0.023403241170149802\n",
      "RP3betaRecommender: URM Detected 461 (5.80 %) cold users.\n",
      "RP3betaRecommender: URM Detected 5495 (21.15 %) cold items.\n",
      "k= 350  map= 0.023505513758189493\n",
      "RP3betaRecommender: URM Detected 461 (5.80 %) cold users.\n",
      "RP3betaRecommender: URM Detected 5495 (21.15 %) cold items.\n",
      "k= 400  map= 0.023828936157364825\n",
      "RP3betaRecommender: URM Detected 461 (5.80 %) cold users.\n",
      "RP3betaRecommender: URM Detected 5495 (21.15 %) cold items.\n",
      "k= 450  map= 0.024419469344203106\n",
      "RP3betaRecommender: URM Detected 461 (5.80 %) cold users.\n",
      "RP3betaRecommender: URM Detected 5495 (21.15 %) cold items.\n",
      "k= 500  map= 0.02414512003457365\n",
      "RP3betaRecommender: URM Detected 461 (5.80 %) cold users.\n",
      "RP3betaRecommender: URM Detected 5495 (21.15 %) cold items.\n",
      "k= 550  map= 0.024213475490912708\n",
      "RP3betaRecommender: URM Detected 461 (5.80 %) cold users.\n",
      "RP3betaRecommender: URM Detected 5495 (21.15 %) cold items.\n",
      "k= 600  map= 0.02424195762075374\n"
     ]
    },
    {
     "data": {
      "text/plain": "[0.023112159755872188,\n 0.02266135550567102,\n 0.023177563472281983,\n 0.023349942857255477,\n 0.023011949509703377,\n 0.023403241170149802,\n 0.023505513758189493,\n 0.023828936157364825,\n 0.024419469344203106,\n 0.02414512003457365,\n 0.024213475490912708,\n 0.02424195762075374]"
     },
     "execution_count": 7,
     "metadata": {},
     "output_type": "execute_result"
    }
   ],
   "source": [
    "k = [50,100,150,200,250,300,350,400,450,500,550,600]\n",
    "map_vector=[]\n",
    "for k_ in k:\n",
    "    recommender = graph_based_recommender_alpha_beta()\n",
    "    recommender.fit(training.copy(), alpha=0.3, beta=0.02, k=k_)\n",
    "    map_ = evaluator.evaluate_already_trained(recommender=recommender)[2]\n",
    "    print(\"k=\",k_, \" map=\", map_)\n",
    "    map_vector.append(map_)\n",
    "map_vector"
   ],
   "metadata": {
    "collapsed": false,
    "pycharm": {
     "name": "#%%\n"
    }
   }
  }
 ],
 "metadata": {
  "kernelspec": {
   "display_name": "Python 3",
   "language": "python",
   "name": "python3"
  },
  "language_info": {
   "codemirror_mode": {
    "name": "ipython",
    "version": 2
   },
   "file_extension": ".py",
   "mimetype": "text/x-python",
   "name": "python",
   "nbconvert_exporter": "python",
   "pygments_lexer": "ipython2",
   "version": "2.7.6"
  }
 },
 "nbformat": 4,
 "nbformat_minor": 0
}
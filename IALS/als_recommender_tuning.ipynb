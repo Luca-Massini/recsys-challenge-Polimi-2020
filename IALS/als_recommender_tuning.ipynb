{
 "cells": [
  {
   "cell_type": "code",
   "execution_count": 1,
   "outputs": [],
   "source": [
    "from IALS.ials_recommender import ials_recommender\n",
    "from utils.evaluator.evaluator import evaluator\n",
    "from utils.submission_helper import submission_helper\n",
    "from utils.data_manager.data_manager import data_manager\n",
    "from utils.data_manager.splitter import splitter\n",
    "import matplotlib.pyplot as plt\n",
    "import numpy as np\n",
    "import pandas as pd\n",
    "\n"
   ],
   "metadata": {
    "collapsed": false,
    "pycharm": {
     "name": "#%%\n"
    }
   }
  },
  {
   "cell_type": "code",
   "execution_count": 2,
   "outputs": [],
   "source": [
    "training, validation, test = splitter().get_train_evaluation_test(percentage_of_training_data=0.6,\n",
    "                                                                  percentage_of_validation_data=0.2)\n",
    "\n"
   ],
   "metadata": {
    "collapsed": false,
    "pycharm": {
     "name": "#%%\n"
    }
   }
  },
  {
   "cell_type": "code",
   "execution_count": null,
   "outputs": [
    {
     "name": "stdout",
     "output_type": "stream",
     "text": [
      "IALSRecommender: URM Detected 461 (5.80 %) cold users.\n",
      "IALSRecommender: URM Detected 5495 (21.15 %) cold items.\n"
     ]
    }
   ],
   "source": [
    "recommender = ials_recommender()\n",
    "recommender.fit(training_set=training.copy(),\n",
    "                epochs=5,\n",
    "                num_factors=900,\n",
    "                reg=0.5)\n",
    "evaluator.evaluate_already_trained(recommender=recommender)"
   ],
   "metadata": {
    "collapsed": false,
    "pycharm": {
     "name": "#%%\n",
     "is_executing": true
    }
   }
  }
 ],
 "metadata": {
  "kernelspec": {
   "display_name": "Python 3",
   "language": "python",
   "name": "python3"
  },
  "language_info": {
   "codemirror_mode": {
    "name": "ipython",
    "version": 2
   },
   "file_extension": ".py",
   "mimetype": "text/x-python",
   "name": "python",
   "nbconvert_exporter": "python",
   "pygments_lexer": "ipython2",
   "version": "2.7.6"
  }
 },
 "nbformat": 4,
 "nbformat_minor": 0
}
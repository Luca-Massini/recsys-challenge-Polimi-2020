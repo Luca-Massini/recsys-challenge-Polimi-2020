{
 "cells": [
  {
   "cell_type": "code",
   "execution_count": 1,
   "metadata": {
    "collapsed": true
   },
   "outputs": [],
   "source": [
    "from CBF.cbf_recommender import cbf_recommender\n",
    "from SLIM_ElasticNet.slim_elastic_net import slim_elastic_net\n",
    "from utils.evaluator.evaluator import evaluator\n",
    "from utils.submission_helper import submission_helper\n",
    "from utils.data_manager.data_manager import data_manager\n",
    "from utils.data_manager.splitter import splitter\n",
    "import matplotlib.pyplot as plt\n",
    "import numpy as np\n",
    "import pandas as pd\n",
    "\n",
    "\n"
   ]
  },
  {
   "cell_type": "code",
   "execution_count": 2,
   "outputs": [],
   "source": [
    "training, validation, test = splitter().get_train_evaluation_test(percentage_of_training_data=0.6,\n",
    "                                                                  percentage_of_validation_data=0.2)\n"
   ],
   "metadata": {
    "collapsed": false,
    "pycharm": {
     "name": "#%%\n"
    }
   }
  },
  {
   "cell_type": "code",
   "execution_count": 3,
   "outputs": [
    {
     "name": "stdout",
     "output_type": "stream",
     "text": [
      "Similarity column 25975 ( 100 % ), 1055.25 column/sec, elapsed time 0.41 min\n",
      "the new URM matrix is ready. Shape:  (7947, 25975)\n",
      "SLIMElasticNetRecommender: URM Detected 461 (5.80 %) cold users.\n",
      "SLIMElasticNetRecommender: URM Detected 3638 (14.01 %) cold items.\n",
      "multiprocess training started. Number of CPUs in use:  4\n",
      "the training of the slim elastic net is terminated!\n",
      "map:  0.027893788630313807  k: 50\n",
      "Similarity column 25975 ( 100 % ), 1139.58 column/sec, elapsed time 0.38 min\n",
      "the new URM matrix is ready. Shape:  (7947, 25975)\n",
      "SLIMElasticNetRecommender: URM Detected 461 (5.80 %) cold users.\n",
      "SLIMElasticNetRecommender: URM Detected 3638 (14.01 %) cold items.\n",
      "multiprocess training started. Number of CPUs in use:  4\n",
      "the training of the slim elastic net is terminated!\n",
      "map:  0.027988597403272125  k: 100\n",
      "Similarity column 25975 ( 100 % ), 1253.99 column/sec, elapsed time 0.35 min\n",
      "the new URM matrix is ready. Shape:  (7947, 25975)\n",
      "SLIMElasticNetRecommender: URM Detected 461 (5.80 %) cold users.\n",
      "SLIMElasticNetRecommender: URM Detected 3638 (14.01 %) cold items.\n",
      "multiprocess training started. Number of CPUs in use:  4\n",
      "the training of the slim elastic net is terminated!\n",
      "map:  0.028190874139185675  k: 150\n",
      "Similarity column 25975 ( 100 % ), 990.82 column/sec, elapsed time 0.44 min\n",
      "the new URM matrix is ready. Shape:  (7947, 25975)\n",
      "SLIMElasticNetRecommender: URM Detected 461 (5.80 %) cold users.\n",
      "SLIMElasticNetRecommender: URM Detected 3638 (14.01 %) cold items.\n",
      "multiprocess training started. Number of CPUs in use:  4\n",
      "the training of the slim elastic net is terminated!\n",
      "map:  0.028219901474765132  k: 200\n",
      "Similarity column 25975 ( 100 % ), 1232.05 column/sec, elapsed time 0.35 min\n",
      "the new URM matrix is ready. Shape:  (7947, 25975)\n",
      "SLIMElasticNetRecommender: URM Detected 461 (5.80 %) cold users.\n",
      "SLIMElasticNetRecommender: URM Detected 3638 (14.01 %) cold items.\n",
      "multiprocess training started. Number of CPUs in use:  4\n",
      "the training of the slim elastic net is terminated!\n",
      "map:  0.02825831623734071  k: 250\n",
      "Similarity column 25975 ( 100 % ), 1245.93 column/sec, elapsed time 0.35 min\n",
      "the new URM matrix is ready. Shape:  (7947, 25975)\n",
      "SLIMElasticNetRecommender: URM Detected 461 (5.80 %) cold users.\n",
      "SLIMElasticNetRecommender: URM Detected 3638 (14.01 %) cold items.\n",
      "multiprocess training started. Number of CPUs in use:  4\n",
      "the training of the slim elastic net is terminated!\n",
      "map:  0.02829522437377536  k: 300\n",
      "Similarity column 25975 ( 100 % ), 1215.69 column/sec, elapsed time 0.36 min\n",
      "the new URM matrix is ready. Shape:  (7947, 25975)\n",
      "SLIMElasticNetRecommender: URM Detected 461 (5.80 %) cold users.\n",
      "SLIMElasticNetRecommender: URM Detected 3638 (14.01 %) cold items.\n",
      "multiprocess training started. Number of CPUs in use:  4\n",
      "the training of the slim elastic net is terminated!\n",
      "map:  0.028260808486007143  k: 350\n"
     ]
    },
    {
     "name": "stderr",
     "output_type": "stream",
     "text": [
      "C:\\Users\\Luca Massini\\PycharmProjects\\recsys-challenge-Polimi-2020\\SLIM_ElasticNet\\slim_elastic_net.py:99: RuntimeWarning: invalid value encountered in double_scalars\n",
      "  row[item] = scores[item] / maximum\n"
     ]
    },
    {
     "ename": "KeyboardInterrupt",
     "evalue": "",
     "output_type": "error",
     "traceback": [
      "\u001B[1;31m---------------------------------------------------------------------------\u001B[0m",
      "\u001B[1;31mKeyboardInterrupt\u001B[0m                         Traceback (most recent call last)",
      "\u001B[1;32m<ipython-input-3-b504618fa3ff>\u001B[0m in \u001B[0;36m<module>\u001B[1;34m\u001B[0m\n\u001B[0;32m     10\u001B[0m                 \u001B[0mk\u001B[0m\u001B[1;33m=\u001B[0m\u001B[0mk\u001B[0m\u001B[1;33m,\u001B[0m\u001B[1;33m\u001B[0m\u001B[1;33m\u001B[0m\u001B[0m\n\u001B[0;32m     11\u001B[0m                 \u001B[0muse_normalization\u001B[0m\u001B[1;33m=\u001B[0m\u001B[1;32mTrue\u001B[0m\u001B[1;33m,\u001B[0m\u001B[1;33m\u001B[0m\u001B[1;33m\u001B[0m\u001B[0m\n\u001B[1;32m---> 12\u001B[1;33m                 normalization_type='l2')\n\u001B[0m\u001B[0;32m     13\u001B[0m     \u001B[0mmap_\u001B[0m \u001B[1;33m=\u001B[0m \u001B[0mevaluator\u001B[0m\u001B[1;33m.\u001B[0m\u001B[0mevaluate_already_trained\u001B[0m\u001B[1;33m(\u001B[0m\u001B[0mrecommender\u001B[0m\u001B[1;33m=\u001B[0m\u001B[0mrecommender\u001B[0m\u001B[1;33m)\u001B[0m\u001B[1;33m[\u001B[0m\u001B[1;36m2\u001B[0m\u001B[1;33m]\u001B[0m\u001B[1;33m\u001B[0m\u001B[1;33m\u001B[0m\u001B[0m\n\u001B[0;32m     14\u001B[0m     \u001B[0mprint\u001B[0m\u001B[1;33m(\u001B[0m\u001B[1;34m\"map: \"\u001B[0m\u001B[1;33m,\u001B[0m \u001B[0mmap_\u001B[0m\u001B[1;33m,\u001B[0m \u001B[1;34m\" k:\"\u001B[0m\u001B[1;33m,\u001B[0m \u001B[0mk\u001B[0m\u001B[1;33m)\u001B[0m\u001B[1;33m\u001B[0m\u001B[1;33m\u001B[0m\u001B[0m\n",
      "\u001B[1;32m~\\PycharmProjects\\recsys-challenge-Polimi-2020\\SLIM_ElasticNet\\slim_elastic_net.py\u001B[0m in \u001B[0;36mfit\u001B[1;34m(self, training_set, l1_regularization, l2_regularization, positive_only, k, use_normalization, normalization_type)\u001B[0m\n\u001B[0;32m     28\u001B[0m                                              \u001B[0mn_items\u001B[0m\u001B[1;33m=\u001B[0m\u001B[0mself\u001B[0m\u001B[1;33m.\u001B[0m\u001B[0m__n_items\u001B[0m\u001B[1;33m,\u001B[0m\u001B[1;33m\u001B[0m\u001B[1;33m\u001B[0m\u001B[0m\n\u001B[0;32m     29\u001B[0m                                              \u001B[0mn_ones\u001B[0m\u001B[1;33m=\u001B[0m\u001B[0mself\u001B[0m\u001B[1;33m.\u001B[0m\u001B[0m__n_ones\u001B[0m\u001B[1;33m,\u001B[0m\u001B[1;33m\u001B[0m\u001B[1;33m\u001B[0m\u001B[0m\n\u001B[1;32m---> 30\u001B[1;33m                                              n_scores=self.__n_scores)\n\u001B[0m\u001B[0;32m     31\u001B[0m             \u001B[0mself\u001B[0m\u001B[1;33m.\u001B[0m\u001B[0m__new_urm\u001B[0m \u001B[1;33m=\u001B[0m \u001B[0maugmenter\u001B[0m\u001B[1;33m.\u001B[0m\u001B[0mget_new_urm\u001B[0m\u001B[1;33m(\u001B[0m\u001B[1;33m)\u001B[0m\u001B[1;33m\u001B[0m\u001B[1;33m\u001B[0m\u001B[0m\n\u001B[0;32m     32\u001B[0m         \u001B[0mself\u001B[0m\u001B[1;33m.\u001B[0m\u001B[0m__training_set\u001B[0m \u001B[1;33m=\u001B[0m \u001B[0mtraining_set\u001B[0m\u001B[1;33m\u001B[0m\u001B[1;33m\u001B[0m\u001B[0m\n",
      "\u001B[1;32m~\\PycharmProjects\\recsys-challenge-Polimi-2020\\SLIM_ElasticNet\\slim_elastic_net.py\u001B[0m in \u001B[0;36m__init__\u001B[1;34m(self, original_urm, n_users, n_items, n_ones, n_scores)\u001B[0m\n\u001B[0;32m     84\u001B[0m                                  \u001B[0mk\u001B[0m\u001B[1;33m=\u001B[0m\u001B[1;36m90\u001B[0m\u001B[1;33m,\u001B[0m\u001B[1;33m\u001B[0m\u001B[1;33m\u001B[0m\u001B[0m\n\u001B[0;32m     85\u001B[0m                                  \u001B[0mshrink\u001B[0m\u001B[1;33m=\u001B[0m\u001B[1;36m60\u001B[0m\u001B[1;33m,\u001B[0m\u001B[1;33m\u001B[0m\u001B[1;33m\u001B[0m\u001B[0m\n\u001B[1;32m---> 86\u001B[1;33m                                  similarity='jaccard')\n\u001B[0m\u001B[0;32m     87\u001B[0m             \u001B[0mrows\u001B[0m \u001B[1;33m=\u001B[0m \u001B[1;33m[\u001B[0m\u001B[1;33m]\u001B[0m\u001B[1;33m\u001B[0m\u001B[1;33m\u001B[0m\u001B[0m\n\u001B[0;32m     88\u001B[0m             \u001B[0mindex\u001B[0m \u001B[1;33m=\u001B[0m \u001B[1;36m0\u001B[0m\u001B[1;33m\u001B[0m\u001B[1;33m\u001B[0m\u001B[0m\n",
      "\u001B[1;32m~\\PycharmProjects\\recsys-challenge-Polimi-2020\\CBF\\cbf_recommender.py\u001B[0m in \u001B[0;36mfit\u001B[1;34m(self, training_set, k, shrink, normalize, similarity, similarity_from_distance_mode)\u001B[0m\n\u001B[0;32m     27\u001B[0m                                                           \u001B[0mtopK\u001B[0m\u001B[1;33m=\u001B[0m\u001B[0mk\u001B[0m\u001B[1;33m,\u001B[0m \u001B[0mnormalize\u001B[0m\u001B[1;33m=\u001B[0m\u001B[0mnormalize\u001B[0m\u001B[1;33m,\u001B[0m\u001B[1;33m\u001B[0m\u001B[1;33m\u001B[0m\u001B[0m\n\u001B[0;32m     28\u001B[0m                                                           similarity=similarity)\n\u001B[1;32m---> 29\u001B[1;33m             \u001B[0mself\u001B[0m\u001B[1;33m.\u001B[0m\u001B[0m__similarity_matrix\u001B[0m \u001B[1;33m=\u001B[0m \u001B[0msimilarity_object\u001B[0m\u001B[1;33m.\u001B[0m\u001B[0mcompute_similarity\u001B[0m\u001B[1;33m(\u001B[0m\u001B[1;33m)\u001B[0m\u001B[1;33m\u001B[0m\u001B[1;33m\u001B[0m\u001B[0m\n\u001B[0m\u001B[0;32m     30\u001B[0m         \u001B[1;32melse\u001B[0m\u001B[1;33m:\u001B[0m\u001B[1;33m\u001B[0m\u001B[1;33m\u001B[0m\u001B[0m\n\u001B[0;32m     31\u001B[0m             similarity_object = Compute_Similarity_Euclidean(dataMatrix=self.__ICM.T,\n",
      "\u001B[1;32m~\\PycharmProjects\\recsys-challenge-Polimi-2020\\utils\\Similarity\\Compute_Similarity_Python.py\u001B[0m in \u001B[0;36mcompute_similarity\u001B[1;34m(self, start_col, end_col, block_size)\u001B[0m\n\u001B[0;32m    257\u001B[0m             \u001B[1;32melse\u001B[0m\u001B[1;33m:\u001B[0m\u001B[1;33m\u001B[0m\u001B[1;33m\u001B[0m\u001B[0m\n\u001B[0;32m    258\u001B[0m                 \u001B[1;31m# Compute item similarities\u001B[0m\u001B[1;33m\u001B[0m\u001B[1;33m\u001B[0m\u001B[1;33m\u001B[0m\u001B[0m\n\u001B[1;32m--> 259\u001B[1;33m                 \u001B[0mthis_block_weights\u001B[0m \u001B[1;33m=\u001B[0m \u001B[0mself\u001B[0m\u001B[1;33m.\u001B[0m\u001B[0mdataMatrix\u001B[0m\u001B[1;33m.\u001B[0m\u001B[0mT\u001B[0m\u001B[1;33m.\u001B[0m\u001B[0mdot\u001B[0m\u001B[1;33m(\u001B[0m\u001B[0mitem_data\u001B[0m\u001B[1;33m)\u001B[0m\u001B[1;33m\u001B[0m\u001B[1;33m\u001B[0m\u001B[0m\n\u001B[0m\u001B[0;32m    260\u001B[0m \u001B[1;33m\u001B[0m\u001B[0m\n\u001B[0;32m    261\u001B[0m             \u001B[1;32mfor\u001B[0m \u001B[0mcol_index_in_block\u001B[0m \u001B[1;32min\u001B[0m \u001B[0mrange\u001B[0m\u001B[1;33m(\u001B[0m\u001B[0mthis_block_size\u001B[0m\u001B[1;33m)\u001B[0m\u001B[1;33m:\u001B[0m\u001B[1;33m\u001B[0m\u001B[1;33m\u001B[0m\u001B[0m\n",
      "\u001B[1;32m~\\anaconda3\\envs\\recsys-challenge-Polimi-2020\\lib\\site-packages\\scipy\\sparse\\base.py\u001B[0m in \u001B[0;36mdot\u001B[1;34m(self, other)\u001B[0m\n\u001B[0;32m    362\u001B[0m \u001B[1;33m\u001B[0m\u001B[0m\n\u001B[0;32m    363\u001B[0m         \"\"\"\n\u001B[1;32m--> 364\u001B[1;33m         \u001B[1;32mreturn\u001B[0m \u001B[0mself\u001B[0m \u001B[1;33m*\u001B[0m \u001B[0mother\u001B[0m\u001B[1;33m\u001B[0m\u001B[1;33m\u001B[0m\u001B[0m\n\u001B[0m\u001B[0;32m    365\u001B[0m \u001B[1;33m\u001B[0m\u001B[0m\n\u001B[0;32m    366\u001B[0m     \u001B[1;32mdef\u001B[0m \u001B[0mpower\u001B[0m\u001B[1;33m(\u001B[0m\u001B[0mself\u001B[0m\u001B[1;33m,\u001B[0m \u001B[0mn\u001B[0m\u001B[1;33m,\u001B[0m \u001B[0mdtype\u001B[0m\u001B[1;33m=\u001B[0m\u001B[1;32mNone\u001B[0m\u001B[1;33m)\u001B[0m\u001B[1;33m:\u001B[0m\u001B[1;33m\u001B[0m\u001B[1;33m\u001B[0m\u001B[0m\n",
      "\u001B[1;32m~\\anaconda3\\envs\\recsys-challenge-Polimi-2020\\lib\\site-packages\\scipy\\sparse\\base.py\u001B[0m in \u001B[0;36m__mul__\u001B[1;34m(self, other)\u001B[0m\n\u001B[0;32m    471\u001B[0m                 \u001B[1;32mreturn\u001B[0m \u001B[0mself\u001B[0m\u001B[1;33m.\u001B[0m\u001B[0m_mul_vector\u001B[0m\u001B[1;33m(\u001B[0m\u001B[0mother\u001B[0m\u001B[1;33m.\u001B[0m\u001B[0mravel\u001B[0m\u001B[1;33m(\u001B[0m\u001B[1;33m)\u001B[0m\u001B[1;33m)\u001B[0m\u001B[1;33m.\u001B[0m\u001B[0mreshape\u001B[0m\u001B[1;33m(\u001B[0m\u001B[0mM\u001B[0m\u001B[1;33m,\u001B[0m \u001B[1;36m1\u001B[0m\u001B[1;33m)\u001B[0m\u001B[1;33m\u001B[0m\u001B[1;33m\u001B[0m\u001B[0m\n\u001B[0;32m    472\u001B[0m             \u001B[1;32melif\u001B[0m \u001B[0mother\u001B[0m\u001B[1;33m.\u001B[0m\u001B[0mndim\u001B[0m \u001B[1;33m==\u001B[0m \u001B[1;36m2\u001B[0m \u001B[1;32mand\u001B[0m \u001B[0mother\u001B[0m\u001B[1;33m.\u001B[0m\u001B[0mshape\u001B[0m\u001B[1;33m[\u001B[0m\u001B[1;36m0\u001B[0m\u001B[1;33m]\u001B[0m \u001B[1;33m==\u001B[0m \u001B[0mN\u001B[0m\u001B[1;33m:\u001B[0m\u001B[1;33m\u001B[0m\u001B[1;33m\u001B[0m\u001B[0m\n\u001B[1;32m--> 473\u001B[1;33m                 \u001B[1;32mreturn\u001B[0m \u001B[0mself\u001B[0m\u001B[1;33m.\u001B[0m\u001B[0m_mul_multivector\u001B[0m\u001B[1;33m(\u001B[0m\u001B[0mother\u001B[0m\u001B[1;33m)\u001B[0m\u001B[1;33m\u001B[0m\u001B[1;33m\u001B[0m\u001B[0m\n\u001B[0m\u001B[0;32m    474\u001B[0m \u001B[1;33m\u001B[0m\u001B[0m\n\u001B[0;32m    475\u001B[0m         \u001B[1;32mif\u001B[0m \u001B[0misscalarlike\u001B[0m\u001B[1;33m(\u001B[0m\u001B[0mother\u001B[0m\u001B[1;33m)\u001B[0m\u001B[1;33m:\u001B[0m\u001B[1;33m\u001B[0m\u001B[1;33m\u001B[0m\u001B[0m\n",
      "\u001B[1;32m~\\anaconda3\\envs\\recsys-challenge-Polimi-2020\\lib\\site-packages\\scipy\\sparse\\compressed.py\u001B[0m in \u001B[0;36m_mul_multivector\u001B[1;34m(self, other)\u001B[0m\n\u001B[0;32m    480\u001B[0m         \u001B[0mfn\u001B[0m \u001B[1;33m=\u001B[0m \u001B[0mgetattr\u001B[0m\u001B[1;33m(\u001B[0m\u001B[0m_sparsetools\u001B[0m\u001B[1;33m,\u001B[0m \u001B[0mself\u001B[0m\u001B[1;33m.\u001B[0m\u001B[0mformat\u001B[0m \u001B[1;33m+\u001B[0m \u001B[1;34m'_matvecs'\u001B[0m\u001B[1;33m)\u001B[0m\u001B[1;33m\u001B[0m\u001B[1;33m\u001B[0m\u001B[0m\n\u001B[0;32m    481\u001B[0m         fn(M, N, n_vecs, self.indptr, self.indices, self.data,\n\u001B[1;32m--> 482\u001B[1;33m            other.ravel(), result.ravel())\n\u001B[0m\u001B[0;32m    483\u001B[0m \u001B[1;33m\u001B[0m\u001B[0m\n\u001B[0;32m    484\u001B[0m         \u001B[1;32mreturn\u001B[0m \u001B[0mresult\u001B[0m\u001B[1;33m\u001B[0m\u001B[1;33m\u001B[0m\u001B[0m\n",
      "\u001B[1;31mKeyboardInterrupt\u001B[0m: "
     ]
    }
   ],
   "source": [
    "k_vector = [50,100,150,200,250,300,350,400]\n",
    "map_vector = []\n",
    "for k in k_vector:\n",
    "    recommender = slim_elastic_net(use_urm_augmentation=True,\n",
    "                               n_ones=3,\n",
    "                               n_scores=0)\n",
    "    recommender.fit(training_set=training,\n",
    "                l1_regularization=5e-3,\n",
    "                l2_regularization=0.005,\n",
    "                k=k,\n",
    "                use_normalization=True,\n",
    "                normalization_type='l2')\n",
    "    map_ = evaluator.evaluate_already_trained(recommender=recommender)[2]\n",
    "    print(\"map: \", map_, \" k:\", k)\n",
    "    map_vector.append(map_)\n",
    "best_k = k_vector[np.argmax(map_vector)]\n",
    "best_map = np.max(map_vector)\n",
    "print(\"best map: \", best_map, \" with k = \", best_k)"
   ],
   "metadata": {
    "collapsed": false,
    "pycharm": {
     "name": "#%%\n"
    }
   }
  }
 ],
 "metadata": {
  "kernelspec": {
   "display_name": "Python 3",
   "language": "python",
   "name": "python3"
  },
  "language_info": {
   "codemirror_mode": {
    "name": "ipython",
    "version": 2
   },
   "file_extension": ".py",
   "mimetype": "text/x-python",
   "name": "python",
   "nbconvert_exporter": "python",
   "pygments_lexer": "ipython2",
   "version": "2.7.6"
  }
 },
 "nbformat": 4,
 "nbformat_minor": 0
}
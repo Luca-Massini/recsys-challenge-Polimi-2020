{
 "cells": [
  {
   "cell_type": "code",
   "execution_count": 1,
   "metadata": {
    "collapsed": true
   },
   "outputs": [],
   "source": [
    "from SVD.pure_SVD_recommender import pure_SVD_recommender\n",
    "from hybrid_recommenders.experiment.URM_item_cbf_augmenter import URM_item_cbf_augmenter\n",
    "from utils.evaluator.evaluator import evaluator\n",
    "from utils.submission_helper import submission_helper\n",
    "from utils.data_manager.data_manager import data_manager\n",
    "from utils.data_manager.splitter import splitter\n",
    "import matplotlib.pyplot as plt\n",
    "import numpy as np\n",
    "import pandas as pd"
   ]
  },
  {
   "cell_type": "code",
   "execution_count": 2,
   "outputs": [],
   "source": [
    "training, validation, test = splitter().get_train_evaluation_test(percentage_of_training_data=0.6,\n",
    "                                                                  percentage_of_validation_data=0.2)"
   ],
   "metadata": {
    "collapsed": false,
    "pycharm": {
     "name": "#%%\n"
    }
   }
  },
  {
   "cell_type": "code",
   "execution_count": 3,
   "outputs": [
    {
     "name": "stdout",
     "output_type": "stream",
     "text": [
      "PureSVDItemRecommender: URM Detected 461 (5.80 %) cold users.\n",
      "PureSVDItemRecommender: URM Detected 5495 (21.15 %) cold items.\n",
      "PureSVDItemRecommender: Computing SVD decomposition...\n",
      "PureSVDItemRecommender: Computing SVD decomposition... Done!\n"
     ]
    }
   ],
   "source": [
    "recommender = pure_SVD_recommender()\n",
    "recommender.fit(training_set=training)\n",
    "value = evaluator.evaluate_already_trained(recommender=recommender)[2]"
   ],
   "metadata": {
    "collapsed": false,
    "pycharm": {
     "name": "#%%\n"
    }
   }
  },
  {
   "cell_type": "code",
   "execution_count": 4,
   "outputs": [
    {
     "data": {
      "text/plain": "0.011737820013114679"
     },
     "execution_count": 4,
     "metadata": {},
     "output_type": "execute_result"
    }
   ],
   "source": [
    "value"
   ],
   "metadata": {
    "collapsed": false,
    "pycharm": {
     "name": "#%%\n"
    }
   }
  },
  {
   "cell_type": "code",
   "execution_count": 5,
   "outputs": [
    {
     "name": "stdout",
     "output_type": "stream",
     "text": [
      "5\n",
      "PureSVDItemRecommender: URM Detected 461 (5.80 %) cold users.\n",
      "PureSVDItemRecommender: URM Detected 5495 (21.15 %) cold items.\n",
      "PureSVDItemRecommender: Computing SVD decomposition...\n",
      "PureSVDItemRecommender: Computing SVD decomposition... Done!\n",
      "105\n",
      "PureSVDItemRecommender: URM Detected 461 (5.80 %) cold users.\n",
      "PureSVDItemRecommender: URM Detected 5495 (21.15 %) cold items.\n",
      "PureSVDItemRecommender: Computing SVD decomposition...\n",
      "PureSVDItemRecommender: Computing SVD decomposition... Done!\n",
      "205\n",
      "PureSVDItemRecommender: URM Detected 461 (5.80 %) cold users.\n",
      "PureSVDItemRecommender: URM Detected 5495 (21.15 %) cold items.\n",
      "PureSVDItemRecommender: Computing SVD decomposition...\n",
      "PureSVDItemRecommender: Computing SVD decomposition... Done!\n",
      "305\n",
      "PureSVDItemRecommender: URM Detected 461 (5.80 %) cold users.\n",
      "PureSVDItemRecommender: URM Detected 5495 (21.15 %) cold items.\n",
      "PureSVDItemRecommender: Computing SVD decomposition...\n",
      "PureSVDItemRecommender: Computing SVD decomposition... Done!\n",
      "405\n",
      "PureSVDItemRecommender: URM Detected 461 (5.80 %) cold users.\n",
      "PureSVDItemRecommender: URM Detected 5495 (21.15 %) cold items.\n",
      "PureSVDItemRecommender: Computing SVD decomposition...\n",
      "PureSVDItemRecommender: Computing SVD decomposition... Done!\n",
      "505\n",
      "PureSVDItemRecommender: URM Detected 461 (5.80 %) cold users.\n",
      "PureSVDItemRecommender: URM Detected 5495 (21.15 %) cold items.\n",
      "PureSVDItemRecommender: Computing SVD decomposition...\n",
      "PureSVDItemRecommender: Computing SVD decomposition... Done!\n",
      "605\n",
      "PureSVDItemRecommender: URM Detected 461 (5.80 %) cold users.\n",
      "PureSVDItemRecommender: URM Detected 5495 (21.15 %) cold items.\n",
      "PureSVDItemRecommender: Computing SVD decomposition...\n",
      "PureSVDItemRecommender: Computing SVD decomposition... Done!\n",
      "705\n",
      "PureSVDItemRecommender: URM Detected 461 (5.80 %) cold users.\n",
      "PureSVDItemRecommender: URM Detected 5495 (21.15 %) cold items.\n",
      "PureSVDItemRecommender: Computing SVD decomposition...\n",
      "PureSVDItemRecommender: Computing SVD decomposition... Done!\n",
      "805\n",
      "PureSVDItemRecommender: URM Detected 461 (5.80 %) cold users.\n",
      "PureSVDItemRecommender: URM Detected 5495 (21.15 %) cold items.\n",
      "PureSVDItemRecommender: Computing SVD decomposition...\n",
      "PureSVDItemRecommender: Computing SVD decomposition... Done!\n",
      "905\n",
      "PureSVDItemRecommender: URM Detected 461 (5.80 %) cold users.\n",
      "PureSVDItemRecommender: URM Detected 5495 (21.15 %) cold items.\n",
      "PureSVDItemRecommender: Computing SVD decomposition...\n",
      "PureSVDItemRecommender: Computing SVD decomposition... Done!\n",
      "1005\n",
      "PureSVDItemRecommender: URM Detected 461 (5.80 %) cold users.\n",
      "PureSVDItemRecommender: URM Detected 5495 (21.15 %) cold items.\n",
      "PureSVDItemRecommender: Computing SVD decomposition...\n",
      "PureSVDItemRecommender: Computing SVD decomposition... Done!\n",
      "1105\n",
      "PureSVDItemRecommender: URM Detected 461 (5.80 %) cold users.\n",
      "PureSVDItemRecommender: URM Detected 5495 (21.15 %) cold items.\n",
      "PureSVDItemRecommender: Computing SVD decomposition...\n",
      "PureSVDItemRecommender: Computing SVD decomposition... Done!\n",
      "1205\n",
      "PureSVDItemRecommender: URM Detected 461 (5.80 %) cold users.\n",
      "PureSVDItemRecommender: URM Detected 5495 (21.15 %) cold items.\n",
      "PureSVDItemRecommender: Computing SVD decomposition...\n",
      "PureSVDItemRecommender: Computing SVD decomposition... Done!\n",
      "1305\n",
      "PureSVDItemRecommender: URM Detected 461 (5.80 %) cold users.\n",
      "PureSVDItemRecommender: URM Detected 5495 (21.15 %) cold items.\n",
      "PureSVDItemRecommender: Computing SVD decomposition...\n",
      "PureSVDItemRecommender: Computing SVD decomposition... Done!\n",
      "1405\n",
      "PureSVDItemRecommender: URM Detected 461 (5.80 %) cold users.\n",
      "PureSVDItemRecommender: URM Detected 5495 (21.15 %) cold items.\n",
      "PureSVDItemRecommender: Computing SVD decomposition...\n",
      "PureSVDItemRecommender: Computing SVD decomposition... Done!\n",
      "1505\n",
      "PureSVDItemRecommender: URM Detected 461 (5.80 %) cold users.\n",
      "PureSVDItemRecommender: URM Detected 5495 (21.15 %) cold items.\n",
      "PureSVDItemRecommender: Computing SVD decomposition...\n",
      "PureSVDItemRecommender: Computing SVD decomposition... Done!\n",
      "1605\n",
      "PureSVDItemRecommender: URM Detected 461 (5.80 %) cold users.\n",
      "PureSVDItemRecommender: URM Detected 5495 (21.15 %) cold items.\n",
      "PureSVDItemRecommender: Computing SVD decomposition...\n",
      "PureSVDItemRecommender: Computing SVD decomposition... Done!\n",
      "1705\n",
      "PureSVDItemRecommender: URM Detected 461 (5.80 %) cold users.\n",
      "PureSVDItemRecommender: URM Detected 5495 (21.15 %) cold items.\n",
      "PureSVDItemRecommender: Computing SVD decomposition...\n",
      "PureSVDItemRecommender: Computing SVD decomposition... Done!\n",
      "1805\n",
      "PureSVDItemRecommender: URM Detected 461 (5.80 %) cold users.\n",
      "PureSVDItemRecommender: URM Detected 5495 (21.15 %) cold items.\n",
      "PureSVDItemRecommender: Computing SVD decomposition...\n",
      "PureSVDItemRecommender: Computing SVD decomposition... Done!\n",
      "1905\n",
      "PureSVDItemRecommender: URM Detected 461 (5.80 %) cold users.\n",
      "PureSVDItemRecommender: URM Detected 5495 (21.15 %) cold items.\n",
      "PureSVDItemRecommender: Computing SVD decomposition...\n",
      "PureSVDItemRecommender: Computing SVD decomposition... Done!\n",
      "2005\n",
      "PureSVDItemRecommender: URM Detected 461 (5.80 %) cold users.\n",
      "PureSVDItemRecommender: URM Detected 5495 (21.15 %) cold items.\n",
      "PureSVDItemRecommender: Computing SVD decomposition...\n",
      "PureSVDItemRecommender: Computing SVD decomposition... Done!\n",
      "2105\n",
      "PureSVDItemRecommender: URM Detected 461 (5.80 %) cold users.\n",
      "PureSVDItemRecommender: URM Detected 5495 (21.15 %) cold items.\n",
      "PureSVDItemRecommender: Computing SVD decomposition...\n",
      "PureSVDItemRecommender: Computing SVD decomposition... Done!\n",
      "2205\n",
      "PureSVDItemRecommender: URM Detected 461 (5.80 %) cold users.\n",
      "PureSVDItemRecommender: URM Detected 5495 (21.15 %) cold items.\n",
      "PureSVDItemRecommender: Computing SVD decomposition...\n",
      "PureSVDItemRecommender: Computing SVD decomposition... Done!\n",
      "2305\n",
      "PureSVDItemRecommender: URM Detected 461 (5.80 %) cold users.\n",
      "PureSVDItemRecommender: URM Detected 5495 (21.15 %) cold items.\n",
      "PureSVDItemRecommender: Computing SVD decomposition...\n",
      "PureSVDItemRecommender: Computing SVD decomposition... Done!\n",
      "2405\n",
      "PureSVDItemRecommender: URM Detected 461 (5.80 %) cold users.\n",
      "PureSVDItemRecommender: URM Detected 5495 (21.15 %) cold items.\n",
      "PureSVDItemRecommender: Computing SVD decomposition...\n",
      "PureSVDItemRecommender: Computing SVD decomposition... Done!\n",
      "2505\n",
      "PureSVDItemRecommender: URM Detected 461 (5.80 %) cold users.\n",
      "PureSVDItemRecommender: URM Detected 5495 (21.15 %) cold items.\n",
      "PureSVDItemRecommender: Computing SVD decomposition...\n",
      "PureSVDItemRecommender: Computing SVD decomposition... Done!\n",
      "2605\n",
      "PureSVDItemRecommender: URM Detected 461 (5.80 %) cold users.\n",
      "PureSVDItemRecommender: URM Detected 5495 (21.15 %) cold items.\n",
      "PureSVDItemRecommender: Computing SVD decomposition...\n",
      "PureSVDItemRecommender: Computing SVD decomposition... Done!\n",
      "2705\n",
      "PureSVDItemRecommender: URM Detected 461 (5.80 %) cold users.\n",
      "PureSVDItemRecommender: URM Detected 5495 (21.15 %) cold items.\n",
      "PureSVDItemRecommender: Computing SVD decomposition...\n",
      "PureSVDItemRecommender: Computing SVD decomposition... Done!\n",
      "2805\n",
      "PureSVDItemRecommender: URM Detected 461 (5.80 %) cold users.\n",
      "PureSVDItemRecommender: URM Detected 5495 (21.15 %) cold items.\n",
      "PureSVDItemRecommender: Computing SVD decomposition...\n",
      "PureSVDItemRecommender: Computing SVD decomposition... Done!\n"
     ]
    }
   ],
   "source": [
    "n_items = training.shape[1]\n",
    "factors = range(5, int(n_items/9), 100)\n",
    "map_vector = []\n",
    "for factor in factors:\n",
    "    print(factor)\n",
    "    recommender = pure_SVD_recommender()\n",
    "    recommender.fit(training_set=training,num_factors=factor)\n",
    "    map_vector.append(evaluator.evaluate_already_trained(recommender=recommender)[2])"
   ],
   "metadata": {
    "collapsed": false,
    "pycharm": {
     "name": "#%%\n"
    }
   }
  },
  {
   "cell_type": "code",
   "execution_count": 6,
   "outputs": [
    {
     "data": {
      "text/plain": "<Figure size 432x288 with 1 Axes>",
      "image/png": "[encoded data removed]"
     },
     "metadata": {
      "needs_background": "light"
     },
     "output_type": "display_data"
    }
   ],
   "source": [
    "plt.plot(factors,map_vector)\n",
    "plt.ylabel('MAP')\n",
    "plt.xlabel('k')\n",
    "plt.show()"
   ],
   "metadata": {
    "collapsed": false,
    "pycharm": {
     "name": "#%%\n"
    }
   }
  },
  {
   "cell_type": "code",
   "execution_count": 7,
   "outputs": [
    {
     "data": {
      "text/plain": "905"
     },
     "execution_count": 7,
     "metadata": {},
     "output_type": "execute_result"
    }
   ],
   "source": [
    "factor = factors[np.argmax(map_vector)]\n",
    "factor"
   ],
   "metadata": {
    "collapsed": false,
    "pycharm": {
     "name": "#%%\n"
    }
   }
  },
  {
   "cell_type": "code",
   "execution_count": 9,
   "outputs": [
    {
     "name": "stdout",
     "output_type": "stream",
     "text": [
      "PureSVDItemRecommender: URM Detected 461 (5.80 %) cold users.\n",
      "PureSVDItemRecommender: URM Detected 5495 (21.15 %) cold items.\n",
      "PureSVDItemRecommender: Computing SVD decomposition...\n",
      "PureSVDItemRecommender: Computing SVD decomposition... Done!\n",
      "PureSVDItemRecommender: URM Detected 461 (5.80 %) cold users.\n",
      "PureSVDItemRecommender: URM Detected 5495 (21.15 %) cold items.\n",
      "PureSVDItemRecommender: Computing SVD decomposition...\n",
      "PureSVDItemRecommender: Computing SVD decomposition... Done!\n",
      "PureSVDItemRecommender: URM Detected 461 (5.80 %) cold users.\n",
      "PureSVDItemRecommender: URM Detected 5495 (21.15 %) cold items.\n",
      "PureSVDItemRecommender: Computing SVD decomposition...\n",
      "PureSVDItemRecommender: Computing SVD decomposition... Done!\n",
      "PureSVDItemRecommender: URM Detected 461 (5.80 %) cold users.\n",
      "PureSVDItemRecommender: URM Detected 5495 (21.15 %) cold items.\n",
      "PureSVDItemRecommender: Computing SVD decomposition...\n",
      "PureSVDItemRecommender: Computing SVD decomposition... Done!\n",
      "PureSVDItemRecommender: URM Detected 461 (5.80 %) cold users.\n",
      "PureSVDItemRecommender: URM Detected 5495 (21.15 %) cold items.\n",
      "PureSVDItemRecommender: Computing SVD decomposition...\n",
      "PureSVDItemRecommender: Computing SVD decomposition... Done!\n",
      "PureSVDItemRecommender: URM Detected 461 (5.80 %) cold users.\n",
      "PureSVDItemRecommender: URM Detected 5495 (21.15 %) cold items.\n",
      "PureSVDItemRecommender: Computing SVD decomposition...\n",
      "PureSVDItemRecommender: Computing SVD decomposition... Done!\n",
      "PureSVDItemRecommender: URM Detected 461 (5.80 %) cold users.\n",
      "PureSVDItemRecommender: URM Detected 5495 (21.15 %) cold items.\n",
      "PureSVDItemRecommender: Computing SVD decomposition...\n",
      "PureSVDItemRecommender: Computing SVD decomposition... Done!\n",
      "PureSVDItemRecommender: URM Detected 461 (5.80 %) cold users.\n",
      "PureSVDItemRecommender: URM Detected 5495 (21.15 %) cold items.\n",
      "PureSVDItemRecommender: Computing SVD decomposition...\n",
      "PureSVDItemRecommender: Computing SVD decomposition... Done!\n",
      "PureSVDItemRecommender: URM Detected 461 (5.80 %) cold users.\n",
      "PureSVDItemRecommender: URM Detected 5495 (21.15 %) cold items.\n",
      "PureSVDItemRecommender: Computing SVD decomposition...\n",
      "PureSVDItemRecommender: Computing SVD decomposition... Done!\n",
      "PureSVDItemRecommender: URM Detected 461 (5.80 %) cold users.\n",
      "PureSVDItemRecommender: URM Detected 5495 (21.15 %) cold items.\n",
      "PureSVDItemRecommender: Computing SVD decomposition...\n",
      "PureSVDItemRecommender: Computing SVD decomposition... Done!\n",
      "PureSVDItemRecommender: URM Detected 461 (5.80 %) cold users.\n",
      "PureSVDItemRecommender: URM Detected 5495 (21.15 %) cold items.\n",
      "PureSVDItemRecommender: Computing SVD decomposition...\n",
      "PureSVDItemRecommender: Computing SVD decomposition... Done!\n"
     ]
    }
   ],
   "source": [
    "k_vector = [20,40,60,100,120,150,200,250,300,350,400]\n",
    "map_vector = []\n",
    "for k in k_vector:\n",
    "    recommender = pure_SVD_recommender()\n",
    "    recommender.fit(training_set=training,\n",
    "                    num_factors=905,\n",
    "                    k=k)\n",
    "    map_vector.append(evaluator.evaluate_already_trained(recommender=recommender)[2])"
   ],
   "metadata": {
    "collapsed": false,
    "pycharm": {
     "name": "#%%\n"
    }
   }
  },
  {
   "cell_type": "code",
   "execution_count": 10,
   "outputs": [
    {
     "data": {
      "text/plain": "<Figure size 432x288 with 1 Axes>",
      "image/png": "[encoded data removed]"
     },
     "metadata": {
      "needs_background": "light"
     },
     "output_type": "display_data"
    }
   ],
   "source": [
    "plt.plot(k_vector,map_vector)\n",
    "plt.ylabel('MAP')\n",
    "plt.xlabel('k')\n",
    "plt.show()"
   ],
   "metadata": {
    "collapsed": false,
    "pycharm": {
     "name": "#%%\n"
    }
   }
  },
  {
   "cell_type": "code",
   "execution_count": 11,
   "outputs": [
    {
     "data": {
      "text/plain": "350"
     },
     "execution_count": 11,
     "metadata": {},
     "output_type": "execute_result"
    }
   ],
   "source": [
    "k = k_vector[np.argmax(map_vector)]\n",
    "k"
   ],
   "metadata": {
    "collapsed": false,
    "pycharm": {
     "name": "#%%\n"
    }
   }
  },
  {
   "cell_type": "code",
   "execution_count": 12,
   "outputs": [
    {
     "name": "stdout",
     "output_type": "stream",
     "text": [
      "PureSVDItemRecommender: URM Detected 1079 (4.15 %) cold items.\n",
      "PureSVDItemRecommender: Computing SVD decomposition...\n",
      "PureSVDItemRecommender: Computing SVD decomposition... Done!\n"
     ]
    }
   ],
   "source": [
    "recommender_submission = pure_SVD_recommender()\n",
    "recommender_submission.fit(training_set=data_manager().get_urm(),\n",
    "                           num_factors=905,\n",
    "                           k =350)\n",
    "submission_helper(name_of_the_file=\"svd_pure_first\",\n",
    "                  recommender=recommender_submission).build_submission()"
   ],
   "metadata": {
    "collapsed": false,
    "pycharm": {
     "name": "#%%\n"
    }
   }
  },
  {
   "cell_type": "code",
   "execution_count": 13,
   "outputs": [
    {
     "name": "stdout",
     "output_type": "stream",
     "text": [
      "PureSVDItemRecommender: URM Detected 461 (5.80 %) cold users.\n",
      "PureSVDItemRecommender: URM Detected 5495 (21.15 %) cold items.\n",
      "PureSVDItemRecommender: Computing SVD decomposition...\n",
      "PureSVDItemRecommender: Computing SVD decomposition... Done!\n",
      "PureSVDItemRecommender: URM Detected 461 (5.80 %) cold users.\n",
      "PureSVDItemRecommender: URM Detected 5495 (21.15 %) cold items.\n",
      "PureSVDItemRecommender: Computing SVD decomposition...\n",
      "PureSVDItemRecommender: Computing SVD decomposition... Done!\n",
      "PureSVDItemRecommender: URM Detected 461 (5.80 %) cold users.\n",
      "PureSVDItemRecommender: URM Detected 5495 (21.15 %) cold items.\n",
      "PureSVDItemRecommender: Computing SVD decomposition...\n",
      "PureSVDItemRecommender: Computing SVD decomposition... Done!\n",
      "PureSVDItemRecommender: URM Detected 461 (5.80 %) cold users.\n",
      "PureSVDItemRecommender: URM Detected 5495 (21.15 %) cold items.\n",
      "PureSVDItemRecommender: Computing SVD decomposition...\n",
      "PureSVDItemRecommender: Computing SVD decomposition... Done!\n",
      "PureSVDItemRecommender: URM Detected 461 (5.80 %) cold users.\n",
      "PureSVDItemRecommender: URM Detected 5495 (21.15 %) cold items.\n",
      "PureSVDItemRecommender: Computing SVD decomposition...\n",
      "PureSVDItemRecommender: Computing SVD decomposition... Done!\n",
      "PureSVDItemRecommender: URM Detected 461 (5.80 %) cold users.\n",
      "PureSVDItemRecommender: URM Detected 5495 (21.15 %) cold items.\n",
      "PureSVDItemRecommender: Computing SVD decomposition...\n",
      "PureSVDItemRecommender: Computing SVD decomposition... Done!\n"
     ]
    }
   ],
   "source": [
    "k_vector = [300,350,400,450,500,550]\n",
    "map_vector = []\n",
    "for k in k_vector:\n",
    "    recommender = pure_SVD_recommender()\n",
    "    recommender.fit(training_set=training,\n",
    "                    num_factors=905,\n",
    "                    k=k)\n",
    "    map_vector.append(evaluator.evaluate_already_trained(recommender=recommender)[2])\n"
   ],
   "metadata": {
    "collapsed": false,
    "pycharm": {
     "name": "#%%\n"
    }
   }
  },
  {
   "cell_type": "code",
   "execution_count": 14,
   "outputs": [
    {
     "data": {
      "text/plain": "<Figure size 432x288 with 1 Axes>",
      "image/png": "[encoded data removed]"
     },
     "metadata": {
      "needs_background": "light"
     },
     "output_type": "display_data"
    }
   ],
   "source": [
    "plt.plot(k_vector,map_vector)\n",
    "plt.ylabel('MAP')\n",
    "plt.xlabel('k')\n",
    "plt.show()"
   ],
   "metadata": {
    "collapsed": false,
    "pycharm": {
     "name": "#%%\n"
    }
   }
  },
  {
   "cell_type": "code",
   "execution_count": 3,
   "outputs": [
    {
     "name": "stdout",
     "output_type": "stream",
     "text": [
      "PureSVDItemRecommender: URM Detected 463 (1.66 %) cold users.\n",
      "PureSVDItemRecommender: URM Detected 8 (0.03 %) cold items.\n",
      "PureSVDItemRecommender: Computing SVD decomposition...\n",
      "PureSVDItemRecommender: Computing SVD decomposition... Done!\n"
     ]
    },
    {
     "data": {
      "text/plain": "0.020379880929445097"
     },
     "execution_count": 3,
     "metadata": {},
     "output_type": "execute_result"
    }
   ],
   "source": [
    "\n",
    "recommender = pure_SVD_recommender()\n",
    "recommender.fit(training_set=training,\n",
    "                num_factors=1000,\n",
    "                k=350,\n",
    "                concatenate_icm=True)\n",
    "map_value = evaluator.evaluate_already_trained(recommender=recommender)[2]\n",
    "map_value"
   ],
   "metadata": {
    "collapsed": false,
    "pycharm": {
     "name": "#%%\n"
    }
   }
  },
  {
   "cell_type": "code",
   "execution_count": 4,
   "outputs": [
    {
     "name": "stdout",
     "output_type": "stream",
     "text": [
      "Similarity column 25975 ( 100 % ), 1041.25 column/sec, elapsed time 0.42 min\n",
      "ratings per user:  3\n",
      "the new URM matrix is ready. Shape:  (7947, 25975)\n",
      "PureSVDItemRecommender: URM Detected 463 (1.66 %) cold users.\n",
      "PureSVDItemRecommender: URM Detected 8 (0.03 %) cold items.\n",
      "PureSVDItemRecommender: Computing SVD decomposition...\n",
      "PureSVDItemRecommender: Computing SVD decomposition... Done!\n",
      "map:  0.020783101518926542  factors:  1000\n",
      "PureSVDItemRecommender: URM Detected 463 (1.66 %) cold users.\n",
      "PureSVDItemRecommender: URM Detected 8 (0.03 %) cold items.\n",
      "PureSVDItemRecommender: Computing SVD decomposition...\n",
      "PureSVDItemRecommender: Computing SVD decomposition... Done!\n",
      "map:  0.024467446399801123  factors:  2000\n",
      "PureSVDItemRecommender: URM Detected 463 (1.66 %) cold users.\n",
      "PureSVDItemRecommender: URM Detected 8 (0.03 %) cold items.\n",
      "PureSVDItemRecommender: Computing SVD decomposition...\n",
      "PureSVDItemRecommender: Computing SVD decomposition... Done!\n",
      "map:  0.025916430998336574  factors:  3000\n",
      "PureSVDItemRecommender: URM Detected 463 (1.66 %) cold users.\n",
      "PureSVDItemRecommender: URM Detected 8 (0.03 %) cold items.\n",
      "PureSVDItemRecommender: Computing SVD decomposition...\n",
      "PureSVDItemRecommender: Computing SVD decomposition... Done!\n",
      "map:  0.024527162867909073  factors:  4000\n",
      "PureSVDItemRecommender: URM Detected 463 (1.66 %) cold users.\n",
      "PureSVDItemRecommender: URM Detected 8 (0.03 %) cold items.\n",
      "PureSVDItemRecommender: Computing SVD decomposition...\n",
      "PureSVDItemRecommender: Computing SVD decomposition... Done!\n",
      "map:  0.02351361879344068  factors:  5000\n",
      "PureSVDItemRecommender: URM Detected 463 (1.66 %) cold users.\n",
      "PureSVDItemRecommender: URM Detected 8 (0.03 %) cold items.\n",
      "PureSVDItemRecommender: Computing SVD decomposition...\n",
      "PureSVDItemRecommender: Computing SVD decomposition... Done!\n",
      "map:  0.02188536639136922  factors:  6000\n",
      "PureSVDItemRecommender: URM Detected 463 (1.66 %) cold users.\n",
      "PureSVDItemRecommender: URM Detected 8 (0.03 %) cold items.\n",
      "PureSVDItemRecommender: Computing SVD decomposition...\n",
      "PureSVDItemRecommender: Computing SVD decomposition... Done!\n",
      "map:  0.020160262326324136  factors:  7000\n",
      "PureSVDItemRecommender: URM Detected 463 (1.66 %) cold users.\n",
      "PureSVDItemRecommender: URM Detected 8 (0.03 %) cold items.\n",
      "PureSVDItemRecommender: Computing SVD decomposition...\n",
      "PureSVDItemRecommender: Computing SVD decomposition... Done!\n",
      "map:  0.018393844783716404  factors:  8000\n"
     ]
    },
    {
     "data": {
      "text/plain": "3000"
     },
     "execution_count": 4,
     "metadata": {},
     "output_type": "execute_result"
    }
   ],
   "source": [
    "factors = [i for i in range(1000,9000, 1000)]\n",
    "map_vector = []\n",
    "augmenter = URM_item_cbf_augmenter(training_set=training.copy(),rating_per_users=3)\n",
    "for factor in factors:\n",
    "    recommender = pure_SVD_recommender(use_augmented_urm=True, data_augmenter=augmenter)\n",
    "    recommender.fit(training_set=training,\n",
    "                    num_factors=factor,\n",
    "                    k=350,\n",
    "                    concatenate_icm=True)\n",
    "    map_ = evaluator.evaluate_already_trained(recommender=recommender)[2]\n",
    "    print(\"map: \", map_, \" factors: \", factor)\n",
    "    map_vector.append(map_)\n",
    "best_f = factors[np.argmax(map_vector)]\n",
    "best_f"
   ],
   "metadata": {
    "collapsed": false,
    "pycharm": {
     "name": "#%%\n"
    }
   }
  }
 ],
 "metadata": {
  "kernelspec": {
   "display_name": "Python 3",
   "language": "python",
   "name": "python3"
  },
  "language_info": {
   "codemirror_mode": {
    "name": "ipython",
    "version": 2
   },
   "file_extension": ".py",
   "mimetype": "text/x-python",
   "name": "python",
   "nbconvert_exporter": "python",
   "pygments_lexer": "ipython2",
   "version": "2.7.6"
  }
 },
 "nbformat": 4,
 "nbformat_minor": 0
}
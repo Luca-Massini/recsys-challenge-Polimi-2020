{
 "cells": [
  {
   "cell_type": "code",
   "execution_count": 1,
   "outputs": [],
   "source": [
    "from SVD.pure_SVD_icm import pure_SVD_icm\n",
    "from utils.evaluator.evaluator import evaluator\n",
    "from utils.submission_helper import submission_helper\n",
    "from utils.data_manager.data_manager import data_manager\n",
    "from utils.data_manager.splitter import splitter\n",
    "import matplotlib.pyplot as plt\n",
    "import numpy as np\n",
    "import pandas as pd"
   ],
   "metadata": {
    "collapsed": false,
    "pycharm": {
     "name": "#%%\n"
    }
   }
  },
  {
   "cell_type": "code",
   "execution_count": 2,
   "outputs": [],
   "source": [
    "training, validation, test = splitter().get_train_evaluation_test(percentage_of_training_data=0.6,\n",
    "                                                                  percentage_of_validation_data=0.2)\n",
    "\n"
   ],
   "metadata": {
    "collapsed": false,
    "pycharm": {
     "name": "#%%\n"
    }
   }
  },
  {
   "cell_type": "code",
   "execution_count": 3,
   "outputs": [
    {
     "name": "stdout",
     "output_type": "stream",
     "text": [
      "icm shape:  (25975, 20000)\n",
      "PureSVDItemRecommender: URM Detected 2 (0.01 %) cold users.\n",
      "PureSVDItemRecommender: URM Detected 25 (0.10 %) cold items.\n",
      "PureSVDItemRecommender: Computing SVD decomposition...\n",
      "PureSVDItemRecommender: Computing SVD decomposition... Done!\n",
      "shape of the similarity matrix:  (25975, 25975)\n",
      "0.0022848646468690936\n",
      "icm shape:  (25975, 20000)\n",
      "PureSVDItemRecommender: URM Detected 2 (0.01 %) cold users.\n",
      "PureSVDItemRecommender: URM Detected 25 (0.10 %) cold items.\n",
      "PureSVDItemRecommender: Computing SVD decomposition...\n",
      "PureSVDItemRecommender: Computing SVD decomposition... Done!\n",
      "shape of the similarity matrix:  (25975, 25975)\n",
      "0.004227891155958627\n",
      "icm shape:  (25975, 20000)\n",
      "PureSVDItemRecommender: URM Detected 2 (0.01 %) cold users.\n",
      "PureSVDItemRecommender: URM Detected 25 (0.10 %) cold items.\n",
      "PureSVDItemRecommender: Computing SVD decomposition...\n",
      "PureSVDItemRecommender: Computing SVD decomposition... Done!\n",
      "shape of the similarity matrix:  (25975, 25975)\n",
      "0.005035569439202691\n",
      "icm shape:  (25975, 20000)\n",
      "PureSVDItemRecommender: URM Detected 2 (0.01 %) cold users.\n",
      "PureSVDItemRecommender: URM Detected 25 (0.10 %) cold items.\n",
      "PureSVDItemRecommender: Computing SVD decomposition...\n",
      "PureSVDItemRecommender: Computing SVD decomposition... Done!\n",
      "shape of the similarity matrix:  (25975, 25975)\n",
      "0.005715251522685982\n",
      "icm shape:  (25975, 20000)\n",
      "PureSVDItemRecommender: URM Detected 2 (0.01 %) cold users.\n",
      "PureSVDItemRecommender: URM Detected 25 (0.10 %) cold items.\n",
      "PureSVDItemRecommender: Computing SVD decomposition...\n",
      "PureSVDItemRecommender: Computing SVD decomposition... Done!\n",
      "shape of the similarity matrix:  (25975, 25975)\n",
      "0.0062568450395571185\n",
      "icm shape:  (25975, 20000)\n",
      "PureSVDItemRecommender: URM Detected 2 (0.01 %) cold users.\n",
      "PureSVDItemRecommender: URM Detected 25 (0.10 %) cold items.\n",
      "PureSVDItemRecommender: Computing SVD decomposition...\n",
      "PureSVDItemRecommender: Computing SVD decomposition... Done!\n",
      "shape of the similarity matrix:  (25975, 25975)\n",
      "0.006821058637831509\n",
      "icm shape:  (25975, 20000)\n",
      "PureSVDItemRecommender: URM Detected 2 (0.01 %) cold users.\n",
      "PureSVDItemRecommender: URM Detected 25 (0.10 %) cold items.\n",
      "PureSVDItemRecommender: Computing SVD decomposition...\n",
      "PureSVDItemRecommender: Computing SVD decomposition... Done!\n",
      "shape of the similarity matrix:  (25975, 25975)\n",
      "0.007203449503974747\n",
      "icm shape:  (25975, 20000)\n",
      "PureSVDItemRecommender: URM Detected 2 (0.01 %) cold users.\n",
      "PureSVDItemRecommender: URM Detected 25 (0.10 %) cold items.\n",
      "PureSVDItemRecommender: Computing SVD decomposition...\n",
      "PureSVDItemRecommender: Computing SVD decomposition... Done!\n",
      "shape of the similarity matrix:  (25975, 25975)\n",
      "0.007648455980242252\n",
      "icm shape:  (25975, 20000)\n",
      "PureSVDItemRecommender: URM Detected 2 (0.01 %) cold users.\n",
      "PureSVDItemRecommender: URM Detected 25 (0.10 %) cold items.\n",
      "PureSVDItemRecommender: Computing SVD decomposition...\n",
      "PureSVDItemRecommender: Computing SVD decomposition... Done!\n",
      "shape of the similarity matrix:  (25975, 25975)\n",
      "0.00798957812932198\n",
      "icm shape:  (25975, 20000)\n",
      "PureSVDItemRecommender: URM Detected 2 (0.01 %) cold users.\n",
      "PureSVDItemRecommender: URM Detected 25 (0.10 %) cold items.\n",
      "PureSVDItemRecommender: Computing SVD decomposition...\n",
      "PureSVDItemRecommender: Computing SVD decomposition... Done!\n",
      "shape of the similarity matrix:  (25975, 25975)\n",
      "0.008211739458721643\n",
      "icm shape:  (25975, 20000)\n",
      "PureSVDItemRecommender: URM Detected 2 (0.01 %) cold users.\n",
      "PureSVDItemRecommender: URM Detected 25 (0.10 %) cold items.\n",
      "PureSVDItemRecommender: Computing SVD decomposition...\n",
      "PureSVDItemRecommender: Computing SVD decomposition... Done!\n",
      "shape of the similarity matrix:  (25975, 25975)\n"
     ]
    },
    {
     "ename": "KeyboardInterrupt",
     "evalue": "",
     "output_type": "error",
     "traceback": [
      "\u001B[1;31m---------------------------------------------------------------------------\u001B[0m",
      "\u001B[1;31mKeyboardInterrupt\u001B[0m                         Traceback (most recent call last)",
      "\u001B[1;32m<ipython-input-3-e99308e3c5e4>\u001B[0m in \u001B[0;36m<module>\u001B[1;34m\u001B[0m\n\u001B[0;32m      6\u001B[0m                     \u001B[0mnum_factors\u001B[0m\u001B[1;33m=\u001B[0m\u001B[0mnum_factors\u001B[0m\u001B[1;33m,\u001B[0m\u001B[1;33m\u001B[0m\u001B[1;33m\u001B[0m\u001B[0m\n\u001B[0;32m      7\u001B[0m                     k=100)\n\u001B[1;32m----> 8\u001B[1;33m     \u001B[0mmap_\u001B[0m \u001B[1;33m=\u001B[0m \u001B[0mevaluator\u001B[0m\u001B[1;33m.\u001B[0m\u001B[0mevaluate_already_trained\u001B[0m\u001B[1;33m(\u001B[0m\u001B[0mrecommender\u001B[0m\u001B[1;33m=\u001B[0m\u001B[0mrecommender\u001B[0m\u001B[1;33m)\u001B[0m\u001B[1;33m[\u001B[0m\u001B[1;36m2\u001B[0m\u001B[1;33m]\u001B[0m\u001B[1;33m\u001B[0m\u001B[1;33m\u001B[0m\u001B[0m\n\u001B[0m\u001B[0;32m      9\u001B[0m     \u001B[0mprint\u001B[0m\u001B[1;33m(\u001B[0m\u001B[0mmap_\u001B[0m\u001B[1;33m)\u001B[0m\u001B[1;33m\u001B[0m\u001B[1;33m\u001B[0m\u001B[0m\n\u001B[0;32m     10\u001B[0m     \u001B[0mmap_vector\u001B[0m\u001B[1;33m.\u001B[0m\u001B[0mappend\u001B[0m\u001B[1;33m(\u001B[0m\u001B[0mmap_\u001B[0m\u001B[1;33m)\u001B[0m\u001B[1;33m\u001B[0m\u001B[1;33m\u001B[0m\u001B[0m\n",
      "\u001B[1;32m~\\PycharmProjects\\recsys-challenge-Polimi-2020\\utils\\evaluator\\evaluator.py\u001B[0m in \u001B[0;36mevaluate_already_trained\u001B[1;34m(recommender, percentage_of_training_data, percentage_of_validation_data, at)\u001B[0m\n\u001B[0;32m     39\u001B[0m                                                                        percentage_of_validation_data=percentage_of_validation_data)\n\u001B[0;32m     40\u001B[0m         precision, recall, map_ = evaluator_component(trained_recommender=recommender,\n\u001B[1;32m---> 41\u001B[1;33m                                                       testing_matrix=validation).evaluate(at)\n\u001B[0m\u001B[0;32m     42\u001B[0m         \u001B[1;32mreturn\u001B[0m \u001B[0mprecision\u001B[0m\u001B[1;33m,\u001B[0m \u001B[0mrecall\u001B[0m\u001B[1;33m,\u001B[0m \u001B[0mmap_\u001B[0m\u001B[1;33m\u001B[0m\u001B[1;33m\u001B[0m\u001B[0m\n\u001B[0;32m     43\u001B[0m \u001B[1;33m\u001B[0m\u001B[0m\n",
      "\u001B[1;32m~\\PycharmProjects\\recsys-challenge-Polimi-2020\\utils\\evaluator\\evaluator_component.py\u001B[0m in \u001B[0;36mevaluate\u001B[1;34m(self, at)\u001B[0m\n\u001B[0;32m     26\u001B[0m     \u001B[1;32mdef\u001B[0m \u001B[0mevaluate\u001B[0m\u001B[1;33m(\u001B[0m\u001B[0mself\u001B[0m\u001B[1;33m,\u001B[0m \u001B[0mat\u001B[0m\u001B[1;33m=\u001B[0m\u001B[1;36m10\u001B[0m\u001B[1;33m)\u001B[0m\u001B[1;33m:\u001B[0m\u001B[1;33m\u001B[0m\u001B[1;33m\u001B[0m\u001B[0m\n\u001B[0;32m     27\u001B[0m         recommended_items_per_user = [self.__recommender_algorithm.recommend(userId=user, at=at) for user in\n\u001B[1;32m---> 28\u001B[1;33m                                       self.__users]\n\u001B[0m\u001B[0;32m     29\u001B[0m         \u001B[0mprecision\u001B[0m \u001B[1;33m=\u001B[0m \u001B[0mself\u001B[0m\u001B[1;33m.\u001B[0m\u001B[0m__compute_total_precision\u001B[0m\u001B[1;33m(\u001B[0m\u001B[0mrecommended_items_per_user\u001B[0m\u001B[1;33m)\u001B[0m\u001B[1;33m\u001B[0m\u001B[1;33m\u001B[0m\u001B[0m\n\u001B[0;32m     30\u001B[0m         \u001B[0mrecall\u001B[0m \u001B[1;33m=\u001B[0m \u001B[0mself\u001B[0m\u001B[1;33m.\u001B[0m\u001B[0m__compute_total_recall\u001B[0m\u001B[1;33m(\u001B[0m\u001B[0mrecommended_items_per_user\u001B[0m\u001B[1;33m)\u001B[0m\u001B[1;33m\u001B[0m\u001B[1;33m\u001B[0m\u001B[0m\n",
      "\u001B[1;32m~\\PycharmProjects\\recsys-challenge-Polimi-2020\\utils\\evaluator\\evaluator_component.py\u001B[0m in \u001B[0;36m<listcomp>\u001B[1;34m(.0)\u001B[0m\n\u001B[0;32m     25\u001B[0m \u001B[1;33m\u001B[0m\u001B[0m\n\u001B[0;32m     26\u001B[0m     \u001B[1;32mdef\u001B[0m \u001B[0mevaluate\u001B[0m\u001B[1;33m(\u001B[0m\u001B[0mself\u001B[0m\u001B[1;33m,\u001B[0m \u001B[0mat\u001B[0m\u001B[1;33m=\u001B[0m\u001B[1;36m10\u001B[0m\u001B[1;33m)\u001B[0m\u001B[1;33m:\u001B[0m\u001B[1;33m\u001B[0m\u001B[1;33m\u001B[0m\u001B[0m\n\u001B[1;32m---> 27\u001B[1;33m         recommended_items_per_user = [self.__recommender_algorithm.recommend(userId=user, at=at) for user in\n\u001B[0m\u001B[0;32m     28\u001B[0m                                       self.__users]\n\u001B[0;32m     29\u001B[0m         \u001B[0mprecision\u001B[0m \u001B[1;33m=\u001B[0m \u001B[0mself\u001B[0m\u001B[1;33m.\u001B[0m\u001B[0m__compute_total_precision\u001B[0m\u001B[1;33m(\u001B[0m\u001B[0mrecommended_items_per_user\u001B[0m\u001B[1;33m)\u001B[0m\u001B[1;33m\u001B[0m\u001B[1;33m\u001B[0m\u001B[0m\n",
      "\u001B[1;32m~\\PycharmProjects\\recsys-challenge-Polimi-2020\\SVD\\pure_SVD_icm.py\u001B[0m in \u001B[0;36mrecommend\u001B[1;34m(self, userId, at)\u001B[0m\n\u001B[0;32m     26\u001B[0m     \u001B[1;32mdef\u001B[0m \u001B[0mrecommend\u001B[0m\u001B[1;33m(\u001B[0m\u001B[0mself\u001B[0m\u001B[1;33m,\u001B[0m \u001B[0muserId\u001B[0m\u001B[1;33m,\u001B[0m \u001B[0mat\u001B[0m\u001B[1;33m)\u001B[0m\u001B[1;33m:\u001B[0m\u001B[1;33m\u001B[0m\u001B[1;33m\u001B[0m\u001B[0m\n\u001B[0;32m     27\u001B[0m         \u001B[0muser_profile\u001B[0m \u001B[1;33m=\u001B[0m \u001B[0mself\u001B[0m\u001B[1;33m.\u001B[0m\u001B[0m__urm_training\u001B[0m\u001B[1;33m[\u001B[0m\u001B[0muserId\u001B[0m\u001B[1;33m]\u001B[0m\u001B[1;33m\u001B[0m\u001B[1;33m\u001B[0m\u001B[0m\n\u001B[1;32m---> 28\u001B[1;33m         \u001B[0mscores\u001B[0m \u001B[1;33m=\u001B[0m \u001B[0muser_profile\u001B[0m\u001B[1;33m.\u001B[0m\u001B[0mdot\u001B[0m\u001B[1;33m(\u001B[0m\u001B[0mself\u001B[0m\u001B[1;33m.\u001B[0m\u001B[0m__similarity\u001B[0m\u001B[1;33m)\u001B[0m\u001B[1;33m.\u001B[0m\u001B[0mtoarray\u001B[0m\u001B[1;33m(\u001B[0m\u001B[1;33m)\u001B[0m\u001B[1;33m.\u001B[0m\u001B[0mravel\u001B[0m\u001B[1;33m(\u001B[0m\u001B[1;33m)\u001B[0m\u001B[1;33m\u001B[0m\u001B[1;33m\u001B[0m\u001B[0m\n\u001B[0m\u001B[0;32m     29\u001B[0m         \u001B[0mscores\u001B[0m \u001B[1;33m=\u001B[0m \u001B[0mself\u001B[0m\u001B[1;33m.\u001B[0m\u001B[0m__filter_seen\u001B[0m\u001B[1;33m(\u001B[0m\u001B[0muserId\u001B[0m\u001B[1;33m,\u001B[0m \u001B[0mscores\u001B[0m\u001B[1;33m)\u001B[0m\u001B[1;33m\u001B[0m\u001B[1;33m\u001B[0m\u001B[0m\n\u001B[0;32m     30\u001B[0m         \u001B[1;31m# rank items\u001B[0m\u001B[1;33m\u001B[0m\u001B[1;33m\u001B[0m\u001B[1;33m\u001B[0m\u001B[0m\n",
      "\u001B[1;32m~\\anaconda3\\envs\\recsys-challenge-Polimi-2020\\lib\\site-packages\\scipy\\sparse\\base.py\u001B[0m in \u001B[0;36mdot\u001B[1;34m(self, other)\u001B[0m\n\u001B[0;32m    362\u001B[0m \u001B[1;33m\u001B[0m\u001B[0m\n\u001B[0;32m    363\u001B[0m         \"\"\"\n\u001B[1;32m--> 364\u001B[1;33m         \u001B[1;32mreturn\u001B[0m \u001B[0mself\u001B[0m \u001B[1;33m*\u001B[0m \u001B[0mother\u001B[0m\u001B[1;33m\u001B[0m\u001B[1;33m\u001B[0m\u001B[0m\n\u001B[0m\u001B[0;32m    365\u001B[0m \u001B[1;33m\u001B[0m\u001B[0m\n\u001B[0;32m    366\u001B[0m     \u001B[1;32mdef\u001B[0m \u001B[0mpower\u001B[0m\u001B[1;33m(\u001B[0m\u001B[0mself\u001B[0m\u001B[1;33m,\u001B[0m \u001B[0mn\u001B[0m\u001B[1;33m,\u001B[0m \u001B[0mdtype\u001B[0m\u001B[1;33m=\u001B[0m\u001B[1;32mNone\u001B[0m\u001B[1;33m)\u001B[0m\u001B[1;33m:\u001B[0m\u001B[1;33m\u001B[0m\u001B[1;33m\u001B[0m\u001B[0m\n",
      "\u001B[1;32m~\\anaconda3\\envs\\recsys-challenge-Polimi-2020\\lib\\site-packages\\scipy\\sparse\\base.py\u001B[0m in \u001B[0;36m__mul__\u001B[1;34m(self, other)\u001B[0m\n\u001B[0;32m    480\u001B[0m             \u001B[1;32mif\u001B[0m \u001B[0mself\u001B[0m\u001B[1;33m.\u001B[0m\u001B[0mshape\u001B[0m\u001B[1;33m[\u001B[0m\u001B[1;36m1\u001B[0m\u001B[1;33m]\u001B[0m \u001B[1;33m!=\u001B[0m \u001B[0mother\u001B[0m\u001B[1;33m.\u001B[0m\u001B[0mshape\u001B[0m\u001B[1;33m[\u001B[0m\u001B[1;36m0\u001B[0m\u001B[1;33m]\u001B[0m\u001B[1;33m:\u001B[0m\u001B[1;33m\u001B[0m\u001B[1;33m\u001B[0m\u001B[0m\n\u001B[0;32m    481\u001B[0m                 \u001B[1;32mraise\u001B[0m \u001B[0mValueError\u001B[0m\u001B[1;33m(\u001B[0m\u001B[1;34m'dimension mismatch'\u001B[0m\u001B[1;33m)\u001B[0m\u001B[1;33m\u001B[0m\u001B[1;33m\u001B[0m\u001B[0m\n\u001B[1;32m--> 482\u001B[1;33m             \u001B[1;32mreturn\u001B[0m \u001B[0mself\u001B[0m\u001B[1;33m.\u001B[0m\u001B[0m_mul_sparse_matrix\u001B[0m\u001B[1;33m(\u001B[0m\u001B[0mother\u001B[0m\u001B[1;33m)\u001B[0m\u001B[1;33m\u001B[0m\u001B[1;33m\u001B[0m\u001B[0m\n\u001B[0m\u001B[0;32m    483\u001B[0m \u001B[1;33m\u001B[0m\u001B[0m\n\u001B[0;32m    484\u001B[0m         \u001B[1;31m# If it's a list or whatever, treat it like a matrix\u001B[0m\u001B[1;33m\u001B[0m\u001B[1;33m\u001B[0m\u001B[1;33m\u001B[0m\u001B[0m\n",
      "\u001B[1;32m~\\anaconda3\\envs\\recsys-challenge-Polimi-2020\\lib\\site-packages\\scipy\\sparse\\compressed.py\u001B[0m in \u001B[0;36m_mul_sparse_matrix\u001B[1;34m(self, other)\u001B[0m\n\u001B[0;32m    519\u001B[0m            \u001B[0mnp\u001B[0m\u001B[1;33m.\u001B[0m\u001B[0masarray\u001B[0m\u001B[1;33m(\u001B[0m\u001B[0mother\u001B[0m\u001B[1;33m.\u001B[0m\u001B[0mindices\u001B[0m\u001B[1;33m,\u001B[0m \u001B[0mdtype\u001B[0m\u001B[1;33m=\u001B[0m\u001B[0midx_dtype\u001B[0m\u001B[1;33m)\u001B[0m\u001B[1;33m,\u001B[0m\u001B[1;33m\u001B[0m\u001B[1;33m\u001B[0m\u001B[0m\n\u001B[0;32m    520\u001B[0m            \u001B[0mother\u001B[0m\u001B[1;33m.\u001B[0m\u001B[0mdata\u001B[0m\u001B[1;33m,\u001B[0m\u001B[1;33m\u001B[0m\u001B[1;33m\u001B[0m\u001B[0m\n\u001B[1;32m--> 521\u001B[1;33m            indptr, indices, data)\n\u001B[0m\u001B[0;32m    522\u001B[0m \u001B[1;33m\u001B[0m\u001B[0m\n\u001B[0;32m    523\u001B[0m         \u001B[1;32mreturn\u001B[0m \u001B[0mself\u001B[0m\u001B[1;33m.\u001B[0m\u001B[0m__class__\u001B[0m\u001B[1;33m(\u001B[0m\u001B[1;33m(\u001B[0m\u001B[0mdata\u001B[0m\u001B[1;33m,\u001B[0m \u001B[0mindices\u001B[0m\u001B[1;33m,\u001B[0m \u001B[0mindptr\u001B[0m\u001B[1;33m)\u001B[0m\u001B[1;33m,\u001B[0m \u001B[0mshape\u001B[0m\u001B[1;33m=\u001B[0m\u001B[1;33m(\u001B[0m\u001B[0mM\u001B[0m\u001B[1;33m,\u001B[0m \u001B[0mN\u001B[0m\u001B[1;33m)\u001B[0m\u001B[1;33m)\u001B[0m\u001B[1;33m\u001B[0m\u001B[1;33m\u001B[0m\u001B[0m\n",
      "\u001B[1;31mKeyboardInterrupt\u001B[0m: "
     ]
    }
   ],
   "source": [
    "num_factors_vector = [i for i in range(50,1000,50)]\n",
    "map_vector = []\n",
    "for num_factors in num_factors_vector:\n",
    "    recommender = pure_SVD_icm()\n",
    "    recommender.fit(training_set=training,\n",
    "                    num_factors=num_factors,\n",
    "                    k=100)\n",
    "    map_ = evaluator.evaluate_already_trained(recommender=recommender)[2]\n",
    "    print(map_)\n",
    "    map_vector.append(map_)"
   ],
   "metadata": {
    "collapsed": false,
    "pycharm": {
     "name": "#%%\n"
    }
   }
  }
 ],
 "metadata": {
  "kernelspec": {
   "display_name": "Python 3",
   "language": "python",
   "name": "python3"
  },
  "language_info": {
   "codemirror_mode": {
    "name": "ipython",
    "version": 2
   },
   "file_extension": ".py",
   "mimetype": "text/x-python",
   "name": "python",
   "nbconvert_exporter": "python",
   "pygments_lexer": "ipython2",
   "version": "2.7.6"
  }
 },
 "nbformat": 4,
 "nbformat_minor": 0
}
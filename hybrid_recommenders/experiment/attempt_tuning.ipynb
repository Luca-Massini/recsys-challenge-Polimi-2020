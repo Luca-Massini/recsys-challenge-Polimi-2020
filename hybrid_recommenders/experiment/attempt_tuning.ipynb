{
 "cells": [
  {
   "cell_type": "code",
   "execution_count": 1,
   "outputs": [],
   "source": [
    "from hybrid_recommenders.experiment.cf_cbf_user_cf import cf_cbf_user_cf\n",
    "from utils.evaluator.evaluator import evaluator\n",
    "from utils.submission_helper import submission_helper\n",
    "from utils.data_manager.data_manager import data_manager\n",
    "from utils.data_manager.splitter import splitter\n",
    "import matplotlib.pyplot as plt\n",
    "import numpy as np\n",
    "import pandas as pd"
   ],
   "metadata": {
    "collapsed": false,
    "pycharm": {
     "name": "#%%\n"
    }
   }
  },
  {
   "cell_type": "code",
   "execution_count": 2,
   "outputs": [],
   "source": [
    "training, validation, test = splitter().get_train_evaluation_test(percentage_of_training_data=0.6,\n",
    "                                                                  percentage_of_validation_data=0.2)\n",
    "\n"
   ],
   "metadata": {
    "collapsed": false,
    "pycharm": {
     "name": "#%%\n"
    }
   }
  },
  {
   "cell_type": "code",
   "execution_count": null,
   "outputs": [
    {
     "name": "stdout",
     "output_type": "stream",
     "text": [
      "[[0, 0, 0, 0], [0, 0, 0, 1], [0, 0, 1, 0], [0, 0, 1, 1], [0, 1, 0, 0], [0, 1, 0, 1], [0, 1, 1, 0], [0, 1, 1, 1], [1, 0, 0, 0], [1, 0, 0, 1], [1, 0, 1, 0], [1, 0, 1, 1], [1, 1, 0, 0], [1, 1, 0, 1], [1, 1, 1, 0], [1, 1, 1, 1]]\n",
      "Similarity column 25975 ( 100 % ), 1264.79 column/sec, elapsed time 0.34 min\n",
      "ratings per user:  3\n",
      "the new URM matrix is ready. Shape:  (7947, 25975)\n",
      "the new urm is ready\n",
      "Similarity column 7947 ( 100 % ), 3075.83 column/sec, elapsed time 0.04 min\n",
      "Similarity column 25975 ( 100 % ), 1166.10 column/sec, elapsed time 0.37 min\n",
      "Similarity column 25975 ( 100 % ), 1266.39 column/sec, elapsed time 0.34 min\n",
      "P3alphaRecommender: URM Detected 461 (5.80 %) cold users.\n",
      "P3alphaRecommender: URM Detected 3638 (14.01 %) cold items.\n",
      "SLIMElasticNetRecommender: URM Detected 461 (5.80 %) cold users.\n",
      "SLIMElasticNetRecommender: URM Detected 3638 (14.01 %) cold items.\n",
      "multiprocess training started. Number of CPUs in use:  4\n",
      "the training of the slim elastic net is terminated!\n",
      "map:  0.040016068044426964  normalization:  [0, 0, 0, 0]   weights:  [0.1, 0.6, 0.1, 0.2]\n",
      "map:  0.03878560024772738  normalization:  [0, 0, 0, 1]   weights:  [0.1, 0.6, 0.1, 0.2]\n",
      "map:  0.039954925855592384  normalization:  [0, 0, 1, 0]   weights:  [0.1, 0.6, 0.1, 0.2]\n",
      "map:  0.03907361676664498  normalization:  [0, 0, 1, 1]   weights:  [0.1, 0.6, 0.1, 0.2]\n",
      "map:  0.041754485340395685  normalization:  [0, 1, 0, 0]   weights:  [0.1, 0.6, 0.1, 0.2]\n",
      "map:  0.041198851678879586  normalization:  [0, 1, 0, 1]   weights:  [0.1, 0.6, 0.1, 0.2]\n",
      "map:  0.04193526168847635  normalization:  [0, 1, 1, 0]   weights:  [0.1, 0.6, 0.1, 0.2]\n",
      "map:  0.04124562500266651  normalization:  [0, 1, 1, 1]   weights:  [0.1, 0.6, 0.1, 0.2]\n",
      "map:  0.04043618234986746  normalization:  [1, 0, 0, 0]   weights:  [0.1, 0.6, 0.1, 0.2]\n",
      "map:  0.03906619823567509  normalization:  [1, 0, 0, 1]   weights:  [0.1, 0.6, 0.1, 0.2]\n",
      "map:  0.040423740721020576  normalization:  [1, 0, 1, 0]   weights:  [0.1, 0.6, 0.1, 0.2]\n",
      "map:  0.03918539285283233  normalization:  [1, 0, 1, 1]   weights:  [0.1, 0.6, 0.1, 0.2]\n",
      "map:  0.04253738296182389  normalization:  [1, 1, 0, 0]   weights:  [0.1, 0.6, 0.1, 0.2]\n",
      "map:  0.04206409830971441  normalization:  [1, 1, 0, 1]   weights:  [0.1, 0.6, 0.1, 0.2]\n",
      "map:  0.042552460277082226  normalization:  [1, 1, 1, 0]   weights:  [0.1, 0.6, 0.1, 0.2]\n",
      "map:  0.04201379961515068  normalization:  [1, 1, 1, 1]   weights:  [0.1, 0.6, 0.1, 0.2]\n",
      "map:  0.0403475773981626  normalization:  [0, 0, 0, 0]   weights:  [0.2, 0.3, 0.1, 0.4]\n",
      "map:  0.03654884411134955  normalization:  [0, 0, 0, 1]   weights:  [0.2, 0.3, 0.1, 0.4]\n",
      "map:  0.040416345516391484  normalization:  [0, 0, 1, 0]   weights:  [0.2, 0.3, 0.1, 0.4]\n",
      "map:  0.03661033755016998  normalization:  [0, 0, 1, 1]   weights:  [0.2, 0.3, 0.1, 0.4]\n",
      "map:  0.04256327152260335  normalization:  [0, 1, 0, 0]   weights:  [0.2, 0.3, 0.1, 0.4]\n",
      "map:  0.03870688619304075  normalization:  [0, 1, 0, 1]   weights:  [0.2, 0.3, 0.1, 0.4]\n",
      "map:  0.04250171397364836  normalization:  [0, 1, 1, 0]   weights:  [0.2, 0.3, 0.1, 0.4]\n",
      "map:  0.038802535375180074  normalization:  [0, 1, 1, 1]   weights:  [0.2, 0.3, 0.1, 0.4]\n",
      "map:  0.038271975900425276  normalization:  [1, 0, 0, 0]   weights:  [0.2, 0.3, 0.1, 0.4]\n",
      "map:  0.03704177305298088  normalization:  [1, 0, 0, 1]   weights:  [0.2, 0.3, 0.1, 0.4]\n",
      "map:  0.038171095010667025  normalization:  [1, 0, 1, 0]   weights:  [0.2, 0.3, 0.1, 0.4]\n",
      "map:  0.037089508038638044  normalization:  [1, 0, 1, 1]   weights:  [0.2, 0.3, 0.1, 0.4]\n",
      "map:  0.04148537428176603  normalization:  [1, 1, 0, 0]   weights:  [0.2, 0.3, 0.1, 0.4]\n",
      "map:  0.039109533550967975  normalization:  [1, 1, 0, 1]   weights:  [0.2, 0.3, 0.1, 0.4]\n",
      "map:  0.041632937246303375  normalization:  [1, 1, 1, 0]   weights:  [0.2, 0.3, 0.1, 0.4]\n",
      "map:  0.039031742498052656  normalization:  [1, 1, 1, 1]   weights:  [0.2, 0.3, 0.1, 0.4]\n",
      "map:  0.040356161558431046  normalization:  [0, 0, 0, 0]   weights:  [0.2, 0.4, 0.1, 0.3]\n"
     ]
    }
   ],
   "source": [
    "weights = [0.1, 0.2, 0.3, 0.4, 0.5, 0.6, 0.7, 0.8, 0.9]\n",
    "weights_vector = []\n",
    "map_vector = []\n",
    "for w1 in weights:\n",
    "    for w2 in weights:\n",
    "        for w3 in weights:\n",
    "            for w4 in weights:\n",
    "                if w1+w2+w3+w4 == 1:\n",
    "                    weights_vector.append([w1,w2,w3,w4])\n",
    "boolean_ = [0,1]\n",
    "normalization = []\n",
    "for b1 in boolean_:\n",
    "    for b2 in boolean_:\n",
    "        for b3 in boolean_:\n",
    "            for b4 in boolean_:\n",
    "                normalization.append([b1,b2,b3,b4])\n",
    "print(normalization)\n",
    "recommender = cf_cbf_user_cf(weight=weights_vector[0], normalization=normalization[0])\n",
    "recommender.fit(training_set=training,\n",
    "                k_user_cf=200,\n",
    "                shrink_user_cf=18,\n",
    "                similarity_user_cf='tanimoto')\n",
    "map_ = evaluator.evaluate_already_trained(recommender=recommender)[2]\n",
    "if map_ > 0.04:\n",
    "    print(\"map: \", map_ , \" normalization: \", normalization[0], \"  weights: \", weights_vector[0])\n",
    "    for n in normalization[1:]:\n",
    "        recommender.change_normalization(new_normalization_vector=n)\n",
    "        map_ = evaluator.evaluate_already_trained(recommender=recommender)[2]\n",
    "        print(\"map: \", map_ , \" normalization: \", n, \"  weights: \", weights_vector[0])\n",
    "    recommender.change_normalization(new_normalization_vector=normalization[0])\n",
    "for param in weights_vector:\n",
    "    recommender.change_weight(new_weight=param)\n",
    "    map_ = evaluator.evaluate_already_trained(recommender=recommender)[2]\n",
    "    if map_ > 0.04:\n",
    "        print(\"map: \", map_ , \" normalization: \", normalization[0], \"  weights: \", param)\n",
    "        for n in normalization[1:]:\n",
    "            recommender.change_normalization(new_normalization_vector=n)\n",
    "            map_ = evaluator.evaluate_already_trained(recommender=recommender)[2]\n",
    "            print(\"map: \", map_ , \" normalization: \", n, \"  weights: \", param)\n",
    "        recommender.change_normalization(new_normalization_vector=normalization[0])\n",
    "\n",
    "\n"
   ],
   "metadata": {
    "collapsed": false,
    "pycharm": {
     "name": "#%%\n",
     "is_executing": true
    }
   }
  }
 ],
 "metadata": {
  "kernelspec": {
   "display_name": "Python 3",
   "language": "python",
   "name": "python3"
  },
  "language_info": {
   "codemirror_mode": {
    "name": "ipython",
    "version": 2
   },
   "file_extension": ".py",
   "mimetype": "text/x-python",
   "name": "python",
   "nbconvert_exporter": "python",
   "pygments_lexer": "ipython2",
   "version": "2.7.6"
  }
 },
 "nbformat": 4,
 "nbformat_minor": 0
}
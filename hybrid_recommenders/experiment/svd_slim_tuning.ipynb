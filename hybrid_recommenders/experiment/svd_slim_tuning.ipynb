{
 "cells": [
  {
   "cell_type": "code",
   "execution_count": 1,
   "outputs": [],
   "source": [
    "from hybrid_recommenders.experiment.svd__and_slim import svd_and_slim\n",
    "from utils.evaluator.evaluator import evaluator\n",
    "from utils.submission_helper import submission_helper\n",
    "from utils.data_manager.data_manager import data_manager\n",
    "from utils.data_manager.splitter import splitter\n",
    "import matplotlib.pyplot as plt\n",
    "import numpy as np\n",
    "import pandas as pd"
   ],
   "metadata": {
    "collapsed": false,
    "pycharm": {
     "name": "#%%\n"
    }
   }
  },
  {
   "cell_type": "code",
   "execution_count": 2,
   "outputs": [],
   "source": [
    "training, validation, test = splitter().get_train_evaluation_test(percentage_of_training_data=0.6,\n",
    "                                                                  percentage_of_validation_data=0.2)\n"
   ],
   "metadata": {
    "collapsed": false,
    "pycharm": {
     "name": "#%%\n"
    }
   }
  },
  {
   "cell_type": "code",
   "execution_count": 3,
   "outputs": [
    {
     "name": "stdout",
     "output_type": "stream",
     "text": [
      "Similarity column 25975 ( 100 % ), 1483.28 column/sec, elapsed time 0.29 min\n",
      "ratings per user:  3\n",
      "the new URM matrix is ready. Shape:  (7947, 25975)\n",
      "SLIMElasticNetRecommender: URM Detected 461 (5.80 %) cold users.\n",
      "SLIMElasticNetRecommender: URM Detected 3638 (14.01 %) cold items.\n",
      "multiprocess training started. Number of CPUs in use:  4\n",
      "the training of the slim elastic net is terminated!\n",
      "P3alphaRecommender: URM Detected 461 (5.80 %) cold users.\n",
      "P3alphaRecommender: URM Detected 3638 (14.01 %) cold items.\n",
      "map:  0.030297720798656735  weight:  0.1\n",
      "map:  0.030979630722634537  weight:  0.2\n",
      "map:  0.03162022692058699  weight:  0.3\n",
      "map:  0.03202367467583801  weight:  0.4\n",
      "map:  0.0328831328459299  weight:  0.5\n",
      "map:  0.03326095143846896  weight:  0.6\n",
      "map:  0.0335881965625237  weight:  0.7\n",
      "map:  0.033305605241168774  weight:  0.8\n",
      "map:  0.032885808798443904  weight:  0.9\n"
     ]
    },
    {
     "name": "stderr",
     "output_type": "stream",
     "text": [
      "C:\\Users\\Luca Massini\\PycharmProjects\\recsys-challenge-Polimi-2020\\hybrid_recommenders\\experiment\\svd__and_slim.py:39: RuntimeWarning: invalid value encountered in true_divide\n",
      "  scores_slim /= scores_slim.max()\n",
      "C:\\Users\\Luca Massini\\PycharmProjects\\recsys-challenge-Polimi-2020\\hybrid_recommenders\\experiment\\svd__and_slim.py:41: RuntimeWarning: invalid value encountered in true_divide\n",
      "  scores_svd /= scores_svd.max()\n"
     ]
    },
    {
     "data": {
      "text/plain": "[0.030297720798656735,\n 0.030979630722634537,\n 0.03162022692058699,\n 0.03202367467583801,\n 0.0328831328459299,\n 0.03326095143846896,\n 0.0335881965625237,\n 0.033305605241168774,\n 0.032885808798443904]"
     },
     "execution_count": 3,
     "metadata": {},
     "output_type": "execute_result"
    }
   ],
   "source": [
    "weights = [0.1, 0.2, 0.3, 0.4, 0.5, 0.6, 0.7, 0.8, 0.9]\n",
    "map_vector = []\n",
    "recommender = svd_and_slim(weight=weights[0])\n",
    "recommender.fit(training_set=training)\n",
    "map_ = evaluator.evaluate_already_trained(recommender=recommender)[2]\n",
    "map_vector.append(map_)\n",
    "print(\"map: \", map_, \" weight: \", weights[0])\n",
    "for w in weights[1:]:\n",
    "    recommender.change_weight(new_weight=w)\n",
    "    map_ = evaluator.evaluate_already_trained(recommender=recommender)[2]\n",
    "    print(\"map: \", map_, \" weight: \", w)\n",
    "    map_vector.append(map_)\n",
    "map_vector\n"
   ],
   "metadata": {
    "collapsed": false,
    "pycharm": {
     "name": "#%%\n"
    }
   }
  }
 ],
 "metadata": {
  "kernelspec": {
   "display_name": "Python 3",
   "language": "python",
   "name": "python3"
  },
  "language_info": {
   "codemirror_mode": {
    "name": "ipython",
    "version": 2
   },
   "file_extension": ".py",
   "mimetype": "text/x-python",
   "name": "python",
   "nbconvert_exporter": "python",
   "pygments_lexer": "ipython2",
   "version": "2.7.6"
  }
 },
 "nbformat": 4,
 "nbformat_minor": 0
}
{
 "cells": [
  {
   "cell_type": "code",
   "execution_count": 1,
   "metadata": {
    "collapsed": true
   },
   "outputs": [],
   "source": [
    "from hybrid_recommenders.graph_item_knn_cf_cbf.graph_based_item_knn_cf_cbf import  graph_based_item_item_knn_cf_cbf\n",
    "from utils.evaluator.evaluator import evaluator\n",
    "from utils.submission_helper import submission_helper\n",
    "from utils.data_manager.data_manager import data_manager\n",
    "from utils.data_manager.splitter import splitter\n",
    "import matplotlib.pyplot as plt\n",
    "import numpy as np\n",
    "import pandas as pd"
   ]
  },
  {
   "cell_type": "code",
   "execution_count": 2,
   "outputs": [],
   "source": [
    "training, validation, test = splitter().get_train_evaluation_test(percentage_of_training_data=0.6,\n",
    "                                                                  percentage_of_validation_data=0.2)"
   ],
   "metadata": {
    "collapsed": false,
    "pycharm": {
     "name": "#%%\n"
    }
   }
  },
  {
   "cell_type": "code",
   "execution_count": 3,
   "outputs": [
    {
     "name": "stdout",
     "output_type": "stream",
     "text": [
      "P3alphaRecommender: URM Detected 461 (5.80 %) cold users.\n",
      "P3alphaRecommender: URM Detected 5495 (21.15 %) cold items.\n",
      "Similarity column 25975 ( 100 % ), 1478.23 column/sec, elapsed time 0.29 min\n",
      "Similarity column 25975 ( 100 % ), 1480.40 column/sec, elapsed time 0.29 min\n",
      "0.038595275946317106\n",
      "P3alphaRecommender: URM Detected 461 (5.80 %) cold users.\n",
      "P3alphaRecommender: URM Detected 5495 (21.15 %) cold items.\n",
      "Similarity column 25975 ( 100 % ), 1496.21 column/sec, elapsed time 0.29 min\n",
      "Similarity column 25975 ( 100 % ), 1517.77 column/sec, elapsed time 0.29 min\n",
      "0.038770212475271834\n",
      "P3alphaRecommender: URM Detected 461 (5.80 %) cold users.\n",
      "P3alphaRecommender: URM Detected 5495 (21.15 %) cold items.\n",
      "Similarity column 25975 ( 100 % ), 1437.13 column/sec, elapsed time 0.30 min\n",
      "Similarity column 25975 ( 100 % ), 1501.73 column/sec, elapsed time 0.29 min\n",
      "0.03878545266422455\n",
      "P3alphaRecommender: URM Detected 461 (5.80 %) cold users.\n",
      "P3alphaRecommender: URM Detected 5495 (21.15 %) cold items.\n",
      "Similarity column 25975 ( 100 % ), 1484.02 column/sec, elapsed time 0.29 min\n",
      "Similarity column 25975 ( 100 % ), 1517.02 column/sec, elapsed time 0.29 min\n",
      "0.03864501974935242\n",
      "P3alphaRecommender: URM Detected 461 (5.80 %) cold users.\n",
      "P3alphaRecommender: URM Detected 5495 (21.15 %) cold items.\n",
      "Similarity column 25975 ( 100 % ), 1468.67 column/sec, elapsed time 0.29 min\n",
      "Similarity column 25975 ( 100 % ), 1340.55 column/sec, elapsed time 0.32 min\n",
      "0.03852760501739948\n",
      "P3alphaRecommender: URM Detected 461 (5.80 %) cold users.\n",
      "P3alphaRecommender: URM Detected 5495 (21.15 %) cold items.\n",
      "Similarity column 25975 ( 100 % ), 1440.09 column/sec, elapsed time 0.30 min\n",
      "Similarity column 25975 ( 100 % ), 1515.58 column/sec, elapsed time 0.29 min\n",
      "0.038070206271013825\n",
      "P3alphaRecommender: URM Detected 461 (5.80 %) cold users.\n",
      "P3alphaRecommender: URM Detected 5495 (21.15 %) cold items.\n",
      "Similarity column 25975 ( 100 % ), 1446.81 column/sec, elapsed time 0.30 min\n",
      "Similarity column 25975 ( 100 % ), 1491.21 column/sec, elapsed time 0.29 min\n",
      "0.036723758079272056\n",
      "P3alphaRecommender: URM Detected 461 (5.80 %) cold users.\n",
      "P3alphaRecommender: URM Detected 5495 (21.15 %) cold items.\n",
      "Similarity column 25975 ( 100 % ), 1390.03 column/sec, elapsed time 0.31 min\n",
      "Similarity column 25975 ( 100 % ), 1363.88 column/sec, elapsed time 0.32 min\n",
      "0.03495265471914909\n",
      "P3alphaRecommender: URM Detected 461 (5.80 %) cold users.\n",
      "P3alphaRecommender: URM Detected 5495 (21.15 %) cold items.\n",
      "Similarity column 25975 ( 100 % ), 1308.39 column/sec, elapsed time 0.33 min\n",
      "Similarity column 25975 ( 100 % ), 1467.43 column/sec, elapsed time 0.30 min\n",
      "0.032709507176718944\n",
      "[0.038595275946317106, 0.038770212475271834, 0.03878545266422455, 0.03864501974935242, 0.03852760501739948, 0.038070206271013825, 0.036723758079272056, 0.03495265471914909, 0.032709507176718944]\n"
     ]
    }
   ],
   "source": [
    "ensemble_weights = [i for i in np.arange(0.1,1.0, 0.1)]\n",
    "map_vector = []\n",
    "for ensemble_weight in ensemble_weights:\n",
    "    recommender =  graph_based_item_item_knn_cf_cbf(weight1=0.5,\n",
    "                                                weight2=0.5,\n",
    "                                                ensemble_weight=ensemble_weight,\n",
    "                                                first_similarity='cosine',\n",
    "                                                second_similarity='dice')\n",
    "    recommender.fit(training_set=training.copy(),\n",
    "                    k_graph=450,\n",
    "                    alpha=0.3,\n",
    "                    k1_cf_cbf=150,\n",
    "                    k2_cf_cbf=70,\n",
    "                    shrink1_cf_cbf=450,\n",
    "                    shrink2_cf_cbf=246)\n",
    "    map_ = evaluator.evaluate_already_trained(recommender=recommender)[2]\n",
    "    print(map_)\n",
    "    map_vector.append(map_)\n",
    "print(map_vector)\n"
   ],
   "metadata": {
    "collapsed": false,
    "pycharm": {
     "name": "#%%\n"
    }
   }
  },
  {
   "cell_type": "code",
   "execution_count": 4,
   "outputs": [
    {
     "data": {
      "text/plain": "0.30000000000000004"
     },
     "execution_count": 4,
     "metadata": {},
     "output_type": "execute_result"
    }
   ],
   "source": [
    "ensemble_weight = ensemble_weights[np.argmax(map_vector)]\n",
    "ensemble_weight"
   ],
   "metadata": {
    "collapsed": false,
    "pycharm": {
     "name": "#%%\n"
    }
   }
  },
  {
   "cell_type": "code",
   "execution_count": 5,
   "outputs": [
    {
     "name": "stdout",
     "output_type": "stream",
     "text": [
      "P3alphaRecommender: URM Detected 1079 (4.15 %) cold items.\n",
      "Similarity column 25975 ( 100 % ), 1420.54 column/sec, elapsed time 0.30 min\n",
      "Similarity column 25975 ( 100 % ), 1445.26 column/sec, elapsed time 0.30 min\n"
     ]
    }
   ],
   "source": [
    "recommender_submission = graph_based_item_item_knn_cf_cbf(weight1=0.5,\n",
    "                                                          weight2=0.5,\n",
    "                                                          ensemble_weight=0.3,\n",
    "                                                          first_similarity='cosine',\n",
    "                                                          second_similarity='dice')\n",
    "recommender_submission.fit(training_set=data_manager().get_urm(),\n",
    "                           k_graph=450,\n",
    "                           alpha=0.3,\n",
    "                           k1_cf_cbf=150,\n",
    "                           k2_cf_cbf=70,\n",
    "                           shrink1_cf_cbf=450,\n",
    "                           shrink2_cf_cbf=246)\n",
    "submission_helper(name_of_the_file='ensemble',\n",
    "                  recommender=recommender_submission).build_submission()\n"
   ],
   "metadata": {
    "collapsed": false,
    "pycharm": {
     "name": "#%%\n"
    }
   }
  }
 ],
 "metadata": {
  "kernelspec": {
   "display_name": "Python 3",
   "language": "python",
   "name": "python3"
  },
  "language_info": {
   "codemirror_mode": {
    "name": "ipython",
    "version": 2
   },
   "file_extension": ".py",
   "mimetype": "text/x-python",
   "name": "python",
   "nbconvert_exporter": "python",
   "pygments_lexer": "ipython2",
   "version": "2.7.6"
  }
 },
 "nbformat": 4,
 "nbformat_minor": 0
}
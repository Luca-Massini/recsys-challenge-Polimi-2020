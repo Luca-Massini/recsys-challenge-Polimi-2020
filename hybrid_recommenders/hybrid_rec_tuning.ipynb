{
 "cells": [
  {
   "cell_type": "code",
   "execution_count": 1,
   "outputs": [],
   "source": [
    "from hybrid_recommenders.hybrid_rec import hybrid_rec\n",
    "from utils.evaluator.evaluator import evaluator\n",
    "from utils.submission_helper import submission_helper\n",
    "from utils.data_manager.data_manager import data_manager\n",
    "from utils.data_manager.splitter import splitter\n",
    "import matplotlib.pyplot as plt\n",
    "import numpy as np\n",
    "import pandas as pd"
   ],
   "metadata": {
    "collapsed": false,
    "pycharm": {
     "name": "#%%\n"
    }
   }
  },
  {
   "cell_type": "code",
   "execution_count": 2,
   "outputs": [],
   "source": [
    "training, validation, test = splitter().get_train_evaluation_test(percentage_of_training_data=0.6,\n",
    "                                                                  percentage_of_validation_data=0.2)\n",
    "\n"
   ],
   "metadata": {
    "collapsed": false,
    "pycharm": {
     "name": "#%%\n"
    }
   }
  },
  {
   "cell_type": "code",
   "execution_count": null,
   "outputs": [],
   "source": [
    "weights_vector = [0.1, 0.2, 0.3, 0.4, 0.5, 0.6, 0.7, 0.8, 0.9]\n",
    "map_vector = []\n",
    "recommender = hybrid_rec(weights=weights_vector[0])\n",
    "recommender.fit(training_set=training,\n",
    "                k_cf_cbf=280,\n",
    "                shrink_cf_cbf=450,\n",
    "                similarity_cf_cbf='cosine',\n",
    "                k_cf_user=300,\n",
    "                shrink_cf_user=18,\n",
    "                similarity_cf_user='tanimoto',\n",
    "                k_cbf=90,\n",
    "                similarity_cbf='jaccard',\n",
    "                shrink_cbf=55)\n",
    "map_ = evaluator.evaluate_already_trained(recommender=recommender)[2]\n",
    "map_vector.append(map_)\n",
    "print(\"map: \", map_, \" weight: \", weights_vector[0])\n",
    "for w in weights_vector[1:]:\n",
    "    recommender.change_weights(new_weights=w)\n",
    "    map_ = evaluator.evaluate_already_trained(recommender=recommender)[2]\n",
    "    map_vector.append(map_)\n",
    "    print(\"map: \", map_, \" weight: \", w)\n",
    "map_vector"
   ],
   "metadata": {
    "collapsed": false,
    "pycharm": {
     "name": "#%%\n"
    }
   }
  },
  {
   "cell_type": "code",
   "execution_count": null,
   "outputs": [],
   "source": [
    "map_vector = []\n",
    "weights = [0.1, 0.2, 0.3, 0.4, 0.5, 0.6, 0.7, 0.8, 0.9]\n",
    "weights_vector = []\n",
    "for w1 in weights:\n",
    "    for w2 in weights:\n",
    "        for w3 in weights:\n",
    "            if w1+w2+w3 == 1:\n",
    "                weights_vector.append([w1,w2,w3])\n",
    "\n",
    "recommender = hybrid_rec(weights=weights_vector[0])\n",
    "recommender.fit(training_set=training,\n",
    "                k_cf_cbf=280,\n",
    "                shrink_cf_cbf=450,\n",
    "                similarity_cf_cbf='cosine',\n",
    "                k_cf_user=300,\n",
    "                shrink_cf_user=18,\n",
    "                similarity_cf_user='tanimoto',\n",
    "                k_cbf=90,\n",
    "                similarity_cbf='jaccard',\n",
    "                shrink_cbf=55,\n",
    "                k_graph=200,\n",
    "                alpha=0.5)\n",
    "map_ = evaluator.evaluate_already_trained(recommender=recommender)[2]\n",
    "map_vector.append(map_)\n",
    "print(\"map: \", map_, \" weights: \", weights_vector[0])\n",
    "for w in weights_vector[1:]:\n",
    "    recommender.change_weights(new_weights=w)\n",
    "    map_ = evaluator.evaluate_already_trained(recommender=recommender)[2]\n",
    "    map_vector.append(map_)\n",
    "    print(\"map: \", map_, \" weights: \", w)\n",
    "best_weights = weights_vector[np.argmax(map_vector)]\n",
    "best_map = np.max(map_vector)\n",
    "print(\"best map: \", best_map, \"  with weights: \", best_weights)"
   ],
   "metadata": {
    "collapsed": false,
    "pycharm": {
     "name": "#%%\n"
    }
   }
  },
  {
   "cell_type": "code",
   "execution_count": null,
   "outputs": [],
   "source": [
    "recommender = hybrid_rec(weights=[0.2, 0.5, 0.3])\n",
    "recommender.fit(training_set=data_manager().get_urm(),\n",
    "                k_cf_cbf=280,\n",
    "                shrink_cf_cbf=450,\n",
    "                similarity_cf_cbf='cosine',\n",
    "                k_cf_user=300,\n",
    "                shrink_cf_user=18,\n",
    "                similarity_cf_user='tanimoto',\n",
    "                k_cbf=90,\n",
    "                similarity_cbf='jaccard',\n",
    "                shrink_cbf=55,\n",
    "                k_graph=200,\n",
    "                alpha=0.5)\n",
    "submission_helper(name_of_the_file='prova', recommender=recommender).build_submission()\n",
    "\n"
   ],
   "metadata": {
    "collapsed": false,
    "pycharm": {
     "name": "#%%\n"
    }
   }
  },
  {
   "cell_type": "code",
   "execution_count": 3,
   "outputs": [
    {
     "name": "stdout",
     "output_type": "stream",
     "text": [
      "Similarity column 25975 ( 100 % ), 1158.98 column/sec, elapsed time 0.37 min\n",
      "ratings per user:  3\n",
      "the new URM matrix is ready. Shape:  (7947, 25975)\n",
      "Similarity column 25975 ( 100 % ), 1202.72 column/sec, elapsed time 0.36 min\n",
      "Similarity column 7947 ( 100 % ), 3133.68 column/sec, elapsed time 0.04 min\n",
      "P3alphaRecommender: URM Detected 461 (5.80 %) cold users.\n",
      "P3alphaRecommender: URM Detected 3629 (13.97 %) cold items.\n",
      "SLIMElasticNetRecommender: URM Detected 461 (5.80 %) cold users.\n",
      "SLIMElasticNetRecommender: URM Detected 3629 (13.97 %) cold items.\n",
      "multiprocess training started. Number of CPUs in use:  4\n",
      "the training of the slim elastic net is terminated!\n",
      "map:  0.03746876914732433  weights:  [0.1, 0.1, 0.8, 0.8]\n",
      "map:  0.037748596046996125  weights:  [0.1, 0.2, 0.7, 0.8]\n",
      "map:  0.03799833988841734  weights:  [0.1, 0.3, 0.6, 0.8]\n",
      "map:  0.03830154233593435  weights:  [0.1, 0.4, 0.5, 0.8]\n",
      "map:  0.038247365097363956  weights:  [0.1, 0.5, 0.4, 0.8]\n",
      "map:  0.0381069279467614  weights:  [0.1, 0.6, 0.3, 0.8]\n",
      "map:  0.0377816451109815  weights:  [0.1, 0.7, 0.2, 0.8]\n",
      "map:  0.03719637095741738  weights:  [0.1, 0.8, 0.1, 0.8]\n",
      "map:  0.03757155794216368  weights:  [0.2, 0.1, 0.7, 0.8]\n",
      "map:  0.037838374309768955  weights:  [0.2, 0.2, 0.6, 0.8]\n",
      "map:  0.037864860326325495  weights:  [0.2, 0.3, 0.5, 0.8]\n",
      "map:  0.03820521367219669  weights:  [0.2, 0.4, 0.4, 0.8]\n",
      "map:  0.03798585353019303  weights:  [0.2, 0.5, 0.3, 0.8]\n",
      "map:  0.03777944818913786  weights:  [0.2, 0.6, 0.2, 0.8]\n",
      "map:  0.03768305707124856  weights:  [0.3, 0.1, 0.6, 0.8]\n",
      "map:  0.03758528086944148  weights:  [0.3, 0.2, 0.5, 0.8]\n",
      "map:  0.037860905320552425  weights:  [0.3, 0.3, 0.4, 0.8]\n",
      "map:  0.038199251725575874  weights:  [0.3, 0.4, 0.3, 0.8]\n",
      "map:  0.03746855899637017  weights:  [0.3, 0.5, 0.2, 0.8]\n",
      "map:  0.037344331578567876  weights:  [0.4, 0.1, 0.5, 0.8]\n",
      "map:  0.03738811330994615  weights:  [0.4, 0.2, 0.4, 0.8]\n",
      "map:  0.03776219331835319  weights:  [0.4, 0.3, 0.3, 0.8]\n",
      "map:  0.037402464268569184  weights:  [0.4, 0.4, 0.2, 0.8]\n",
      "map:  0.03713158583740348  weights:  [0.4, 0.5, 0.1, 0.8]\n",
      "map:  0.03701980616903566  weights:  [0.5, 0.1, 0.4, 0.8]\n",
      "map:  0.03733698916682397  weights:  [0.5, 0.2, 0.3, 0.8]\n",
      "map:  0.03718028814081999  weights:  [0.5, 0.3, 0.2, 0.8]\n",
      "map:  0.036845976377845265  weights:  [0.5, 0.4, 0.1, 0.8]\n",
      "map:  0.036938340328301095  weights:  [0.6, 0.1, 0.3, 0.8]\n",
      "map:  0.03701439237730846  weights:  [0.6, 0.2, 0.2, 0.8]\n",
      "map:  0.03661035026905463  weights:  [0.7, 0.1, 0.2, 0.8]\n",
      "map:  0.03588273830996937  weights:  [0.8, 0.1, 0.1, 0.8]\n",
      "best map:  0.03830154233593435   with weights:  [0.1, 0.4, 0.5, 0.8]\n"
     ]
    }
   ],
   "source": [
    "import random\n",
    "map_vector = []\n",
    "weights = [0.1, 0.2, 0.3, 0.4, 0.5, 0.6, 0.7, 0.8, 0.9]\n",
    "weights_vector = []\n",
    "for w1 in weights:\n",
    "    for w2 in weights:\n",
    "        for w3 in weights:\n",
    "            if w1+w2+w3== 1:\n",
    "                weights_vector.append([w1,w2,w3, 0.8])\n",
    "recommender = hybrid_rec(weights=weights_vector[0], enriching_factor=3)\n",
    "recommender.fit(training_set=training,\n",
    "                k_cf_cbf=280,\n",
    "                shrink_cf_cbf=450,\n",
    "                similarity_cf_cbf='cosine',\n",
    "                k_cf_user=300,\n",
    "                shrink_cf_user=18,\n",
    "                similarity_cf_user='tanimoto',\n",
    "                k_cbf=90,\n",
    "                similarity_cbf='jaccard',\n",
    "                shrink_cbf=55,\n",
    "                k_graph=200,\n",
    "                alpha=0.5,\n",
    "                k_slim=450,\n",
    "                l2_regularization=0.005,\n",
    "                l1_regularization=5e-3)\n",
    "map_ = evaluator.evaluate_already_trained(recommender=recommender)[2]\n",
    "map_vector.append(map_)\n",
    "print(\"map: \", map_, \" weights: \", weights_vector[0])\n",
    "for w in weights_vector[1:]:\n",
    "    recommender.change_weights(new_weights=w)\n",
    "    map_ = evaluator.evaluate_already_trained(recommender=recommender)[2]\n",
    "    map_vector.append(map_)\n",
    "    print(\"map: \", map_, \" weights: \", w)\n",
    "best_weights = weights_vector[np.argmax(map_vector)]\n",
    "best_map = np.max(map_vector)\n",
    "print(\"best map: \", best_map, \"  with weights: \", best_weights)"
   ],
   "metadata": {
    "collapsed": false,
    "pycharm": {
     "name": "#%%\n"
    }
   }
  }
 ],
 "metadata": {
  "kernelspec": {
   "display_name": "Python 3",
   "language": "python",
   "name": "python3"
  },
  "language_info": {
   "codemirror_mode": {
    "name": "ipython",
    "version": 2
   },
   "file_extension": ".py",
   "mimetype": "text/x-python",
   "name": "python",
   "nbconvert_exporter": "python",
   "pygments_lexer": "ipython2",
   "version": "2.7.6"
  }
 },
 "nbformat": 4,
 "nbformat_minor": 0
}
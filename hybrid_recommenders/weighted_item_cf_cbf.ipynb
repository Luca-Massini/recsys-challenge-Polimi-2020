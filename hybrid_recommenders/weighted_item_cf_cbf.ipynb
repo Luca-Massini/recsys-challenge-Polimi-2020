{
 "cells": [
  {
   "cell_type": "code",
   "execution_count": 1,
   "metadata": {
    "collapsed": true
   },
   "outputs": [],
   "source": [
    "\n",
    "from hybrid_recommenders.item_knn_cf_cbf_weighted import item_knn_cf_cbf_weighted\n",
    "from utils.evaluator.evaluator import evaluator\n",
    "from utils.submission_helper import submission_helper\n",
    "from utils.data_manager.data_manager import data_manager\n",
    "from utils.data_manager.splitter import splitter\n",
    "import matplotlib.pyplot as plt\n",
    "import numpy as np\n",
    "import pandas as pd"
   ]
  },
  {
   "cell_type": "code",
   "execution_count": 2,
   "outputs": [],
   "source": [
    "training, validation, test = splitter().get_train_evaluation_test(percentage_of_training_data=0.6,\n",
    "                                                                  percentage_of_validation_data=0.2)"
   ],
   "metadata": {
    "collapsed": false,
    "pycharm": {
     "name": "#%%\n"
    }
   }
  },
  {
   "cell_type": "code",
   "execution_count": 3,
   "outputs": [
    {
     "name": "stdout",
     "output_type": "stream",
     "text": [
      "weights 1:  [0.05, 0.1, 0.15000000000000002, 0.2, 0.25, 0.3, 0.35000000000000003, 0.4, 0.45, 0.5, 0.55, 0.6000000000000001, 0.6500000000000001, 0.7000000000000001, 0.7500000000000001, 0.8, 0.8500000000000001, 0.9000000000000001, 0.9500000000000001]\n",
      "[0.05, 0.1, 0.15000000000000002, 0.2, 0.25, 0.3, 0.35000000000000003, 0.4, 0.45, 0.5, 0.55, 0.6000000000000001, 0.6500000000000001, 0.7000000000000001, 0.7500000000000001, 0.8, 0.8500000000000001, 0.9000000000000001, 0.9500000000000001]\n",
      "weights2:  [0.9500000000000001, 0.9000000000000001, 0.8500000000000001, 0.8, 0.7500000000000001, 0.7000000000000001, 0.6500000000000001, 0.6000000000000001, 0.55, 0.5, 0.45, 0.4, 0.35000000000000003, 0.3, 0.25, 0.2, 0.15000000000000002, 0.1, 0.05]\n",
      "[[0.05, 0.9500000000000001], [0.1, 0.9000000000000001], [0.15000000000000002, 0.8500000000000001], [0.2, 0.8], [0.25, 0.7500000000000001], [0.3, 0.7000000000000001], [0.35000000000000003, 0.6500000000000001], [0.4, 0.6000000000000001], [0.45, 0.55], [0.55, 0.45], [0.6000000000000001, 0.4], [0.6500000000000001, 0.35000000000000003], [0.7000000000000001, 0.3], [0.7500000000000001, 0.25], [0.8, 0.2], [0.8500000000000001, 0.15000000000000002], [0.9000000000000001, 0.1], [0.9500000000000001, 0.05], [0.5, 0.5]]\n"
     ]
    }
   ],
   "source": [
    "weights1 = [i for i in np.arange(0.05, 1, 0.05)]\n",
    "print(\"weights 1: \", weights1)\n",
    "print(weights1)\n",
    "weights2 = list(reversed([i for i in np.arange(0.05, 1, 0.05)]))\n",
    "print(\"weights2: \", weights2)\n",
    "weights = list(zip(weights1,weights2))\n",
    "weights=[list(elem ) for elem in weights]\n",
    "weights = [i for i in weights if i[0]!=i[1]]\n",
    "weights.append([0.5, 0.5])\n",
    "print(weights)"
   ],
   "metadata": {
    "collapsed": false,
    "pycharm": {
     "name": "#%%\n"
    }
   }
  },
  {
   "cell_type": "code",
   "execution_count": 4,
   "outputs": [
    {
     "name": "stdout",
     "output_type": "stream",
     "text": [
      "Similarity column 25975 ( 100 % ), 3014.70 column/sec, elapsed time 0.14 min\n",
      "Similarity column 25975 ( 100 % ), 1393.28 column/sec, elapsed time 0.31 min\n",
      "first evaluation:  0.022030330870803614\n",
      "0.022372282653339102\n",
      "0.02339985903331212\n",
      "0.024941610624197214\n",
      "0.026285505884899644\n",
      "0.027729029353835866\n",
      "0.029199123077368216\n",
      "0.030609068182515155\n",
      "0.03168948998751933\n",
      "0.0339445921805636\n",
      "0.034857030655372254\n",
      "0.036177730511833664\n",
      "0.03614140305988955\n",
      "0.03638561361701767\n",
      "0.03605312097610516\n",
      "0.03488644110879144\n",
      "0.03300996599121965\n",
      "0.030696830067672935\n",
      "0.033109279202905434\n"
     ]
    },
    {
     "data": {
      "text/plain": "[0.022030330870803614,\n 0.022372282653339102,\n 0.02339985903331212,\n 0.024941610624197214,\n 0.026285505884899644,\n 0.027729029353835866,\n 0.029199123077368216,\n 0.030609068182515155,\n 0.03168948998751933,\n 0.0339445921805636,\n 0.034857030655372254,\n 0.036177730511833664,\n 0.03614140305988955,\n 0.03638561361701767,\n 0.03605312097610516,\n 0.03488644110879144,\n 0.03300996599121965,\n 0.030696830067672935,\n 0.033109279202905434]"
     },
     "execution_count": 4,
     "metadata": {},
     "output_type": "execute_result"
    }
   ],
   "source": [
    "map_vector = []\n",
    "cf_similarity = 'asymmetric'\n",
    "cbf_similarity = 'jaccard'\n",
    "k_couple = weights[0]\n",
    "recommender = item_knn_cf_cbf_weighted(weight_cf=k_couple[0],\n",
    "                                        weight_cbf=k_couple[1],\n",
    "                                        cf_similarity=cf_similarity,\n",
    "                                        cbf_similarity=cbf_similarity)\n",
    "recommender.fit(training_set=training,\n",
    "                    k_cf=310,\n",
    "                    k_cbf=90,\n",
    "                    shrink_cf=246,\n",
    "                    shrink_cbf=36)\n",
    "map_vector.append(evaluator.evaluate_already_trained(recommender=recommender)[2])\n",
    "print(\"first evaluation: \", map_vector[-1])\n",
    "for k_couple in weights[1:]:\n",
    "    recommender.set_weights(k_couple[0], k_couple[1])\n",
    "    map_ = evaluator.evaluate_already_trained(recommender=recommender)[2]\n",
    "    print(map_)\n",
    "    map_vector.append(map_)\n",
    "map_vector"
   ],
   "metadata": {
    "collapsed": false,
    "pycharm": {
     "name": "#%%\n"
    }
   }
  },
  {
   "cell_type": "code",
   "execution_count": 5,
   "outputs": [
    {
     "data": {
      "text/plain": "[0.7500000000000001, 0.25]"
     },
     "execution_count": 5,
     "metadata": {},
     "output_type": "execute_result"
    }
   ],
   "source": [
    "chosen_weights = weights[np.argmax([map_vector])]\n",
    "chosen_weights"
   ],
   "metadata": {
    "collapsed": false,
    "pycharm": {
     "name": "#%%\n"
    }
   }
  },
  {
   "cell_type": "code",
   "execution_count": 6,
   "outputs": [
    {
     "data": {
      "text/plain": "0.03638561361701767"
     },
     "execution_count": 6,
     "metadata": {},
     "output_type": "execute_result"
    }
   ],
   "source": [
    "np.max(map_vector)\n"
   ],
   "metadata": {
    "collapsed": false,
    "pycharm": {
     "name": "#%%\n"
    }
   }
  },
  {
   "cell_type": "code",
   "execution_count": 4,
   "outputs": [
    {
     "name": "stdout",
     "output_type": "stream",
     "text": [
      "Similarity column 25975 ( 100 % ), 2478.98 column/sec, elapsed time 0.17 min\n",
      "Similarity column 25975 ( 100 % ), 1023.04 column/sec, elapsed time 0.42 min\n"
     ]
    },
    {
     "data": {
      "text/plain": "0.03638561361701767"
     },
     "execution_count": 4,
     "metadata": {},
     "output_type": "execute_result"
    }
   ],
   "source": [
    "submission_recommender = item_knn_cf_cbf_weighted(weight_cf=0.5,\n",
    "                                                  weight_cbf=0.5,\n",
    "                                                  cf_similarity='asymmetric',\n",
    "                                                  cbf_similarity='jaccard')\n",
    "submission_recommender.fit(training_set=training.copy(),\n",
    "                           k_cf=310,\n",
    "                           k_cbf=90,\n",
    "                           shrink_cf=246,\n",
    "                           shrink_cbf=36)\n",
    "map_ = evaluator.evaluate_already_trained(recommender=submission_recommender)[2]\n",
    "map_"
   ],
   "metadata": {
    "collapsed": false,
    "pycharm": {
     "name": "#%%\n"
    }
   }
  }
 ],
 "metadata": {
  "kernelspec": {
   "display_name": "Python 3",
   "language": "python",
   "name": "python3"
  },
  "language_info": {
   "codemirror_mode": {
    "name": "ipython",
    "version": 2
   },
   "file_extension": ".py",
   "mimetype": "text/x-python",
   "name": "python",
   "nbconvert_exporter": "python",
   "pygments_lexer": "ipython2",
   "version": "2.7.6"
  }
 },
 "nbformat": 4,
 "nbformat_minor": 0
}